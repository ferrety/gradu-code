{
 "cells": [
  {
   "cell_type": "markdown",
   "metadata": {},
   "source": [
    "# Trying to calculate ideal and nadir using clustering"
   ]
  },
  {
   "cell_type": "code",
   "execution_count": 1,
   "metadata": {},
   "outputs": [],
   "source": [
    " %matplotlib inline\n",
    "import seaborn\n",
    "import pandas as pd\n",
    "import numpy as np\n",
    "import matplotlib.pyplot as plt\n",
    "import os\n",
    "from ASF import ASF\n",
    "from gradutil import *\n",
    "from pyomo.opt import SolverFactory\n",
    "from scipy.spatial.distance import euclidean\n",
    "seedn = 2"
   ]
  },
  {
   "cell_type": "markdown",
   "metadata": {},
   "source": [
    "First lets take all the data in"
   ]
  },
  {
   "cell_type": "code",
   "execution_count": 2,
   "metadata": {},
   "outputs": [],
   "source": [
    "%%time\n",
    "xses = init_norms()\n",
    "x = xses['x']\n",
    "x_stack = xses['x_stack']\n",
    "x_norm = xses['x_norm']\n",
    "x_norm_stack = xses['x_norm_stack']"
   ]
  },
  {
   "cell_type": "code",
   "execution_count": 11,
   "metadata": {},
   "outputs": [],
   "source": [
    "ide = ideal(False)\n",
    "nad = nadir(False)\n",
    "opt = SolverFactory('cplex')"
   ]
  },
  {
   "cell_type": "markdown",
   "metadata": {},
   "source": [
    "Normalize all the columns in 0-1 scale"
   ]
  },
  {
   "cell_type": "code",
   "execution_count": 13,
   "metadata": {},
   "outputs": [],
   "source": [
    "%%time \n",
    "nclust = 300\n",
    "seedn = 5\n",
    "c, xtoc, dist = cluster(x_norm, nclust, seedn, verbose=0)"
   ]
  },
  {
   "cell_type": "code",
   "execution_count": 14,
   "metadata": {},
   "outputs": [],
   "source": [
    "%%time\n",
    "nvar = len(x_norm)\n",
    "w = np.array([sum(xtoc == i) for i in range(nclust) if sum(xtoc == i) > 0])/nvar\n",
    "c_close = np.array([x_norm_stack[min(np.array(range(len(xtoc)))[xtoc == i],\n",
    "                              key=lambda index: euclidean(x_norm[index],np.mean(x_norm[xtoc == i],axis=0)))]\n",
    "                    for i in range(nclust) if sum(xtoc == i) > 0])"
   ]
  },
  {
   "cell_type": "code",
   "execution_count": 15,
   "metadata": {},
   "outputs": [],
   "source": [
    "%%time\n",
    "data = c_close\n",
    "weights = w\n",
    "solver = SolverFactory('cplex')\n",
    "problems = []\n",
    "ress = []\n",
    "for i in range(np.shape(data)[-1]):\n",
    "    problems.append(BorealWeightedProblem(data[:, :, i], weights, nvar))\n",
    "for j in range(len(problems)):\n",
    "    ress.append(solver.solve(problems[j].model))\n",
    "payoff = [[cluster_to_value(x_stack[:,:,i], res_to_list(problems[j].model), weights*nvar)\n",
    "                   for i in range(np.shape(data)[-1])]\n",
    "                  for j in range(len(problems))]\n",
    "ide_clust = np.max(payoff, axis=0)\n",
    "nad_clust = np.min(payoff, axis=0)\n",
    "payoff_model = [[model_to_real_values(x_stack[:, :, i], problems[j].model,xtoc)\n",
    "                 for i in range(np.shape(data)[-1])]\n",
    "                  for j in range(len(problems))]\n",
    "ide_model = np.max(payoff_model, axis=0)\n",
    "nad_model = np.min(payoff_model, axis=0)"
   ]
  },
  {
   "cell_type": "code",
   "execution_count": 16,
   "metadata": {},
   "outputs": [],
   "source": [
    "\n",
    "ide_clust, nad_clust"
   ]
  },
  {
   "cell_type": "code",
   "execution_count": 17,
   "metadata": {},
   "outputs": [],
   "source": [
    "ide_model, nad_model"
   ]
  },
  {
   "cell_type": "code",
   "execution_count": 18,
   "metadata": {},
   "outputs": [],
   "source": [
    "for p in payoff:\n",
    "    print(p)"
   ]
  },
  {
   "cell_type": "code",
   "execution_count": 19,
   "metadata": {},
   "outputs": [],
   "source": [
    "for p in payoff_model:\n",
    "    print(p)"
   ]
  },
  {
   "cell_type": "markdown",
   "metadata": {},
   "source": [
    "Now the interesting part is if the different vectors really have any effects on the results. Even though the surrogate ideal and nadir both more averaged than the real ones, we are still dealing with the same more averaged clusters in the optimization."
   ]
  },
  {
   "cell_type": "markdown",
   "metadata": {},
   "source": [
    "## Effect of ideal and nadir"
   ]
  },
  {
   "cell_type": "markdown",
   "metadata": {},
   "source": [
    "We could now test that by doing the same optimization (same reference) by using different ideal and nadir values. Especially the \"edges\" of Pareto front are interesting."
   ]
  },
  {
   "cell_type": "markdown",
   "metadata": {},
   "source": [
    "#### Reference to 0 0 0 0 "
   ]
  },
  {
   "cell_type": "code",
   "execution_count": 20,
   "metadata": {},
   "outputs": [],
   "source": [
    "ref_test = np.array((0,0,0,0))"
   ]
  },
  {
   "cell_type": "code",
   "execution_count": 23,
   "metadata": {},
   "outputs": [],
   "source": [
    "asf = ASF(ide, nad, ref_test, c_close, weights=w, nvar=nvar)\n",
    "opt.solve(asf.model)\n",
    "real_0 = model_to_real_values(x_stack, asf.model, xtoc)"
   ]
  },
  {
   "cell_type": "code",
   "execution_count": 24,
   "metadata": {},
   "outputs": [],
   "source": [
    "asf = ASF(ide_clust, nad_clust, ref_test, c_close, weights=w, nvar=nvar)\n",
    "opt.solve(asf.model)\n",
    "cluster_0 = model_to_real_values(x_stack, asf.model, xtoc)"
   ]
  },
  {
   "cell_type": "code",
   "execution_count": 25,
   "metadata": {},
   "outputs": [],
   "source": [
    "real_0-cluster_0"
   ]
  },
  {
   "cell_type": "markdown",
   "metadata": {},
   "source": [
    "Well, there is difference. As we can see, real ideal and nadir give smaller value for the revenue value and greater for all the rest."
   ]
  },
  {
   "cell_type": "markdown",
   "metadata": {},
   "source": [
    "#### Reference to ideal"
   ]
  },
  {
   "cell_type": "markdown",
   "metadata": {},
   "source": [
    "In this test it is important to note difference if we are referencing to the real ideal or the ideal of clusters. Results are of course different in these cases."
   ]
  },
  {
   "cell_type": "code",
   "execution_count": 26,
   "metadata": {},
   "outputs": [],
   "source": [
    "asf = ASF(ide, nad, ide, c_close, weights=w, nvar=nvar)\n",
    "opt.solve(asf.model)\n",
    "real_ide = model_to_real_values(x_stack, asf.model, xtoc)"
   ]
  },
  {
   "cell_type": "code",
   "execution_count": 27,
   "metadata": {},
   "outputs": [],
   "source": [
    "asf = ASF(ide_clust, nad_clust, ide_clust, c_close, weights=w, nvar=nvar)\n",
    "opt.solve(asf.model)\n",
    "cluster_ide = model_to_real_values(x_stack, asf.model, xtoc)"
   ]
  },
  {
   "cell_type": "code",
   "execution_count": 28,
   "metadata": {},
   "outputs": [],
   "source": [
    "real_ide-cluster_ide"
   ]
  },
  {
   "cell_type": "markdown",
   "metadata": {},
   "source": [
    "The differences are still big, but differently than previously. I still don't know what to say about that."
   ]
  },
  {
   "cell_type": "markdown",
   "metadata": {},
   "source": [
    "The essence of this could better be desribed if we try to optimize just one objective. So let's refer to the ideal of the carbon objective."
   ]
  },
  {
   "cell_type": "code",
   "execution_count": 29,
   "metadata": {},
   "outputs": [],
   "source": [
    "asf = ASF(ide, nad, np.array((0,ide[1],0,0)), c_close, weights=w, nvar=nvar)\n",
    "opt.solve(asf.model)\n",
    "real_carbon = model_to_real_values(x_stack, asf.model, xtoc)"
   ]
  },
  {
   "cell_type": "code",
   "execution_count": 30,
   "metadata": {},
   "outputs": [],
   "source": [
    "asf = ASF(ide_clust, nad_clust, np.array((0,ide_clust[1],0,0)), c_close, weights=w, nvar=nvar)\n",
    "opt.solve(asf.model)\n",
    "cluster_carbon = model_to_real_values(x_stack, asf.model, xtoc)"
   ]
  },
  {
   "cell_type": "code",
   "execution_count": 31,
   "metadata": {},
   "outputs": [],
   "source": [
    "real_carbon-cluster_carbon"
   ]
  },
  {
   "cell_type": "markdown",
   "metadata": {},
   "source": [
    "This is exactly the same than when using the ideal!?"
   ]
  },
  {
   "cell_type": "code",
   "execution_count": 32,
   "metadata": {},
   "outputs": [],
   "source": [
    "real_ide - real_carbon"
   ]
  },
  {
   "cell_type": "markdown",
   "metadata": {},
   "source": [
    "We even get the same point..."
   ]
  },
  {
   "cell_type": "markdown",
   "metadata": {},
   "source": [
    "How about the deadwood?"
   ]
  },
  {
   "cell_type": "code",
   "execution_count": 33,
   "metadata": {},
   "outputs": [],
   "source": [
    "asf = ASF(ide, nad, np.array((0,0,ide[2],0)), c_close, weights=w, nvar=nvar)\n",
    "opt.solve(asf.model)\n",
    "real_deadwood = model_to_real_values(x_stack, asf.model, xtoc)"
   ]
  },
  {
   "cell_type": "code",
   "execution_count": 34,
   "metadata": {},
   "outputs": [],
   "source": [
    "asf = ASF(ide_clust, nad_clust, np.array((0,0,ide_clust[2],0)), c_close, weights=w, nvar=nvar)\n",
    "opt.solve(asf.model)\n",
    "cluster_deadwood = model_to_real_values(x_stack, asf.model, xtoc)"
   ]
  },
  {
   "cell_type": "code",
   "execution_count": 35,
   "metadata": {},
   "outputs": [],
   "source": [
    "real_deadwood-cluster_deadwood"
   ]
  },
  {
   "cell_type": "markdown",
   "metadata": {},
   "source": [
    "And Habitat index?"
   ]
  },
  {
   "cell_type": "code",
   "execution_count": 36,
   "metadata": {},
   "outputs": [],
   "source": [
    "asf = ASF(ide, nad, np.array((0,0,0,ide[3])), c_close, weights=w, nvar=nvar)\n",
    "opt.solve(asf.model)\n",
    "real_ha = model_to_real_values(x_stack, asf.model, xtoc)"
   ]
  },
  {
   "cell_type": "code",
   "execution_count": 37,
   "metadata": {},
   "outputs": [],
   "source": [
    "asf = ASF(ide_clust, nad_clust, np.array((0,0,0,ide_clust[3])), c_close, weights=w, nvar=nvar)\n",
    "opt.solve(asf.model)\n",
    "cluster_ha = model_to_real_values(x_stack, asf.model, xtoc)"
   ]
  },
  {
   "cell_type": "code",
   "execution_count": 38,
   "metadata": {},
   "outputs": [],
   "source": [
    "real_ha-cluster_ha"
   ]
  },
  {
   "cell_type": "markdown",
   "metadata": {},
   "source": [
    "So it looks like that there are some interesting relationships between ideals:\n",
    "- In the revenue and the carbon there are greater differences in the ideal and nadir vectors compared to the real values. Probably because of this also the results attained by reference points are also more different when using real ideal or clustered ideal\n",
    "- In the deadwood and the habitat the differences are smaller and so also results of references are more accurate."
   ]
  }
 ],
 "metadata": {
  "git": {
   "suppress_outputs": true
  },
  "kernelspec": {
   "display_name": "Python 3",
   "language": "python",
   "name": "python3"
  },
  "language_info": {
   "codemirror_mode": {
    "name": "ipython",
    "version": 3
   },
   "file_extension": ".py",
   "mimetype": "text/x-python",
   "name": "python",
   "nbconvert_exporter": "python",
   "pygments_lexer": "ipython3",
   "version": "3.5.2"
  }
 },
 "nbformat": 4,
 "nbformat_minor": 2
}