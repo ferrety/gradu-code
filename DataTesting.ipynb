{
 "cells": [
  {
   "cell_type": "code",
   "execution_count": 64,
   "metadata": {
    "collapsed": false
   },
   "outputs": [
    {
     "ename": "ImportError",
     "evalue": "No module named seaborn",
     "output_type": "error",
     "traceback": [
      "\u001b[1;31m---------------------------------------------------------------------------\u001b[0m",
      "\u001b[1;31mImportError\u001b[0m                               Traceback (most recent call last)",
      "\u001b[1;32m<ipython-input-64-379f51f4588c>\u001b[0m in \u001b[0;36m<module>\u001b[1;34m()\u001b[0m\n\u001b[0;32m      1\u001b[0m \u001b[0mget_ipython\u001b[0m\u001b[1;33m(\u001b[0m\u001b[1;33m)\u001b[0m\u001b[1;33m.\u001b[0m\u001b[0mmagic\u001b[0m\u001b[1;33m(\u001b[0m\u001b[1;34mu'matplotlib inline'\u001b[0m\u001b[1;33m)\u001b[0m\u001b[1;33m\u001b[0m\u001b[0m\n\u001b[1;32m----> 2\u001b[1;33m \u001b[1;32mimport\u001b[0m \u001b[0mseaborn\u001b[0m\u001b[1;33m\u001b[0m\u001b[0m\n\u001b[0m\u001b[0;32m      3\u001b[0m \u001b[1;32mimport\u001b[0m \u001b[0mpandas\u001b[0m \u001b[1;32mas\u001b[0m \u001b[0mpd\u001b[0m\u001b[1;33m\u001b[0m\u001b[0m\n\u001b[0;32m      4\u001b[0m \u001b[1;32mimport\u001b[0m \u001b[0mnumpy\u001b[0m \u001b[1;32mas\u001b[0m \u001b[0mnp\u001b[0m\u001b[1;33m\u001b[0m\u001b[0m\n\u001b[0;32m      5\u001b[0m \u001b[1;32mimport\u001b[0m \u001b[0mmatplotlib\u001b[0m\u001b[1;33m.\u001b[0m\u001b[0mpyplot\u001b[0m \u001b[1;32mas\u001b[0m \u001b[0mplt\u001b[0m\u001b[1;33m\u001b[0m\u001b[0m\n",
      "\u001b[1;31mImportError\u001b[0m: No module named seaborn"
     ]
    }
   ],
   "source": [
    " %matplotlib inline\n",
    "import seaborn\n",
    "import pandas as pd\n",
    "import numpy as np\n",
    "import matplotlib.pyplot as plt\n",
    "import os"
   ]
  },
  {
   "cell_type": "code",
   "execution_count": 2,
   "metadata": {
    "collapsed": false
   },
   "outputs": [],
   "source": [
    "data_dir = os.path.join(os.getcwd(), '../boreal_data')\n",
    "\n",
    "carbon = pd.read_csv(os.path.join(data_dir, 'Carbon_storage.csv'))\n",
    "HA = pd.read_csv(os.path.join(data_dir, 'Combined_HA.csv'))\n",
    "deadwood = pd.read_csv(os.path.join(data_dir, 'Deadwood_volume.csv'))\n",
    "revenue = pd.read_csv(os.path.join(data_dir, 'Timber_revenues.csv'))"
   ]
  },
  {
   "cell_type": "code",
   "execution_count": 3,
   "metadata": {
    "collapsed": false
   },
   "outputs": [],
   "source": [
    "carbon_clean = carbon.dropna(axis=0, how='any')\n",
    "HA_clean = HA.dropna(axis=0, how='any')\n",
    "deadwood_clean = deadwood.dropna(axis=0, how='any')\n",
    "revenue_clean = revenue.dropna(axis=0, how='any')"
   ]
  },
  {
   "cell_type": "code",
   "execution_count": 4,
   "metadata": {
    "collapsed": false
   },
   "outputs": [
    {
     "name": "stdout",
     "output_type": "stream",
     "text": [
      "Size of the original dataset: 29666\n"
     ]
    },
    {
     "data": {
      "text/html": [
       "<div>\n",
       "<table border=\"1\" class=\"dataframe\">\n",
       "  <thead>\n",
       "    <tr style=\"text-align: right;\">\n",
       "      <th></th>\n",
       "      <th>BAU</th>\n",
       "      <th>SA</th>\n",
       "      <th>EXT10</th>\n",
       "      <th>EXT30</th>\n",
       "      <th>GTR30</th>\n",
       "      <th>NTSR</th>\n",
       "      <th>NTLR</th>\n",
       "    </tr>\n",
       "  </thead>\n",
       "  <tbody>\n",
       "    <tr>\n",
       "      <th>count</th>\n",
       "      <td>29666.000000</td>\n",
       "      <td>29666.000000</td>\n",
       "      <td>18156.000000</td>\n",
       "      <td>18156.000000</td>\n",
       "      <td>18124.000000</td>\n",
       "      <td>29666.000000</td>\n",
       "      <td>17847.000000</td>\n",
       "    </tr>\n",
       "    <tr>\n",
       "      <th>mean</th>\n",
       "      <td>93.542363</td>\n",
       "      <td>149.333008</td>\n",
       "      <td>114.676874</td>\n",
       "      <td>154.363833</td>\n",
       "      <td>105.624315</td>\n",
       "      <td>97.043721</td>\n",
       "      <td>116.497451</td>\n",
       "    </tr>\n",
       "    <tr>\n",
       "      <th>std</th>\n",
       "      <td>87.569930</td>\n",
       "      <td>153.393324</td>\n",
       "      <td>104.095941</td>\n",
       "      <td>140.609791</td>\n",
       "      <td>94.791551</td>\n",
       "      <td>93.647250</td>\n",
       "      <td>110.303848</td>\n",
       "    </tr>\n",
       "    <tr>\n",
       "      <th>min</th>\n",
       "      <td>0.528391</td>\n",
       "      <td>0.703060</td>\n",
       "      <td>0.702948</td>\n",
       "      <td>0.703060</td>\n",
       "      <td>0.528391</td>\n",
       "      <td>0.528992</td>\n",
       "      <td>0.528992</td>\n",
       "    </tr>\n",
       "    <tr>\n",
       "      <th>25%</th>\n",
       "      <td>33.240975</td>\n",
       "      <td>45.768475</td>\n",
       "      <td>41.986375</td>\n",
       "      <td>55.028475</td>\n",
       "      <td>39.033875</td>\n",
       "      <td>33.549600</td>\n",
       "      <td>42.137100</td>\n",
       "    </tr>\n",
       "    <tr>\n",
       "      <th>50%</th>\n",
       "      <td>68.769550</td>\n",
       "      <td>101.406000</td>\n",
       "      <td>86.173850</td>\n",
       "      <td>114.882500</td>\n",
       "      <td>79.590100</td>\n",
       "      <td>70.569900</td>\n",
       "      <td>86.482300</td>\n",
       "    </tr>\n",
       "    <tr>\n",
       "      <th>75%</th>\n",
       "      <td>126.093000</td>\n",
       "      <td>198.893000</td>\n",
       "      <td>155.087000</td>\n",
       "      <td>210.267500</td>\n",
       "      <td>143.225500</td>\n",
       "      <td>130.455000</td>\n",
       "      <td>157.002000</td>\n",
       "    </tr>\n",
       "    <tr>\n",
       "      <th>max</th>\n",
       "      <td>1315.320000</td>\n",
       "      <td>2059.990000</td>\n",
       "      <td>1687.460000</td>\n",
       "      <td>1877.590000</td>\n",
       "      <td>1358.400000</td>\n",
       "      <td>1308.370000</td>\n",
       "      <td>1854.630000</td>\n",
       "    </tr>\n",
       "  </tbody>\n",
       "</table>\n",
       "</div>"
      ],
      "text/plain": [
       "                BAU            SA         EXT10         EXT30         GTR30  \\\n",
       "count  29666.000000  29666.000000  18156.000000  18156.000000  18124.000000   \n",
       "mean      93.542363    149.333008    114.676874    154.363833    105.624315   \n",
       "std       87.569930    153.393324    104.095941    140.609791     94.791551   \n",
       "min        0.528391      0.703060      0.702948      0.703060      0.528391   \n",
       "25%       33.240975     45.768475     41.986375     55.028475     39.033875   \n",
       "50%       68.769550    101.406000     86.173850    114.882500     79.590100   \n",
       "75%      126.093000    198.893000    155.087000    210.267500    143.225500   \n",
       "max     1315.320000   2059.990000   1687.460000   1877.590000   1358.400000   \n",
       "\n",
       "               NTSR          NTLR  \n",
       "count  29666.000000  17847.000000  \n",
       "mean      97.043721    116.497451  \n",
       "std       93.647250    110.303848  \n",
       "min        0.528992      0.528992  \n",
       "25%       33.549600     42.137100  \n",
       "50%       70.569900     86.482300  \n",
       "75%      130.455000    157.002000  \n",
       "max     1308.370000   1854.630000  "
      ]
     },
     "execution_count": 4,
     "metadata": {},
     "output_type": "execute_result"
    }
   ],
   "source": [
    "print('Size of the original dataset: %r' % len(carbon))\n",
    "carbon.describe()"
   ]
  },
  {
   "cell_type": "code",
   "execution_count": 5,
   "metadata": {
    "collapsed": false,
    "scrolled": false
   },
   "outputs": [
    {
     "name": "stdout",
     "output_type": "stream",
     "text": [
      "Size of cleaned dataset: 16793\n"
     ]
    },
    {
     "data": {
      "text/html": [
       "<div>\n",
       "<table border=\"1\" class=\"dataframe\">\n",
       "  <thead>\n",
       "    <tr style=\"text-align: right;\">\n",
       "      <th></th>\n",
       "      <th>BAU</th>\n",
       "      <th>SA</th>\n",
       "      <th>EXT10</th>\n",
       "      <th>EXT30</th>\n",
       "      <th>GTR30</th>\n",
       "      <th>NTSR</th>\n",
       "      <th>NTLR</th>\n",
       "    </tr>\n",
       "  </thead>\n",
       "  <tbody>\n",
       "    <tr>\n",
       "      <th>count</th>\n",
       "      <td>16793.000000</td>\n",
       "      <td>16793.000000</td>\n",
       "      <td>16793.000000</td>\n",
       "      <td>16793.000000</td>\n",
       "      <td>16793.000000</td>\n",
       "      <td>16793.000000</td>\n",
       "      <td>16793.000000</td>\n",
       "    </tr>\n",
       "    <tr>\n",
       "      <th>mean</th>\n",
       "      <td>98.732481</td>\n",
       "      <td>188.227387</td>\n",
       "      <td>113.559685</td>\n",
       "      <td>156.469401</td>\n",
       "      <td>104.104000</td>\n",
       "      <td>96.331336</td>\n",
       "      <td>116.455191</td>\n",
       "    </tr>\n",
       "    <tr>\n",
       "      <th>std</th>\n",
       "      <td>89.649480</td>\n",
       "      <td>174.631596</td>\n",
       "      <td>103.489299</td>\n",
       "      <td>142.527008</td>\n",
       "      <td>93.703542</td>\n",
       "      <td>89.691396</td>\n",
       "      <td>110.026271</td>\n",
       "    </tr>\n",
       "    <tr>\n",
       "      <th>min</th>\n",
       "      <td>0.528391</td>\n",
       "      <td>0.703060</td>\n",
       "      <td>0.702948</td>\n",
       "      <td>0.703060</td>\n",
       "      <td>0.528391</td>\n",
       "      <td>0.528992</td>\n",
       "      <td>0.528992</td>\n",
       "    </tr>\n",
       "    <tr>\n",
       "      <th>25%</th>\n",
       "      <td>36.316700</td>\n",
       "      <td>65.267500</td>\n",
       "      <td>41.605000</td>\n",
       "      <td>55.624800</td>\n",
       "      <td>38.293500</td>\n",
       "      <td>34.432600</td>\n",
       "      <td>42.237300</td>\n",
       "    </tr>\n",
       "    <tr>\n",
       "      <th>50%</th>\n",
       "      <td>74.266000</td>\n",
       "      <td>137.998000</td>\n",
       "      <td>85.293000</td>\n",
       "      <td>116.407000</td>\n",
       "      <td>78.513900</td>\n",
       "      <td>71.595400</td>\n",
       "      <td>86.506000</td>\n",
       "    </tr>\n",
       "    <tr>\n",
       "      <th>75%</th>\n",
       "      <td>134.002000</td>\n",
       "      <td>256.034000</td>\n",
       "      <td>154.224000</td>\n",
       "      <td>212.758000</td>\n",
       "      <td>141.506000</td>\n",
       "      <td>131.027000</td>\n",
       "      <td>157.088000</td>\n",
       "    </tr>\n",
       "    <tr>\n",
       "      <th>max</th>\n",
       "      <td>1315.320000</td>\n",
       "      <td>2059.990000</td>\n",
       "      <td>1687.460000</td>\n",
       "      <td>1877.590000</td>\n",
       "      <td>1358.400000</td>\n",
       "      <td>1308.370000</td>\n",
       "      <td>1854.630000</td>\n",
       "    </tr>\n",
       "  </tbody>\n",
       "</table>\n",
       "</div>"
      ],
      "text/plain": [
       "                BAU            SA         EXT10         EXT30         GTR30  \\\n",
       "count  16793.000000  16793.000000  16793.000000  16793.000000  16793.000000   \n",
       "mean      98.732481    188.227387    113.559685    156.469401    104.104000   \n",
       "std       89.649480    174.631596    103.489299    142.527008     93.703542   \n",
       "min        0.528391      0.703060      0.702948      0.703060      0.528391   \n",
       "25%       36.316700     65.267500     41.605000     55.624800     38.293500   \n",
       "50%       74.266000    137.998000     85.293000    116.407000     78.513900   \n",
       "75%      134.002000    256.034000    154.224000    212.758000    141.506000   \n",
       "max     1315.320000   2059.990000   1687.460000   1877.590000   1358.400000   \n",
       "\n",
       "               NTSR          NTLR  \n",
       "count  16793.000000  16793.000000  \n",
       "mean      96.331336    116.455191  \n",
       "std       89.691396    110.026271  \n",
       "min        0.528992      0.528992  \n",
       "25%       34.432600     42.237300  \n",
       "50%       71.595400     86.506000  \n",
       "75%      131.027000    157.088000  \n",
       "max     1308.370000   1854.630000  "
      ]
     },
     "execution_count": 5,
     "metadata": {},
     "output_type": "execute_result"
    }
   ],
   "source": [
    "print('Size of cleaned dataset: % r' % len(carbon_clean))\n",
    "carbon_clean.describe()"
   ]
  },
  {
   "cell_type": "markdown",
   "metadata": {},
   "source": [
    "Objective function as described in the paper \"Spatially dynamic forest management to sustain biodiversity and economic returns\". So if the value is Nan, then apply the Business as Usual scheme."
   ]
  },
  {
   "cell_type": "code",
   "execution_count": 28,
   "metadata": {
    "collapsed": false
   },
   "outputs": [],
   "source": [
    "def objective_value(obj, x):\n",
    "    '''\n",
    "    Sums values of the given column on each row of the\n",
    "    dataframe. If the value on the given column at \n",
    "    some row is Nan, then selects the first value from\n",
    "    that row (according to the original source of the data)\n",
    "    '''\n",
    "    summ = .0\n",
    "    for ind, col in zip(range(len(x)), x):\n",
    "        if not np.isnan(obj.iat[ind,col]):\n",
    "            summ += obj.iat[ind,col]\n",
    "        else:\n",
    "            summ += obj.iat[ind,0]\n",
    "    return summ"
   ]
  },
  {
   "cell_type": "code",
   "execution_count": 7,
   "metadata": {
    "collapsed": false
   },
   "outputs": [],
   "source": [
    "carbon_values = pd.DataFrame({'BAU': objective_value(carbon, np.zeros(len(carbon), dtype=int)),\n",
    "'SA': objective_value(carbon, np.ones(len(carbon), dtype=int)),\n",
    "'EXT10': objective_value(carbon, np.ones(len(carbon), dtype=int)*2),\n",
    "'EXT30': objective_value(carbon, np.ones(len(carbon), dtype=int)*3),\n",
    "'GTR30': objective_value(carbon, np.ones(len(carbon), dtype=int)*4),\n",
    "'NTSR': objective_value(carbon, np.ones(len(carbon), dtype=int)*5),\n",
    "'NTLR': objective_value(carbon, np.ones(len(carbon), dtype=int)*6)}, index=pd.Series([1]))"
   ]
  },
  {
   "cell_type": "code",
   "execution_count": 8,
   "metadata": {
    "collapsed": false
   },
   "outputs": [
    {
     "name": "stdout",
     "output_type": "stream",
     "text": [
      "Maximum values for all the harvesting schemes using original data:\n"
     ]
    },
    {
     "data": {
      "text/html": [
       "<div>\n",
       "<table border=\"1\" class=\"dataframe\">\n",
       "  <thead>\n",
       "    <tr style=\"text-align: right;\">\n",
       "      <th></th>\n",
       "      <th>BAU</th>\n",
       "      <th>EXT10</th>\n",
       "      <th>EXT30</th>\n",
       "      <th>GTR30</th>\n",
       "      <th>NTLR</th>\n",
       "      <th>NTSR</th>\n",
       "      <th>SA</th>\n",
       "    </tr>\n",
       "  </thead>\n",
       "  <tbody>\n",
       "    <tr>\n",
       "      <th>1</th>\n",
       "      <td>2775027.747949</td>\n",
       "      <td>3031423.803638</td>\n",
       "      <td>3751980.243136</td>\n",
       "      <td>2865804.453201</td>\n",
       "      <td>3089092.297282</td>\n",
       "      <td>2878899.015179</td>\n",
       "      <td>4430113.01662</td>\n",
       "    </tr>\n",
       "  </tbody>\n",
       "</table>\n",
       "</div>"
      ],
      "text/plain": [
       "              BAU           EXT10           EXT30           GTR30  \\\n",
       "1  2775027.747949  3031423.803638  3751980.243136  2865804.453201   \n",
       "\n",
       "             NTLR            NTSR             SA  \n",
       "1  3089092.297282  2878899.015179  4430113.01662  "
      ]
     },
     "execution_count": 8,
     "metadata": {},
     "output_type": "execute_result"
    }
   ],
   "source": [
    "print('Maximum values for all the harvesting schemes using original data:')\n",
    "carbon_values"
   ]
  },
  {
   "cell_type": "code",
   "execution_count": 9,
   "metadata": {
    "collapsed": true
   },
   "outputs": [],
   "source": [
    "clean_carbon_values = pd.DataFrame({'BAU': objective_value(carbon_clean, np.zeros(len(carbon_clean), dtype=int)),\n",
    "'SA': objective_value(carbon_clean, np.ones(len(carbon_clean), dtype=int)),\n",
    "'EXT10': objective_value(carbon_clean, np.ones(len(carbon_clean), dtype=int)*2),\n",
    "'EXT30': objective_value(carbon_clean, np.ones(len(carbon_clean), dtype=int)*3),\n",
    "'GTR30': objective_value(carbon_clean, np.ones(len(carbon_clean), dtype=int)*4),\n",
    "'NTSR': objective_value(carbon_clean, np.ones(len(carbon_clean), dtype=int)*5),\n",
    "'NTLR': objective_value(carbon_clean, np.ones(len(carbon_clean), dtype=int)*6)}, index=pd.Series([1]))"
   ]
  },
  {
   "cell_type": "code",
   "execution_count": 10,
   "metadata": {
    "collapsed": false
   },
   "outputs": [
    {
     "name": "stdout",
     "output_type": "stream",
     "text": [
      "Maximum values for all the harvesting schemes using original data:\n"
     ]
    },
    {
     "data": {
      "text/html": [
       "<div>\n",
       "<table border=\"1\" class=\"dataframe\">\n",
       "  <thead>\n",
       "    <tr style=\"text-align: right;\">\n",
       "      <th></th>\n",
       "      <th>BAU</th>\n",
       "      <th>EXT10</th>\n",
       "      <th>EXT30</th>\n",
       "      <th>GTR30</th>\n",
       "      <th>NTLR</th>\n",
       "      <th>NTSR</th>\n",
       "      <th>SA</th>\n",
       "    </tr>\n",
       "  </thead>\n",
       "  <tbody>\n",
       "    <tr>\n",
       "      <th>1</th>\n",
       "      <td>1658014.554919</td>\n",
       "      <td>1907007.791128</td>\n",
       "      <td>2627590.65682</td>\n",
       "      <td>1748218.476181</td>\n",
       "      <td>1955632.017952</td>\n",
       "      <td>1617692.131979</td>\n",
       "      <td>3160902.5026</td>\n",
       "    </tr>\n",
       "  </tbody>\n",
       "</table>\n",
       "</div>"
      ],
      "text/plain": [
       "              BAU           EXT10          EXT30           GTR30  \\\n",
       "1  1658014.554919  1907007.791128  2627590.65682  1748218.476181   \n",
       "\n",
       "             NTLR            NTSR            SA  \n",
       "1  1955632.017952  1617692.131979  3160902.5026  "
      ]
     },
     "execution_count": 10,
     "metadata": {},
     "output_type": "execute_result"
    }
   ],
   "source": [
    "print('Maximum values for all the harvesting schemes using original data:')\n",
    "clean_carbon_values"
   ]
  },
  {
   "cell_type": "code",
   "execution_count": 40,
   "metadata": {
    "collapsed": false
   },
   "outputs": [
    {
     "data": {
      "image/png": "[encoded data removed]",
      "text/plain": [
       "<matplotlib.figure.Figure at 0x109b0208>"
      ]
     },
     "metadata": {},
     "output_type": "display_data"
    }
   ],
   "source": [
    "carbon_pic = carbon_values.plot(kind='bar')"
   ]
  },
  {
   "cell_type": "markdown",
   "metadata": {},
   "source": [
    "Resulting bar-graph looks the same than in the paper.."
   ]
  },
  {
   "cell_type": "code",
   "execution_count": 12,
   "metadata": {
    "collapsed": false,
    "scrolled": true
   },
   "outputs": [
    {
     "data": {
      "text/plain": [
       "<matplotlib.axes._subplots.AxesSubplot at 0xc9ddac8>"
      ]
     },
     "execution_count": 12,
     "metadata": {},
     "output_type": "execute_result"
    },
    {
     "data": {
      "image/png": "[encoded data removed]",
      "text/plain": [
       "<matplotlib.figure.Figure at 0xb422be0>"
      ]
     },
     "metadata": {},
     "output_type": "display_data"
    }
   ],
   "source": [
    "clean_carbon_values.plot(kind='bar')"
   ]
  },
  {
   "cell_type": "markdown",
   "metadata": {},
   "source": [
    "## Different way to evaluate data with Nan-values"
   ]
  },
  {
   "cell_type": "code",
   "execution_count": 13,
   "metadata": {
    "collapsed": true
   },
   "outputs": [],
   "source": [
    "#x = np.array(['NTLR']).repeat(len(carbon))\n",
    "x = np.ones(len(carbon), dtype=int)*6"
   ]
  },
  {
   "cell_type": "code",
   "execution_count": 14,
   "metadata": {
    "collapsed": false
   },
   "outputs": [
    {
     "name": "stdout",
     "output_type": "stream",
     "text": [
      "3089092.29728\n",
      "Wall time: 704 ms\n"
     ]
    }
   ],
   "source": [
    "%%time \n",
    "print(sum([carbon.iat[ind, col] if not np.isnan(carbon.iat[ind, col]) else carbon.iat[ind, 0] for ind,col in zip(range(len(x)), x)]))"
   ]
  },
  {
   "cell_type": "markdown",
   "metadata": {},
   "source": [
    "## Concat data\n"
   ]
  },
  {
   "cell_type": "code",
   "execution_count": 66,
   "metadata": {
    "collapsed": false
   },
   "outputs": [],
   "source": [
    "all = pd.concat([carbon[:5], HA[:5], deadwood[:5]], keys=['Carbon', 'HA','Deadwood'])"
   ]
  },
  {
   "cell_type": "code",
   "execution_count": 92,
   "metadata": {
    "collapsed": false
   },
   "outputs": [
    {
     "data": {
      "text/plain": [
       "pandas.core.frame.DataFrame"
      ]
     },
     "execution_count": 92,
     "metadata": {},
     "output_type": "execute_result"
    }
   ],
   "source": [
    "type(all)"
   ]
  },
  {
   "cell_type": "code",
   "execution_count": 97,
   "metadata": {
    "collapsed": false
   },
   "outputs": [
    {
     "data": {
      "text/plain": [
       "pandas.core.series.Series"
      ]
     },
     "execution_count": 97,
     "metadata": {},
     "output_type": "execute_result"
    }
   ],
   "source": [
    "type(all.loc['Carbon','BAU'])"
   ]
  },
  {
   "cell_type": "markdown",
   "metadata": {},
   "source": [
    "This is not as easy as I thought. It is also important to think what is the most efficient structure for the future use."
   ]
  },
  {
   "cell_type": "markdown",
   "metadata": {},
   "source": [
    "# Optimization"
   ]
  },
  {
   "cell_type": "markdown",
   "metadata": {},
   "source": [
    "Not gonna happen with these computers. There is no suitable libraries and no option to download one."
   ]
  },
  {
   "cell_type": "code",
   "execution_count": 52,
   "metadata": {
    "collapsed": false
   },
   "outputs": [],
   "source": [
    "import scipy.optimize"
   ]
  },
  {
   "cell_type": "code",
   "execution_count": 44,
   "metadata": {
    "collapsed": false
   },
   "outputs": [
    {
     "data": {
      "text/plain": [
       "array([  20.5981,   30.7717,   24.5489,   26.5891,   21.0024,   20.1752,\n",
       "         28.1386,  109.728 ,  165.395 ,  129.12  ,  161.092 ,  110.461 ,\n",
       "         96.995 ,  123.906 ,  222.862 ,  360.422 ,  269.992 ,  295.745 ,\n",
       "        227.442 ,  259.693 ,  360.422 ,  109.469 ,  219.174 ,  103.409 ,\n",
       "        163.632 ,  129.242 ,  111.702 ,  111.702 ,   71.2167,  155.588 ,\n",
       "         87.6693,  125.774 ,   71.8201,   82.6692,  106.433 ])"
      ]
     },
     "execution_count": 44,
     "metadata": {},
     "output_type": "execute_result"
    }
   ],
   "source": [
    "optimize.linprog(carbon_clean[:5].values.flatten(), "
   ]
  },
  {
   "cell_type": "code",
   "execution_count": 45,
   "metadata": {
    "collapsed": false
   },
   "outputs": [
    {
     "data": {
      "text/plain": [
       "array([[  20.5981,   30.7717,   24.5489,   26.5891,   21.0024,   20.1752,\n",
       "          28.1386],\n",
       "       [ 109.728 ,  165.395 ,  129.12  ,  161.092 ,  110.461 ,   96.995 ,\n",
       "         123.906 ],\n",
       "       [ 222.862 ,  360.422 ,  269.992 ,  295.745 ,  227.442 ,  259.693 ,\n",
       "         360.422 ],\n",
       "       [ 109.469 ,  219.174 ,  103.409 ,  163.632 ,  129.242 ,  111.702 ,\n",
       "         111.702 ],\n",
       "       [  71.2167,  155.588 ,   87.6693,  125.774 ,   71.8201,   82.6692,\n",
       "         106.433 ]])"
      ]
     },
     "execution_count": 45,
     "metadata": {},
     "output_type": "execute_result"
    }
   ],
   "source": [
    "carbon_clean[:5].values"
   ]
  },
  {
   "cell_type": "markdown",
   "metadata": {},
   "source": [
    "# Klustering"
   ]
  },
  {
   "cell_type": "markdown",
   "metadata": {},
   "source": [
    "### Feature selection"
   ]
  },
  {
   "cell_type": "code",
   "execution_count": 63,
   "metadata": {
    "collapsed": false
   },
   "outputs": [
    {
     "data": {
      "text/html": [
       "<div>\n",
       "<table border=\"1\" class=\"dataframe\">\n",
       "  <thead>\n",
       "    <tr style=\"text-align: right;\">\n",
       "      <th></th>\n",
       "      <th>BAU</th>\n",
       "      <th>SA</th>\n",
       "      <th>EXT10</th>\n",
       "      <th>EXT30</th>\n",
       "      <th>GTR30</th>\n",
       "      <th>NTSR</th>\n",
       "      <th>NTLR</th>\n",
       "    </tr>\n",
       "  </thead>\n",
       "  <tbody>\n",
       "    <tr>\n",
       "      <th>BAU</th>\n",
       "      <td>1.000000</td>\n",
       "      <td>0.893154</td>\n",
       "      <td>0.986115</td>\n",
       "      <td>0.936001</td>\n",
       "      <td>0.996940</td>\n",
       "      <td>0.970110</td>\n",
       "      <td>0.945243</td>\n",
       "    </tr>\n",
       "    <tr>\n",
       "      <th>SA</th>\n",
       "      <td>0.893154</td>\n",
       "      <td>1.000000</td>\n",
       "      <td>0.911547</td>\n",
       "      <td>0.984990</td>\n",
       "      <td>0.933510</td>\n",
       "      <td>0.849338</td>\n",
       "      <td>0.852711</td>\n",
       "    </tr>\n",
       "    <tr>\n",
       "      <th>EXT10</th>\n",
       "      <td>0.986115</td>\n",
       "      <td>0.911547</td>\n",
       "      <td>1.000000</td>\n",
       "      <td>0.949011</td>\n",
       "      <td>0.984064</td>\n",
       "      <td>0.942080</td>\n",
       "      <td>0.946669</td>\n",
       "    </tr>\n",
       "    <tr>\n",
       "      <th>EXT30</th>\n",
       "      <td>0.936001</td>\n",
       "      <td>0.984990</td>\n",
       "      <td>0.949011</td>\n",
       "      <td>1.000000</td>\n",
       "      <td>0.951313</td>\n",
       "      <td>0.873825</td>\n",
       "      <td>0.874188</td>\n",
       "    </tr>\n",
       "    <tr>\n",
       "      <th>GTR30</th>\n",
       "      <td>0.996940</td>\n",
       "      <td>0.933510</td>\n",
       "      <td>0.984064</td>\n",
       "      <td>0.951313</td>\n",
       "      <td>1.000000</td>\n",
       "      <td>0.960060</td>\n",
       "      <td>0.934638</td>\n",
       "    </tr>\n",
       "    <tr>\n",
       "      <th>NTSR</th>\n",
       "      <td>0.970110</td>\n",
       "      <td>0.849338</td>\n",
       "      <td>0.942080</td>\n",
       "      <td>0.873825</td>\n",
       "      <td>0.960060</td>\n",
       "      <td>1.000000</td>\n",
       "      <td>0.947336</td>\n",
       "    </tr>\n",
       "    <tr>\n",
       "      <th>NTLR</th>\n",
       "      <td>0.945243</td>\n",
       "      <td>0.852711</td>\n",
       "      <td>0.946669</td>\n",
       "      <td>0.874188</td>\n",
       "      <td>0.934638</td>\n",
       "      <td>0.947336</td>\n",
       "      <td>1.000000</td>\n",
       "    </tr>\n",
       "  </tbody>\n",
       "</table>\n",
       "</div>"
      ],
      "text/plain": [
       "            BAU        SA     EXT10     EXT30     GTR30      NTSR      NTLR\n",
       "BAU    1.000000  0.893154  0.986115  0.936001  0.996940  0.970110  0.945243\n",
       "SA     0.893154  1.000000  0.911547  0.984990  0.933510  0.849338  0.852711\n",
       "EXT10  0.986115  0.911547  1.000000  0.949011  0.984064  0.942080  0.946669\n",
       "EXT30  0.936001  0.984990  0.949011  1.000000  0.951313  0.873825  0.874188\n",
       "GTR30  0.996940  0.933510  0.984064  0.951313  1.000000  0.960060  0.934638\n",
       "NTSR   0.970110  0.849338  0.942080  0.873825  0.960060  1.000000  0.947336\n",
       "NTLR   0.945243  0.852711  0.946669  0.874188  0.934638  0.947336  1.000000"
      ]
     },
     "execution_count": 63,
     "metadata": {},
     "output_type": "execute_result"
    }
   ],
   "source": [
    "carbon.corr()"
   ]
  },
  {
   "cell_type": "markdown",
   "metadata": {},
   "source": [
    "### Klustering according to the features"
   ]
  },
  {
   "cell_type": "code",
   "execution_count": null,
   "metadata": {
    "collapsed": true
   },
   "outputs": [],
   "source": []
  }
 ],
 "metadata": {
  "kernelspec": {
   "display_name": "Python 2",
   "language": "python",
   "name": "python2"
  },
  "language_info": {
   "codemirror_mode": {
    "name": "ipython",
    "version": 2
   },
   "file_extension": ".py",
   "mimetype": "text/x-python",
   "name": "python",
   "nbconvert_exporter": "python",
   "pygments_lexer": "ipython2",
   "version": "2.7.11"
  }
 },
 "nbformat": 4,
 "nbformat_minor": 0
}
