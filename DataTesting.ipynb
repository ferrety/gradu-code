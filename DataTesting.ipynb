{
 "cells": [
  {
   "cell_type": "code",
   "execution_count": 1,
   "metadata": {},
   "outputs": [],
   "source": [
    " %matplotlib inline\n",
    "import seaborn\n",
    "import pandas as pd\n",
    "import numpy as np\n",
    "import matplotlib.pyplot as plt\n",
    "import os"
   ]
  },
  {
   "cell_type": "code",
   "execution_count": 2,
   "metadata": {},
   "outputs": [],
   "source": [
    "data_dir = os.path.join(os.getcwd(), '../boreal_data')\n",
    "\n",
    "carbon = pd.read_csv(os.path.join(data_dir, 'Carbon_storage.csv'))\n",
    "HA = pd.read_csv(os.path.join(data_dir, 'Combined_HA.csv'))\n",
    "deadwood = pd.read_csv(os.path.join(data_dir, 'Deadwood_volume.csv'))\n",
    "revenue = pd.read_csv(os.path.join(data_dir, 'Timber_revenues.csv'))"
   ]
  },
  {
   "cell_type": "code",
   "execution_count": 3,
   "metadata": {},
   "outputs": [],
   "source": [
    "carbon_clean = carbon.dropna(axis=0, how='any')\n",
    "HA_clean = HA.dropna(axis=0, how='any')\n",
    "deadwood_clean = deadwood.dropna(axis=0, how='any')\n",
    "revenue_clean = revenue.dropna(axis=0, how='any')"
   ]
  },
  {
   "cell_type": "code",
   "execution_count": 4,
   "metadata": {},
   "outputs": [
    {
     "name": "stdout",
     "output_type": "stream",
     "text": [
      "Size of the original dataset: 29666\n"
     ]
    },
    {
     "data": {
      "text/html": [
       "<div>\n",
       "<style scoped>\n",
       "    .dataframe tbody tr th:only-of-type {\n",
       "        vertical-align: middle;\n",
       "    }\n",
       "\n",
       "    .dataframe tbody tr th {\n",
       "        vertical-align: top;\n",
       "    }\n",
       "\n",
       "    .dataframe thead th {\n",
       "        text-align: right;\n",
       "    }\n",
       "</style>\n",
       "<table border=\"1\" class=\"dataframe\">\n",
       "  <thead>\n",
       "    <tr style=\"text-align: right;\">\n",
       "      <th></th>\n",
       "      <th>BAU</th>\n",
       "      <th>SA</th>\n",
       "      <th>EXT10</th>\n",
       "      <th>EXT30</th>\n",
       "      <th>GTR30</th>\n",
       "      <th>NTSR</th>\n",
       "      <th>NTLR</th>\n",
       "    </tr>\n",
       "  </thead>\n",
       "  <tbody>\n",
       "    <tr>\n",
       "      <th>count</th>\n",
       "      <td>29666.000000</td>\n",
       "      <td>29666.000000</td>\n",
       "      <td>18156.000000</td>\n",
       "      <td>18156.000000</td>\n",
       "      <td>18124.000000</td>\n",
       "      <td>29666.000000</td>\n",
       "      <td>17847.000000</td>\n",
       "    </tr>\n",
       "    <tr>\n",
       "      <th>mean</th>\n",
       "      <td>93.542363</td>\n",
       "      <td>149.333008</td>\n",
       "      <td>114.676874</td>\n",
       "      <td>154.363833</td>\n",
       "      <td>105.624315</td>\n",
       "      <td>97.043721</td>\n",
       "      <td>116.497451</td>\n",
       "    </tr>\n",
       "    <tr>\n",
       "      <th>std</th>\n",
       "      <td>87.569930</td>\n",
       "      <td>153.393324</td>\n",
       "      <td>104.095941</td>\n",
       "      <td>140.609791</td>\n",
       "      <td>94.791551</td>\n",
       "      <td>93.647250</td>\n",
       "      <td>110.303848</td>\n",
       "    </tr>\n",
       "    <tr>\n",
       "      <th>min</th>\n",
       "      <td>0.528391</td>\n",
       "      <td>0.703060</td>\n",
       "      <td>0.702948</td>\n",
       "      <td>0.703060</td>\n",
       "      <td>0.528391</td>\n",
       "      <td>0.528992</td>\n",
       "      <td>0.528992</td>\n",
       "    </tr>\n",
       "    <tr>\n",
       "      <th>25%</th>\n",
       "      <td>33.240975</td>\n",
       "      <td>45.768475</td>\n",
       "      <td>41.986375</td>\n",
       "      <td>55.028475</td>\n",
       "      <td>39.033875</td>\n",
       "      <td>33.549600</td>\n",
       "      <td>42.137100</td>\n",
       "    </tr>\n",
       "    <tr>\n",
       "      <th>50%</th>\n",
       "      <td>68.769550</td>\n",
       "      <td>101.406000</td>\n",
       "      <td>86.173850</td>\n",
       "      <td>114.882500</td>\n",
       "      <td>79.590100</td>\n",
       "      <td>70.569900</td>\n",
       "      <td>86.482300</td>\n",
       "    </tr>\n",
       "    <tr>\n",
       "      <th>75%</th>\n",
       "      <td>126.093000</td>\n",
       "      <td>198.893000</td>\n",
       "      <td>155.087000</td>\n",
       "      <td>210.267500</td>\n",
       "      <td>143.225500</td>\n",
       "      <td>130.455000</td>\n",
       "      <td>157.002000</td>\n",
       "    </tr>\n",
       "    <tr>\n",
       "      <th>max</th>\n",
       "      <td>1315.320000</td>\n",
       "      <td>2059.990000</td>\n",
       "      <td>1687.460000</td>\n",
       "      <td>1877.590000</td>\n",
       "      <td>1358.400000</td>\n",
       "      <td>1308.370000</td>\n",
       "      <td>1854.630000</td>\n",
       "    </tr>\n",
       "  </tbody>\n",
       "</table>\n",
       "</div>"
      ],
      "text/plain": [
       "                BAU            SA         EXT10         EXT30         GTR30  \\\n",
       "count  29666.000000  29666.000000  18156.000000  18156.000000  18124.000000   \n",
       "mean      93.542363    149.333008    114.676874    154.363833    105.624315   \n",
       "std       87.569930    153.393324    104.095941    140.609791     94.791551   \n",
       "min        0.528391      0.703060      0.702948      0.703060      0.528391   \n",
       "25%       33.240975     45.768475     41.986375     55.028475     39.033875   \n",
       "50%       68.769550    101.406000     86.173850    114.882500     79.590100   \n",
       "75%      126.093000    198.893000    155.087000    210.267500    143.225500   \n",
       "max     1315.320000   2059.990000   1687.460000   1877.590000   1358.400000   \n",
       "\n",
       "               NTSR          NTLR  \n",
       "count  29666.000000  17847.000000  \n",
       "mean      97.043721    116.497451  \n",
       "std       93.647250    110.303848  \n",
       "min        0.528992      0.528992  \n",
       "25%       33.549600     42.137100  \n",
       "50%       70.569900     86.482300  \n",
       "75%      130.455000    157.002000  \n",
       "max     1308.370000   1854.630000  "
      ]
     },
     "execution_count": 4,
     "metadata": {},
     "output_type": "execute_result"
    }
   ],
   "source": [
    "print('Size of the original dataset: %r' % len(carbon))\n",
    "carbon.describe()"
   ]
  },
  {
   "cell_type": "code",
   "execution_count": 5,
   "metadata": {
    "scrolled": false
   },
   "outputs": [
    {
     "name": "stdout",
     "output_type": "stream",
     "text": [
      "Size of cleaned dataset: 16793\n"
     ]
    },
    {
     "data": {
      "text/html": [
       "<div>\n",
       "<style scoped>\n",
       "    .dataframe tbody tr th:only-of-type {\n",
       "        vertical-align: middle;\n",
       "    }\n",
       "\n",
       "    .dataframe tbody tr th {\n",
       "        vertical-align: top;\n",
       "    }\n",
       "\n",
       "    .dataframe thead th {\n",
       "        text-align: right;\n",
       "    }\n",
       "</style>\n",
       "<table border=\"1\" class=\"dataframe\">\n",
       "  <thead>\n",
       "    <tr style=\"text-align: right;\">\n",
       "      <th></th>\n",
       "      <th>BAU</th>\n",
       "      <th>SA</th>\n",
       "      <th>EXT10</th>\n",
       "      <th>EXT30</th>\n",
       "      <th>GTR30</th>\n",
       "      <th>NTSR</th>\n",
       "      <th>NTLR</th>\n",
       "    </tr>\n",
       "  </thead>\n",
       "  <tbody>\n",
       "    <tr>\n",
       "      <th>count</th>\n",
       "      <td>16793.000000</td>\n",
       "      <td>16793.000000</td>\n",
       "      <td>16793.000000</td>\n",
       "      <td>16793.000000</td>\n",
       "      <td>16793.000000</td>\n",
       "      <td>16793.000000</td>\n",
       "      <td>16793.000000</td>\n",
       "    </tr>\n",
       "    <tr>\n",
       "      <th>mean</th>\n",
       "      <td>98.732481</td>\n",
       "      <td>188.227387</td>\n",
       "      <td>113.559685</td>\n",
       "      <td>156.469401</td>\n",
       "      <td>104.104000</td>\n",
       "      <td>96.331336</td>\n",
       "      <td>116.455191</td>\n",
       "    </tr>\n",
       "    <tr>\n",
       "      <th>std</th>\n",
       "      <td>89.649480</td>\n",
       "      <td>174.631596</td>\n",
       "      <td>103.489299</td>\n",
       "      <td>142.527008</td>\n",
       "      <td>93.703542</td>\n",
       "      <td>89.691396</td>\n",
       "      <td>110.026271</td>\n",
       "    </tr>\n",
       "    <tr>\n",
       "      <th>min</th>\n",
       "      <td>0.528391</td>\n",
       "      <td>0.703060</td>\n",
       "      <td>0.702948</td>\n",
       "      <td>0.703060</td>\n",
       "      <td>0.528391</td>\n",
       "      <td>0.528992</td>\n",
       "      <td>0.528992</td>\n",
       "    </tr>\n",
       "    <tr>\n",
       "      <th>25%</th>\n",
       "      <td>36.316700</td>\n",
       "      <td>65.267500</td>\n",
       "      <td>41.605000</td>\n",
       "      <td>55.624800</td>\n",
       "      <td>38.293500</td>\n",
       "      <td>34.432600</td>\n",
       "      <td>42.237300</td>\n",
       "    </tr>\n",
       "    <tr>\n",
       "      <th>50%</th>\n",
       "      <td>74.266000</td>\n",
       "      <td>137.998000</td>\n",
       "      <td>85.293000</td>\n",
       "      <td>116.407000</td>\n",
       "      <td>78.513900</td>\n",
       "      <td>71.595400</td>\n",
       "      <td>86.506000</td>\n",
       "    </tr>\n",
       "    <tr>\n",
       "      <th>75%</th>\n",
       "      <td>134.002000</td>\n",
       "      <td>256.034000</td>\n",
       "      <td>154.224000</td>\n",
       "      <td>212.758000</td>\n",
       "      <td>141.506000</td>\n",
       "      <td>131.027000</td>\n",
       "      <td>157.088000</td>\n",
       "    </tr>\n",
       "    <tr>\n",
       "      <th>max</th>\n",
       "      <td>1315.320000</td>\n",
       "      <td>2059.990000</td>\n",
       "      <td>1687.460000</td>\n",
       "      <td>1877.590000</td>\n",
       "      <td>1358.400000</td>\n",
       "      <td>1308.370000</td>\n",
       "      <td>1854.630000</td>\n",
       "    </tr>\n",
       "  </tbody>\n",
       "</table>\n",
       "</div>"
      ],
      "text/plain": [
       "                BAU            SA         EXT10         EXT30         GTR30  \\\n",
       "count  16793.000000  16793.000000  16793.000000  16793.000000  16793.000000   \n",
       "mean      98.732481    188.227387    113.559685    156.469401    104.104000   \n",
       "std       89.649480    174.631596    103.489299    142.527008     93.703542   \n",
       "min        0.528391      0.703060      0.702948      0.703060      0.528391   \n",
       "25%       36.316700     65.267500     41.605000     55.624800     38.293500   \n",
       "50%       74.266000    137.998000     85.293000    116.407000     78.513900   \n",
       "75%      134.002000    256.034000    154.224000    212.758000    141.506000   \n",
       "max     1315.320000   2059.990000   1687.460000   1877.590000   1358.400000   \n",
       "\n",
       "               NTSR          NTLR  \n",
       "count  16793.000000  16793.000000  \n",
       "mean      96.331336    116.455191  \n",
       "std       89.691396    110.026271  \n",
       "min        0.528992      0.528992  \n",
       "25%       34.432600     42.237300  \n",
       "50%       71.595400     86.506000  \n",
       "75%      131.027000    157.088000  \n",
       "max     1308.370000   1854.630000  "
      ]
     },
     "execution_count": 5,
     "metadata": {},
     "output_type": "execute_result"
    }
   ],
   "source": [
    "print('Size of cleaned dataset: % r' % len(carbon_clean))\n",
    "carbon_clean.describe()"
   ]
  },
  {
   "cell_type": "markdown",
   "metadata": {},
   "source": [
    "Objective function as described in the paper \"Spatially dynamic forest management to sustain biodiversity and economic returns\". So if the value is Nan, then apply the Business as Usual scheme."
   ]
  },
  {
   "cell_type": "code",
   "execution_count": 6,
   "metadata": {},
   "outputs": [],
   "source": [
    "def objective_value(obj, x):\n",
    "    '''\n",
    "    Sums values of the given column on each row of the\n",
    "    dataframe. If the value on the given column at \n",
    "    some row is Nan, then selects the first value from\n",
    "    that row (according to the original source of the data)\n",
    "    '''\n",
    "    summ = .0\n",
    "    for ind, col in zip(range(len(x)), x):\n",
    "        if not np.isnan(obj.iat[ind,col]):\n",
    "            summ += obj.iat[ind,col]\n",
    "        else:\n",
    "            summ += obj.iat[ind,0]\n",
    "    return summ"
   ]
  },
  {
   "cell_type": "code",
   "execution_count": 7,
   "metadata": {},
   "outputs": [],
   "source": [
    "carbon_values = pd.DataFrame({'BAU': objective_value(carbon, np.zeros(len(carbon), dtype=int)),\n",
    "'SA': objective_value(carbon, np.ones(len(carbon), dtype=int)),\n",
    "'EXT10': objective_value(carbon, np.ones(len(carbon), dtype=int)*2),\n",
    "'EXT30': objective_value(carbon, np.ones(len(carbon), dtype=int)*3),\n",
    "'GTR30': objective_value(carbon, np.ones(len(carbon), dtype=int)*4),\n",
    "'NTSR': objective_value(carbon, np.ones(len(carbon), dtype=int)*5),\n",
    "'NTLR': objective_value(carbon, np.ones(len(carbon), dtype=int)*6)}, index=pd.Series([1]))"
   ]
  },
  {
   "cell_type": "code",
   "execution_count": 8,
   "metadata": {},
   "outputs": [
    {
     "name": "stdout",
     "output_type": "stream",
     "text": [
      "Maximum values for all the harvesting schemes using original data:\n"
     ]
    },
    {
     "data": {
      "text/html": [
       "<div>\n",
       "<style scoped>\n",
       "    .dataframe tbody tr th:only-of-type {\n",
       "        vertical-align: middle;\n",
       "    }\n",
       "\n",
       "    .dataframe tbody tr th {\n",
       "        vertical-align: top;\n",
       "    }\n",
       "\n",
       "    .dataframe thead th {\n",
       "        text-align: right;\n",
       "    }\n",
       "</style>\n",
       "<table border=\"1\" class=\"dataframe\">\n",
       "  <thead>\n",
       "    <tr style=\"text-align: right;\">\n",
       "      <th></th>\n",
       "      <th>BAU</th>\n",
       "      <th>EXT10</th>\n",
       "      <th>EXT30</th>\n",
       "      <th>GTR30</th>\n",
       "      <th>NTLR</th>\n",
       "      <th>NTSR</th>\n",
       "      <th>SA</th>\n",
       "    </tr>\n",
       "  </thead>\n",
       "  <tbody>\n",
       "    <tr>\n",
       "      <th>1</th>\n",
       "      <td>2.775028e+06</td>\n",
       "      <td>3.031424e+06</td>\n",
       "      <td>3.751980e+06</td>\n",
       "      <td>2.865804e+06</td>\n",
       "      <td>3.089092e+06</td>\n",
       "      <td>2.878899e+06</td>\n",
       "      <td>4.430113e+06</td>\n",
       "    </tr>\n",
       "  </tbody>\n",
       "</table>\n",
       "</div>"
      ],
      "text/plain": [
       "            BAU         EXT10         EXT30         GTR30          NTLR  \\\n",
       "1  2.775028e+06  3.031424e+06  3.751980e+06  2.865804e+06  3.089092e+06   \n",
       "\n",
       "           NTSR            SA  \n",
       "1  2.878899e+06  4.430113e+06  "
      ]
     },
     "execution_count": 8,
     "metadata": {},
     "output_type": "execute_result"
    }
   ],
   "source": [
    "print('Maximum values for all the harvesting schemes using original data:')\n",
    "carbon_values"
   ]
  },
  {
   "cell_type": "code",
   "execution_count": 9,
   "metadata": {},
   "outputs": [],
   "source": [
    "clean_carbon_values = pd.DataFrame({'BAU': objective_value(carbon_clean, np.zeros(len(carbon_clean), dtype=int)),\n",
    "'SA': objective_value(carbon_clean, np.ones(len(carbon_clean), dtype=int)),\n",
    "'EXT10': objective_value(carbon_clean, np.ones(len(carbon_clean), dtype=int)*2),\n",
    "'EXT30': objective_value(carbon_clean, np.ones(len(carbon_clean), dtype=int)*3),\n",
    "'GTR30': objective_value(carbon_clean, np.ones(len(carbon_clean), dtype=int)*4),\n",
    "'NTSR': objective_value(carbon_clean, np.ones(len(carbon_clean), dtype=int)*5),\n",
    "'NTLR': objective_value(carbon_clean, np.ones(len(carbon_clean), dtype=int)*6)}, index=pd.Series([1]))"
   ]
  },
  {
   "cell_type": "code",
   "execution_count": 10,
   "metadata": {},
   "outputs": [
    {
     "name": "stdout",
     "output_type": "stream",
     "text": [
      "Maximum values for all the harvesting schemes using original data:\n"
     ]
    },
    {
     "data": {
      "text/html": [
       "<div>\n",
       "<style scoped>\n",
       "    .dataframe tbody tr th:only-of-type {\n",
       "        vertical-align: middle;\n",
       "    }\n",
       "\n",
       "    .dataframe tbody tr th {\n",
       "        vertical-align: top;\n",
       "    }\n",
       "\n",
       "    .dataframe thead th {\n",
       "        text-align: right;\n",
       "    }\n",
       "</style>\n",
       "<table border=\"1\" class=\"dataframe\">\n",
       "  <thead>\n",
       "    <tr style=\"text-align: right;\">\n",
       "      <th></th>\n",
       "      <th>BAU</th>\n",
       "      <th>EXT10</th>\n",
       "      <th>EXT30</th>\n",
       "      <th>GTR30</th>\n",
       "      <th>NTLR</th>\n",
       "      <th>NTSR</th>\n",
       "      <th>SA</th>\n",
       "    </tr>\n",
       "  </thead>\n",
       "  <tbody>\n",
       "    <tr>\n",
       "      <th>1</th>\n",
       "      <td>1.658015e+06</td>\n",
       "      <td>1.907008e+06</td>\n",
       "      <td>2.627591e+06</td>\n",
       "      <td>1.748218e+06</td>\n",
       "      <td>1.955632e+06</td>\n",
       "      <td>1.617692e+06</td>\n",
       "      <td>3.160903e+06</td>\n",
       "    </tr>\n",
       "  </tbody>\n",
       "</table>\n",
       "</div>"
      ],
      "text/plain": [
       "            BAU         EXT10         EXT30         GTR30          NTLR  \\\n",
       "1  1.658015e+06  1.907008e+06  2.627591e+06  1.748218e+06  1.955632e+06   \n",
       "\n",
       "           NTSR            SA  \n",
       "1  1.617692e+06  3.160903e+06  "
      ]
     },
     "execution_count": 10,
     "metadata": {},
     "output_type": "execute_result"
    }
   ],
   "source": [
    "print('Maximum values for all the harvesting schemes using original data:')\n",
    "clean_carbon_values"
   ]
  },
  {
   "cell_type": "code",
   "execution_count": 11,
   "metadata": {},
   "outputs": [
    {
     "data": {
      "image/png": "[encoded data removed]",
      "text/plain": [
       "<matplotlib.figure.Figure at 0x7f60e77ebf28>"
      ]
     },
     "metadata": {},
     "output_type": "display_data"
    }
   ],
   "source": [
    "carbon_pic = carbon_values.plot(kind='bar')"
   ]
  },
  {
   "cell_type": "markdown",
   "metadata": {},
   "source": [
    "Resulting bar-graph looks the same than in the paper.."
   ]
  },
  {
   "cell_type": "code",
   "execution_count": 12,
   "metadata": {
    "scrolled": true
   },
   "outputs": [
    {
     "data": {
      "text/plain": [
       "<matplotlib.axes._subplots.AxesSubplot at 0x7f60e571a5c0>"
      ]
     },
     "execution_count": 12,
     "metadata": {},
     "output_type": "execute_result"
    },
    {
     "data": {
      "image/png": "[encoded data removed]",
      "text/plain": [
       "<matplotlib.figure.Figure at 0x7f60e7786748>"
      ]
     },
     "metadata": {},
     "output_type": "display_data"
    }
   ],
   "source": [
    "clean_carbon_values.plot(kind='bar')"
   ]
  },
  {
   "cell_type": "markdown",
   "metadata": {},
   "source": [
    "## Different way to evaluate data with Nan-values"
   ]
  },
  {
   "cell_type": "code",
   "execution_count": 13,
   "metadata": {},
   "outputs": [],
   "source": [
    "#x = np.array(['NTLR']).repeat(len(carbon))\n",
    "x = np.ones(len(carbon), dtype=int)*6"
   ]
  },
  {
   "cell_type": "code",
   "execution_count": 14,
   "metadata": {},
   "outputs": [
    {
     "name": "stdout",
     "output_type": "stream",
     "text": [
      "3089092.29728\n",
      "CPU times: user 748 ms, sys: 68 ms, total: 816 ms\n",
      "Wall time: 743 ms\n"
     ]
    }
   ],
   "source": [
    "%%time \n",
    "print(sum([carbon.iat[ind, col] if not np.isnan(carbon.iat[ind, col]) else carbon.iat[ind, 0] for ind,col in zip(range(len(x)), x)]))"
   ]
  },
  {
   "cell_type": "markdown",
   "metadata": {},
   "source": [
    "## Concat data\n"
   ]
  },
  {
   "cell_type": "code",
   "execution_count": 15,
   "metadata": {},
   "outputs": [],
   "source": [
    "all = pd.concat([carbon[:5], HA[:5], deadwood[:5]], keys=['Carbon', 'HA','Deadwood'])"
   ]
  },
  {
   "cell_type": "code",
   "execution_count": 16,
   "metadata": {},
   "outputs": [
    {
     "data": {
      "text/plain": [
       "pandas.core.frame.DataFrame"
      ]
     },
     "execution_count": 16,
     "metadata": {},
     "output_type": "execute_result"
    }
   ],
   "source": [
    "type(all)"
   ]
  },
  {
   "cell_type": "code",
   "execution_count": 17,
   "metadata": {},
   "outputs": [
    {
     "data": {
      "text/plain": [
       "pandas.core.series.Series"
      ]
     },
     "execution_count": 17,
     "metadata": {},
     "output_type": "execute_result"
    }
   ],
   "source": [
    "type(all.loc['Carbon','BAU'])"
   ]
  },
  {
   "cell_type": "markdown",
   "metadata": {},
   "source": [
    "This is not as easy as I thought. It is also important to think what is the most efficient structure for the future use."
   ]
  },
  {
   "cell_type": "markdown",
   "metadata": {},
   "source": [
    "# Optimization"
   ]
  },
  {
   "cell_type": "markdown",
   "metadata": {},
   "source": [
    "Not gonna happen with these computers. There is no suitable libraries and no option to download one."
   ]
  },
  {
   "cell_type": "code",
   "execution_count": 18,
   "metadata": {},
   "outputs": [],
   "source": [
    "import scipy.optimize"
   ]
  },
  {
   "cell_type": "code",
   "execution_count": 19,
   "metadata": {},
   "outputs": [
    {
     "ename": "SyntaxError",
     "evalue": "unexpected EOF while parsing (<ipython-input-19-72f9ddee0ab8>, line 1)",
     "output_type": "error",
     "traceback": [
      "\u001b[0;36m  File \u001b[0;32m\"<ipython-input-19-72f9ddee0ab8>\"\u001b[0;36m, line \u001b[0;32m1\u001b[0m\n\u001b[0;31m    optimize.linprog(carbon_clean[:5].values.flatten(),\u001b[0m\n\u001b[0m                                                        ^\u001b[0m\n\u001b[0;31mSyntaxError\u001b[0m\u001b[0;31m:\u001b[0m unexpected EOF while parsing\n"
     ]
    }
   ],
   "source": [
    "optimize.linprog(carbon_clean[:5].values.flatten(), "
   ]
  },
  {
   "cell_type": "code",
   "execution_count": null,
   "metadata": {},
   "outputs": [],
   "source": [
    "carbon_clean[:5].values"
   ]
  },
  {
   "cell_type": "markdown",
   "metadata": {},
   "source": [
    "# Klustering"
   ]
  },
  {
   "cell_type": "markdown",
   "metadata": {},
   "source": [
    "### Feature selection"
   ]
  },
  {
   "cell_type": "code",
   "execution_count": null,
   "metadata": {},
   "outputs": [],
   "source": [
    "carbon.corr()"
   ]
  },
  {
   "cell_type": "markdown",
   "metadata": {},
   "source": [
    "### Klustering according to the features"
   ]
  },
  {
   "cell_type": "code",
   "execution_count": null,
   "metadata": {},
   "outputs": [],
   "source": []
  }
 ],
 "metadata": {
  "kernelspec": {
   "display_name": "Python 3",
   "language": "python",
   "name": "python3"
  },
  "language_info": {
   "codemirror_mode": {
    "name": "ipython",
    "version": 3
   },
   "file_extension": ".py",
   "mimetype": "text/x-python",
   "name": "python",
   "nbconvert_exporter": "python",
   "pygments_lexer": "ipython3",
   "version": "3.5.2"
  }
 },
 "nbformat": 4,
 "nbformat_minor": 1
}
