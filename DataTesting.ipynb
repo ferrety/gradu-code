{
 "cells": [
  {
   "cell_type": "code",
   "execution_count": 263,
   "metadata": {},
   "outputs": [],
   "source": [
    " %matplotlib inline\n",
    "import seaborn\n",
    "import pandas as pd\n",
    "import numpy as np\n",
    "import matplotlib.pyplot as plt\n",
    "import os"
   ]
  },
  {
   "cell_type": "markdown",
   "metadata": {},
   "source": [
    "## The Boreal Forest Data"
   ]
  },
  {
   "cell_type": "markdown",
   "metadata": {},
   "source": [
    "TODO: Describe here where the data is from and what does it really mean. Describe the variables and different \"levels\" (BAU, SA etc.)"
   ]
  },
  {
   "cell_type": "code",
   "execution_count": 264,
   "metadata": {},
   "outputs": [],
   "source": [
    "data_dir = os.path.join(os.getcwd(), '../boreal_data')\n",
    "\n",
    "carbon = pd.read_csv(os.path.join(data_dir, 'Carbon_storage.csv'))\n",
    "HA = pd.read_csv(os.path.join(data_dir, 'Combined_HA.csv'))\n",
    "deadwood = pd.read_csv(os.path.join(data_dir, 'Deadwood_volume.csv'))\n",
    "revenue = pd.read_csv(os.path.join(data_dir, 'Timber_revenues.csv'))"
   ]
  },
  {
   "cell_type": "markdown",
   "metadata": {},
   "source": [
    "## Cleaning the data"
   ]
  },
  {
   "cell_type": "markdown",
   "metadata": {},
   "source": [
    "In the papers related to this data it says that:\n",
    "- GTR30, EXT10 and EXT30 were not allowed for stands that didn't reach maturity\n",
    "- No-thinning not allowed for stands were no-thinning according to the BAU scheme\n",
    "- SA not allowed for stands where no thinning or harvest in BAU either"
   ]
  },
  {
   "cell_type": "markdown",
   "metadata": {},
   "source": [
    "Now it looks like the NaN values are at the same places in all the files. It would be good to examine that more thoroughly:"
   ]
  },
  {
   "cell_type": "code",
   "execution_count": 265,
   "metadata": {},
   "outputs": [],
   "source": [
    "(carbon.isnull()==HA.isnull()).all()"
   ]
  },
  {
   "cell_type": "code",
   "execution_count": 266,
   "metadata": {
    "scrolled": true
   },
   "outputs": [],
   "source": [
    "(HA.isnull()==deadwood.isnull()).all()"
   ]
  },
  {
   "cell_type": "code",
   "execution_count": 267,
   "metadata": {
    "scrolled": true
   },
   "outputs": [],
   "source": [
    "(deadwood.isnull()==revenue.isnull()).all()"
   ]
  },
  {
   "cell_type": "markdown",
   "metadata": {},
   "source": [
    "We would now conclude that it is safe to say all the Nan values are at exactly the same places for all the files. Then we could remova all the rows (forest stands) that have any NaN values, and the id's of rows (stands) will still match."
   ]
  },
  {
   "cell_type": "code",
   "execution_count": 268,
   "metadata": {},
   "outputs": [],
   "source": [
    "carbon_clean = carbon.dropna(axis=0, how='any')\n",
    "HA_clean = HA.dropna(axis=0, how='any')\n",
    "deadwood_clean = deadwood.dropna(axis=0, how='any')\n",
    "revenue_clean = revenue.dropna(axis=0, how='any')"
   ]
  },
  {
   "cell_type": "code",
   "execution_count": 269,
   "metadata": {},
   "outputs": [],
   "source": [
    "print('Size of the original dataset: %r' % len(carbon))\n",
    "carbon.describe()"
   ]
  },
  {
   "cell_type": "code",
   "execution_count": 270,
   "metadata": {
    "scrolled": false
   },
   "outputs": [],
   "source": [
    "print('Size of cleaned dataset: % r' % len(carbon_clean))\n",
    "carbon_clean.describe()"
   ]
  },
  {
   "cell_type": "markdown",
   "metadata": {},
   "source": [
    "## Relationships between Nans"
   ]
  },
  {
   "cell_type": "code",
   "execution_count": 271,
   "metadata": {},
   "outputs": [],
   "source": [
    "carbon[carbon.BAU.isnull()].count()"
   ]
  },
  {
   "cell_type": "code",
   "execution_count": 272,
   "metadata": {},
   "outputs": [],
   "source": [
    "carbon[carbon.SA.isnull()].count()"
   ]
  },
  {
   "cell_type": "code",
   "execution_count": 273,
   "metadata": {},
   "outputs": [],
   "source": [
    "carbon[carbon.EXT10.isnull()].count()"
   ]
  },
  {
   "cell_type": "code",
   "execution_count": 274,
   "metadata": {},
   "outputs": [],
   "source": [
    "carbon[carbon.EXT30.isnull()].count()"
   ]
  },
  {
   "cell_type": "code",
   "execution_count": 275,
   "metadata": {},
   "outputs": [],
   "source": [
    "carbon[carbon.GTR30.isnull()].count()"
   ]
  },
  {
   "cell_type": "code",
   "execution_count": 276,
   "metadata": {},
   "outputs": [],
   "source": [
    "carbon[carbon.NTSR.isnull()].count()"
   ]
  },
  {
   "cell_type": "code",
   "execution_count": 277,
   "metadata": {},
   "outputs": [],
   "source": [
    "carbon[carbon.NTLR.isnull()].count()"
   ]
  },
  {
   "cell_type": "markdown",
   "metadata": {},
   "source": [
    "### Outcomes of comparisons"
   ]
  },
  {
   "cell_type": "markdown",
   "metadata": {},
   "source": [
    "- BAU and SA are never Nan\n",
    "- If EXT10 is NaN\n",
    " - then EXT30 and GTR30 are NaN\n",
    "- If EXT39 is NaN\n",
    " - then EXT10 is NaN\n",
    "- IF GTR30 or NLTR is NaN\n",
    " - doesn't imply anything else\n"
   ]
  },
  {
   "cell_type": "markdown",
   "metadata": {},
   "source": [
    "## Correlation of Nan within the data"
   ]
  },
  {
   "cell_type": "code",
   "execution_count": 278,
   "metadata": {},
   "outputs": [],
   "source": [
    "carbon[carbon.BAU.isnull()].count()"
   ]
  },
  {
   "cell_type": "markdown",
   "metadata": {},
   "source": [
    "## Objective values"
   ]
  },
  {
   "cell_type": "markdown",
   "metadata": {},
   "source": [
    "Objective function as described in the paper \"Spatially dynamic forest management to sustain biodiversity and economic returns\". So if the value is Nan, then apply the Business as Usual scheme."
   ]
  },
  {
   "cell_type": "code",
   "execution_count": 279,
   "metadata": {},
   "outputs": [],
   "source": [
    "def objective_value(obj, x):\n",
    "    '''\n",
    "    Sums values of the given column on each row of the\n",
    "    dataframe. If the value on the given column at \n",
    "    some row is Nan, then selects the first value from\n",
    "    that row (according to the original source of the data)\n",
    "    '''\n",
    "    summ = .0\n",
    "    for ind, col in zip(range(len(x)), x):\n",
    "        if not np.isnan(obj.iat[ind,col]):\n",
    "            summ += obj.iat[ind,col]\n",
    "        else:\n",
    "            summ += obj.iat[ind,0]\n",
    "    return summ"
   ]
  },
  {
   "cell_type": "code",
   "execution_count": 280,
   "metadata": {},
   "outputs": [],
   "source": [
    "carbon_values = pd.DataFrame({'BAU': objective_value(carbon, np.zeros(len(carbon), dtype=int)),\n",
    "'SA': objective_value(carbon, np.ones(len(carbon), dtype=int)),\n",
    "'EXT10': objective_value(carbon, np.ones(len(carbon), dtype=int)*2),\n",
    "'EXT30': objective_value(carbon, np.ones(len(carbon), dtype=int)*3),\n",
    "'GTR30': objective_value(carbon, np.ones(len(carbon), dtype=int)*4),\n",
    "'NTSR': objective_value(carbon, np.ones(len(carbon), dtype=int)*5),\n",
    "'NTLR': objective_value(carbon, np.ones(len(carbon), dtype=int)*6)}, index=pd.Series([1]))"
   ]
  },
  {
   "cell_type": "code",
   "execution_count": 281,
   "metadata": {},
   "outputs": [],
   "source": [
    "print('Maximum values for all the harvesting schemes using original data:')\n",
    "carbon_values"
   ]
  },
  {
   "cell_type": "code",
   "execution_count": 282,
   "metadata": {},
   "outputs": [],
   "source": [
    "clean_carbon_values = pd.DataFrame({'BAU': objective_value(carbon_clean, np.zeros(len(carbon_clean), dtype=int)),\n",
    "'SA': objective_value(carbon_clean, np.ones(len(carbon_clean), dtype=int)),\n",
    "'EXT10': objective_value(carbon_clean, np.ones(len(carbon_clean), dtype=int)*2),\n",
    "'EXT30': objective_value(carbon_clean, np.ones(len(carbon_clean), dtype=int)*3),\n",
    "'GTR30': objective_value(carbon_clean, np.ones(len(carbon_clean), dtype=int)*4),\n",
    "'NTSR': objective_value(carbon_clean, np.ones(len(carbon_clean), dtype=int)*5),\n",
    "'NTLR': objective_value(carbon_clean, np.ones(len(carbon_clean), dtype=int)*6)}, index=pd.Series([1]))"
   ]
  },
  {
   "cell_type": "code",
   "execution_count": 283,
   "metadata": {},
   "outputs": [],
   "source": [
    "print('Maximum values for all the harvesting schemes using original data:')\n",
    "clean_carbon_values"
   ]
  },
  {
   "cell_type": "code",
   "execution_count": 284,
   "metadata": {},
   "outputs": [],
   "source": [
    "carbon_pic = carbon_values.plot(kind='bar')"
   ]
  },
  {
   "cell_type": "markdown",
   "metadata": {},
   "source": [
    "Resulting bar-graph looks the same than in the paper.."
   ]
  },
  {
   "cell_type": "code",
   "execution_count": 285,
   "metadata": {
    "scrolled": true
   },
   "outputs": [],
   "source": [
    "clean_carbon_values.plot(kind='bar')"
   ]
  },
  {
   "cell_type": "markdown",
   "metadata": {},
   "source": [
    "## Different way to evaluate data with Nan-values"
   ]
  },
  {
   "cell_type": "code",
   "execution_count": 286,
   "metadata": {},
   "outputs": [],
   "source": [
    "#x = np.array(['NTLR']).repeat(len(carbon))\n",
    "x = np.ones(len(carbon), dtype=int)*6"
   ]
  },
  {
   "cell_type": "code",
   "execution_count": 287,
   "metadata": {},
   "outputs": [],
   "source": [
    "%%time \n",
    "print(sum([carbon.iat[ind, col] if not np.isnan(carbon.iat[ind, col]) else carbon.iat[ind, 0] for ind,col in zip(range(len(x)), x)]))"
   ]
  },
  {
   "cell_type": "markdown",
   "metadata": {},
   "source": [
    "## Concat data\n"
   ]
  },
  {
   "cell_type": "code",
   "execution_count": 288,
   "metadata": {},
   "outputs": [],
   "source": [
    "all_vars = pd.concat([carbon[:5], HA[:5], deadwood[:5]], keys=['Carbon', 'HA','Deadwood'])"
   ]
  },
  {
   "cell_type": "code",
   "execution_count": 289,
   "metadata": {},
   "outputs": [],
   "source": [
    "type(all_vars)"
   ]
  },
  {
   "cell_type": "code",
   "execution_count": 290,
   "metadata": {},
   "outputs": [],
   "source": [
    "type(all_vars.loc['Carbon','BAU'])"
   ]
  },
  {
   "cell_type": "markdown",
   "metadata": {},
   "source": [
    "This is not as easy as I thought. It is also important to think what is the most efficient structure for the future use."
   ]
  },
  {
   "cell_type": "markdown",
   "metadata": {},
   "source": [
    "# Optimization"
   ]
  },
  {
   "cell_type": "code",
   "execution_count": 291,
   "metadata": {},
   "outputs": [],
   "source": [
    "%%time\n",
    "from __future__ import division\n",
    "from pyomo.environ import *\n",
    "\n",
    "model = ConcreteModel()\n",
    "\n",
    "\n",
    "data = carbon_clean\n",
    "model.n = Param(within=NonNegativeIntegers, initialize=len(data))\n",
    "model.m = Param(within=NonNegativeIntegers, initialize=len(list(data)))\n",
    "\n",
    "model.I = RangeSet(0, model.n-1)\n",
    "model.J = RangeSet(0, model.m-1)\n",
    "\n",
    "model.x = Var(model.I, model.J, domain=Binary, initialize=0.0)\n",
    "for i in model.I:\n",
    "    model.x[i,0].value = 1.0\n",
    "\n",
    "def c_init(model, i, j):\n",
    "    return data.values[i,j]\n",
    "\n",
    "\n",
    "model.c = Param(model.I, model.J, initialize=c_init)\n",
    "\n",
    "\n",
    "def obj_fun(model):\n",
    "    return sum(sum(model.x[i,j]*model.c[i,j] for i in model.I) for j in model.J)\n",
    "\n",
    "\n",
    "model.OBJ = Objective(rule=obj_fun, sense=maximize)\n",
    "\n",
    "def constra(model, i):\n",
    "    return sum(model.x[i,j] for j in model.J) == 1 \n",
    "\n",
    "model.Constraint1 = Constraint(model.I, rule=constra)\n",
    "\n",
    "from pyomo.opt import SolverFactory\n",
    "opt = SolverFactory('glpk')\n",
    "res = opt.solve(model, tee=False)"
   ]
  },
  {
   "cell_type": "code",
   "execution_count": 292,
   "metadata": {},
   "outputs": [],
   "source": [
    "res_dict = dict()\n",
    "for i in model.I:\n",
    "    for j in model.J:\n",
    "        res_dict[j] = res_dict.get(j,0) + int(model.x[i,j].value)\n",
    "print('Handling, # of stands')        \n",
    "for key in res_dict:\n",
    "    print(\"{:8} {}\".format(list(data)[key], res_dict[key]))"
   ]
  },
  {
   "cell_type": "markdown",
   "metadata": {},
   "source": [
    "So it looks like we really are able to solve this problem using the original data! (Without Nans)"
   ]
  },
  {
   "cell_type": "markdown",
   "metadata": {},
   "source": [
    "# Clustering"
   ]
  },
  {
   "cell_type": "markdown",
   "metadata": {},
   "source": [
    "### Feature selection"
   ]
  },
  {
   "cell_type": "code",
   "execution_count": 293,
   "metadata": {},
   "outputs": [],
   "source": [
    "carbon.corr()"
   ]
  },
  {
   "cell_type": "markdown",
   "metadata": {},
   "source": [
    "### Clustering according to the features"
   ]
  }
 ],
 "metadata": {
  "git": {
   "suppress_outputs": true
  },
  "kernelspec": {
   "display_name": "Python 3",
   "language": "python",
   "name": "python3"
  },
  "language_info": {
   "codemirror_mode": {
    "name": "ipython",
    "version": 3
   },
   "file_extension": ".py",
   "mimetype": "text/x-python",
   "name": "python",
   "nbconvert_exporter": "python",
   "pygments_lexer": "ipython3",
   "version": "3.5.2"
  }
 },
 "nbformat": 4,
 "nbformat_minor": 1
}