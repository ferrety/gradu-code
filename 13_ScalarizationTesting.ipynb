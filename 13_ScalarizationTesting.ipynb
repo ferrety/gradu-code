{
 "cells": [
  {
   "cell_type": "markdown",
   "metadata": {},
   "source": [
    "# Scalarization testing\n"
   ]
  },
  {
   "cell_type": "markdown",
   "metadata": {},
   "source": [
    "### ASF"
   ]
  },
  {
   "cell_type": "markdown",
   "metadata": {},
   "source": [
    "Now there is standard Achievement Scalarizing Function implemented, so let's use it."
   ]
  },
  {
   "cell_type": "code",
   "execution_count": 1,
   "metadata": {},
   "outputs": [],
   "source": [
    "from ASF import ASF\n",
    "from gradutil import *\n",
    "from pyomo.opt import SolverFactory\n",
    "import logging"
   ]
  },
  {
   "cell_type": "code",
   "execution_count": 2,
   "metadata": {},
   "outputs": [],
   "source": [
    "logger = logging.getLogger('pyomo.opt')\n",
    "logger.setLevel(logging.DEBUG)"
   ]
  },
  {
   "cell_type": "code",
   "execution_count": 3,
   "metadata": {},
   "outputs": [],
   "source": [
    "revenue, carbon, deadwood, ha = init_boreal()\n",
    "ide = ideal(False)\n",
    "nad = nadir(False)\n",
    "opt = SolverFactory('glpk')"
   ]
  },
  {
   "cell_type": "code",
   "execution_count": 4,
   "metadata": {},
   "outputs": [],
   "source": [
    "ind = 100\n",
    "x = np.dstack((normalize(nan_to_bau(revenue[:ind]).values),\n",
    "               normalize(nan_to_bau(carbon[:ind]).values),\n",
    "               normalize(nan_to_bau(deadwood[:ind]).values),\n",
    "               normalize(nan_to_bau(ha[:ind]).values)))\n",
    "X = np.dstack((nan_to_bau(revenue[:ind]).values,\n",
    "               nan_to_bau(carbon[:ind]).values,\n",
    "               nan_to_bau(deadwood[:ind]).values,\n",
    "               nan_to_bau(ha[:ind]).values))"
   ]
  },
  {
   "cell_type": "code",
   "execution_count": 5,
   "metadata": {},
   "outputs": [],
   "source": [
    "%%time\n",
    "ref = np.array((ide[0], 0, 0, 0))\n",
    "asf = ASF(ide, nad, ref, X)\n",
    "opt.solve(asf.model)\n",
    "print(np.sum(values_to_list(asf.model, X), axis=0))"
   ]
  },
  {
   "cell_type": "code",
   "execution_count": 6,
   "metadata": {},
   "outputs": [],
   "source": [
    "%%time\n",
    "ref = np.array((0, ide[1], 0, 0))\n",
    "asf = ASF(ide, nad, ref, X)\n",
    "opt.solve(asf.model)\n",
    "print(np.sum(values_to_list(asf.model,X), axis=0))"
   ]
  },
  {
   "cell_type": "code",
   "execution_count": 7,
   "metadata": {},
   "outputs": [],
   "source": [
    "%%time\n",
    "ref = np.array((0, 0, ide[2], 0))\n",
    "asf = ASF(ide, nad, ref, X)\n",
    "opt.solve(asf.model)\n",
    "print(np.sum(values_to_list(asf.model, X), axis=0))"
   ]
  },
  {
   "cell_type": "markdown",
   "metadata": {},
   "source": [
    "### Timing"
   ]
  },
  {
   "cell_type": "markdown",
   "metadata": {},
   "source": [
    "The ASF function seems to work properly so no problem. Let's see how much time does it take when running in full speed."
   ]
  },
  {
   "cell_type": "code",
   "execution_count": 8,
   "metadata": {},
   "outputs": [],
   "source": [
    "%%time\n",
    "x_full = np.dstack((normalize(nan_to_bau(revenue).values),\n",
    "                   normalize(nan_to_bau(carbon).values),\n",
    "                   normalize(nan_to_bau(deadwood).values),\n",
    "                   normalize(nan_to_bau(ha).values)))\n",
    "X_full = np.dstack((nan_to_bau(revenue).values,\n",
    "                   nan_to_bau(carbon).values,\n",
    "                   nan_to_bau(deadwood).values,\n",
    "                   nan_to_bau(ha).values))"
   ]
  },
  {
   "cell_type": "code",
   "execution_count": null,
   "metadata": {},
   "outputs": [],
   "source": [
    "%%time\n",
    "ref = np.array((0, 0, 0, 0))\n",
    "asf_fullx = ASF(ide, nad, ref, x_full)\n",
    "opt.solve(asf_fullx.model)\n",
    "print(np.sum(values_to_list(asf_fullx.model,X_full), axis=0))"
   ]
  },
  {
   "cell_type": "markdown",
   "metadata": {},
   "source": [
    "Lets also compare results when using normalized data for optimization, and when letting the procedure normalize it by itself\n"
   ]
  },
  {
   "cell_type": "code",
   "execution_count": null,
   "metadata": {},
   "outputs": [],
   "source": [
    "%%time\n",
    "ref = np.array((0, 0, 0, 0))\n",
    "asf_fullX = ASF(ide, nad, ref, X_full)\n",
    "opt.solve(asf_fullX.model)\n",
    "print(np.sum(values_to_list(asf_fullX.model,X_full), axis=0))"
   ]
  },
  {
   "cell_type": "markdown",
   "metadata": {},
   "source": [
    "## Comparing scalarizations"
   ]
  },
  {
   "cell_type": "markdown",
   "metadata": {},
   "source": [
    "Now we have ASF, STOM ja GUESS scalarizations available. Lets compare them"
   ]
  },
  {
   "cell_type": "code",
   "execution_count": null,
   "metadata": {},
   "outputs": [],
   "source": [
    "ref_test = np.array((2,3,4,2))"
   ]
  },
  {
   "cell_type": "code",
   "execution_count": null,
   "metadata": {},
   "outputs": [],
   "source": [
    "%%time\n",
    "asf = ASF(ide, nad, ref_test, x, scalarization='ASF')\n",
    "opt.solve(asf.model)\n",
    "print(np.sum(values_to_list(asf.model, X), axis=0))"
   ]
  },
  {
   "cell_type": "code",
   "execution_count": null,
   "metadata": {},
   "outputs": [],
   "source": [
    "%%time\n",
    "stom = ASF(ide, nad, ref_test, x, scalarization='STOM')\n",
    "opt.solve(stom.model)\n",
    "print(np.sum(values_to_list(stom.model, X), axis=0))"
   ]
  },
  {
   "cell_type": "code",
   "execution_count": null,
   "metadata": {},
   "outputs": [],
   "source": [
    "%%time\n",
    "guess = ASF(ide, nad, ref_test, x, scalarization='GUESS')\n",
    "opt.solve(guess.model)\n",
    "print(np.sum(values_to_list(guess.model, X), axis=0))"
   ]
  },
  {
   "cell_type": "markdown",
   "metadata": {},
   "source": [
    "There truly is differences between results, so it seems that scalarization functions are working properly."
   ]
  }
 ],
 "metadata": {
  "git": {
   "suppress_outputs": true
  },
  "kernelspec": {
   "display_name": "Python 3",
   "language": "python",
   "name": "python3"
  },
  "language_info": {
   "codemirror_mode": {
    "name": "ipython",
    "version": 3
   },
   "file_extension": ".py",
   "mimetype": "text/x-python",
   "name": "python",
   "nbconvert_exporter": "python",
   "pygments_lexer": "ipython3",
   "version": "3.5.2"
  }
 },
 "nbformat": 4,
 "nbformat_minor": 2
}