{
 "cells": [
  {
   "cell_type": "markdown",
   "metadata": {},
   "source": [
    "# Notes About Clustering features"
   ]
  },
  {
   "cell_type": "markdown",
   "metadata": {},
   "source": [
    "When using hierarchical clustering one of the main issues is what kind of linking measure to use in the forming of hierarchy."
   ]
  },
  {
   "cell_type": "markdown",
   "metadata": {},
   "source": [
    "Another issue is whether to use kmeans or hierarchical clustering for the clustering purposes. I really need to study this more! It would be easy to just choose another one randomly but I think I still need arguments to do it."
   ]
  },
  {
   "cell_type": "markdown",
   "metadata": {},
   "source": [
    "## Real life features to use in clustering"
   ]
  },
  {
   "cell_type": "markdown",
   "metadata": {},
   "source": [
    "To estimate possible number of clusters, lets turn to papers presenting the topic and the data: \n",
    "- Boreal landscape of the area\n",
    "    - Mineral Soils 55%\n",
    "    - Peat lands 13%\n",
    "    - Lakes 16%\n",
    "    - Farmland settlement 13% \n",
    "- Pine, spruce and mixed stands dominate the forest.\n",
    "- Large poportion is less than 40yrs old, another mode at 70-90 yrs\n",
    "- Data coverage 65%, missing 35% completed by randomly assingning variables"
   ]
  },
  {
   "cell_type": "markdown",
   "metadata": {},
   "source": [
    "#### From there we could assume, that \n",
    "##### there probably is some differences between 40 and then 70-90 yrs old forests."
   ]
  },
  {
   "cell_type": "markdown",
   "metadata": {},
   "source": [
    "- reasons affecting HA (appendix 2 of Spatially dynamic forest managements...:\n",
    "  - capercaillie: \n",
    "    - pine volume, \n",
    "    - spruce volume, \n",
    "    - density of trees\n",
    "  - hazel grouse: \n",
    "    - forest age, \n",
    "    - proportion of deciduous trees,\n",
    "    - proportion of spruce\n",
    "  - three-toed woodpecker: \n",
    "    - timber volume\n",
    "  - lesser-spotted woodpecker: \n",
    "    - basal area of recently died trees\n",
    "  - long-tailed tit: \n",
    "    - forest age, \n",
    "    - total basal area, \n",
    "    - proportion of deciduous trees\n",
    "  - siberian flying squirrel: \n",
    "    - spruce volume,\n",
    "    - proportion of timber volume, \n",
    "    - volume of deciduous trees\n",
    "  - red-listed dead wood associated fungi and beetles\n",
    "    - deadwood\n",
    "- calculating carbon (Managing a boreal forest landscape...):\n",
    "  - consider four most common tree  species\n",
    "  - carbon pools: \n",
    "    - living wood, \n",
    "    - dead wood, \n",
    "    - harvested timber,\n",
    "    - residual carbon after thinning\n",
    "- timber revenue (optimizing management to enchance...):\n",
    "  - eight different timber assortments\n",
    "  - five silvicultural work components\n",
    "- deadwood (optimizing management to enchance...):\n",
    "  - deadwood is deadwood"
   ]
  },
  {
   "cell_type": "markdown",
   "metadata": {},
   "source": [
    "#### From these we could say that features separating different forests are:\n",
    "##### volumes of pines, spruces and deciduous trees\n",
    "##### amount of deadwood\n",
    "##### forest age       and \n",
    "##### density of the forest."
   ]
  },
  {
   "cell_type": "markdown",
   "metadata": {},
   "source": [
    "### Conlusions"
   ]
  },
  {
   "cell_type": "markdown",
   "metadata": {},
   "source": [
    "There is at least 7 different \"real life\" variables (only 4 if consider just volumes of different trees as one, but that is probably not good enough). Anyway there is no quarantee we  are able to deduce values of these variables from the \"objective function values\" as given in the data. We could still use this knowledge to somehow cluster stands according to their real nature, rather than their size etc. (use domain knowledge if possible to extract most useful features Guyon 2003)"
   ]
  },
  {
   "cell_type": "markdown",
   "metadata": {},
   "source": [
    "## Choosing clustering method"
   ]
  },
  {
   "cell_type": "markdown",
   "metadata": {},
   "source": [
    "Clustering\n",
    "\tTry hierarchical -  use subset of data to inspect results\n",
    "\t\n",
    "Hierarchical clustering better, because we cant know or even guess number of clusters.\n",
    "- now we can also afterwards decide what would be sensible amount of clusters.\n",
    "- different linkages must be studied\n",
    "    - what makes sense for the data based on theory"
   ]
  },
  {
   "cell_type": "markdown",
   "metadata": {},
   "source": [
    "if we want to group similar stands to same clusters, the most important aspect of comparing similarity would be the ratios between different objectives?!"
   ]
  },
  {
   "cell_type": "markdown",
   "metadata": {},
   "source": [
    "How to handle nan:s?\n",
    "- cluster separately or assign so great values that these will be clustered to own clusters?\n",
    "  - separately because reduces computational cost <- nan cases can be handled with less variables\n",
    "    - separate approach may lead to different granularity in different clusterings!\n",
    "    - would require manually deciding correct number of clusters, which is something we want to avoid\n",
    "  - assign great penalty, so these can used directly in the optimization\n",
    "    - of course not really a problem, because handling these numbers is pretty easy. Still it doesn't hurt either\n",
    "    - Maybe more general, because number of Nan-including cases may differ greatly in different cases\n",
    "    - In general case there may also be \"different types of nans\" (or can it?), which would then prefer the separating approach\n",
    "- differences should be studied, also multiple datasets would help identifying important aspects"
   ]
  },
  {
   "cell_type": "markdown",
   "metadata": {},
   "source": [
    "How about computational costs in kmeans vs. hierarchical?\n",
    "- must be tested\n",
    "- hierarchical takes so quite a long time, so that there really has to be quite remarkable benefits in the optimization phase that it could be compensated"
   ]
  },
  {
   "cell_type": "markdown",
   "metadata": {},
   "source": [
    "#### There is no need to have clustering that is corresponding to real life aspects!"
   ]
  },
  {
   "cell_type": "markdown",
   "metadata": {},
   "source": [
    "We are considering only the optimization here, so it is enough if we have \"computationally good\" clustering. That means that if we have just enough many cluster we will anyway get good enough results!"
   ]
  }
 ],
 "metadata": {
  "kernelspec": {
   "display_name": "Python 3",
   "language": "python",
   "name": "python3"
  },
  "language_info": {
   "codemirror_mode": {
    "name": "ipython",
    "version": 3
   },
   "file_extension": ".py",
   "mimetype": "text/x-python",
   "name": "python",
   "nbconvert_exporter": "python",
   "pygments_lexer": "ipython3",
   "version": "3.5.2"
  }
 },
 "nbformat": 4,
 "nbformat_minor": 2
}
