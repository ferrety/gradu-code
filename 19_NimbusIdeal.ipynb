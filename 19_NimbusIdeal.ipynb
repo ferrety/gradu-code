{
 "cells": [
  {
   "cell_type": "markdown",
   "metadata": {},
   "source": [
    "# Nimbus ideal vs. payoff ideal"
   ]
  },
  {
   "cell_type": "markdown",
   "metadata": {},
   "source": [
    "There is some issues that cause the results attained by Nimbus method to be higher than the ideal values attained by calculating the payoff table for the clusters."
   ]
  },
  {
   "cell_type": "code",
   "execution_count": 1,
   "metadata": {},
   "outputs": [],
   "source": [
    "from interactiveBoreal import *\n",
    "import gradutil\n",
    "from BorealWeights import BorealWeightedProblem"
   ]
  },
  {
   "cell_type": "code",
   "execution_count": 19,
   "metadata": {},
   "outputs": [],
   "source": [
    "kehys = ReferenceFrame()\n",
    "nclust = 150\n",
    "kehys.cluster(nclust=nclust, seedn=2, outdata=kehys.x_stack)\n",
    "data = kehys.centers\n",
    "nvar = len(kehys.x_norm)\n",
    "weights_norm = kehys.weights/nvar\n",
    "ideal = kehys.ideal\n",
    "nadir = kehys.nadir"
   ]
  },
  {
   "cell_type": "code",
   "execution_count": 3,
   "metadata": {},
   "outputs": [],
   "source": [
    "solver_name = 'cplex'"
   ]
  },
  {
   "cell_type": "markdown",
   "metadata": {},
   "source": [
    "Now we try to calculate ideal and possible nadir values for all the objectives using nimbus scalarization:"
   ]
  },
  {
   "cell_type": "code",
   "execution_count": 24,
   "metadata": {},
   "outputs": [],
   "source": [
    "nimbus_ref = np.array([[kehys.ideal[0], kehys.nadir[1], kehys.nadir[2], kehys.nadir[3]],\n",
    "                       [kehys.nadir[0], kehys.ideal[1], kehys.nadir[2], kehys.nadir[3]],\n",
    "                       [kehys.nadir[0], kehys.nadir[1], kehys.ideal[2], kehys.nadir[3]],\n",
    "                       [kehys.nadir[0], kehys.nadir[1], kehys.nadir[2], kehys.ideal[3]]])\n",
    "stay = np.array([], dtype=int)\n",
    "detoriate = np.array([], dtype=int)\n",
    "nimbus_res_cluster = []\n",
    "nimbus_res_orig = []\n",
    "nimbus_problems = []\n",
    "for i in range(len(nimbus_ref)):\n",
    "    minmax = np.array([i], dtype=int)\n",
    "    nimbus_problems.append(NIMBUS(kehys.ideal, kehys.nadir, nimbus_ref[i], kehys.centers, \n",
    "                                  minmax, stay, detoriate, np.array([0,0,0,0]), \n",
    "                                  weights=kehys.weights, nvar=nvar))\n",
    "    nimbus_solver = Solver(nimbus_problems[i].model, solver=solver_name)\n",
    "    res = nimbus_solver.solve() \n",
    "    nimbus_res_cluster.append([gradutil.model_to_real_values(kehys.x_stack[:,:,j], \n",
    "                                                             nimbus_problems[i].model, \n",
    "                                                             kehys.xtoc) \n",
    "                               for j in range(len(nimbus_ref))])\n",
    "    nimbus_res_orig.append([gradutil.cluster_to_value(kehys.x_stack[:,:,j], gradutil.res_to_list(nimbus_problems[i].model), kehys.weights)\n",
    "                            for j in range(len(nimbus_ref))])\n",
    "nimbus_res = np.array(nimbus_res)"
   ]
  },
  {
   "cell_type": "code",
   "execution_count": 25,
   "metadata": {},
   "outputs": [],
   "source": [
    "for k in nimbus_res_cluster:\n",
    "    print(k)"
   ]
  },
  {
   "cell_type": "markdown",
   "metadata": {},
   "source": [
    "As we can see, the greatest values column wise are at the diagonal. As NIMBUS uses exactly these in its operations this seems very good!"
   ]
  },
  {
   "cell_type": "code",
   "execution_count": 26,
   "metadata": {
    "scrolled": false
   },
   "outputs": [],
   "source": [
    "for k in nimbus_res_orig:\n",
    "    print(k)"
   ]
  },
  {
   "cell_type": "markdown",
   "metadata": {},
   "source": [
    "Now when we print the original variable values, we see that the biggest values are not anymore at the diagonal. This was expected so no need to worry"
   ]
  },
  {
   "cell_type": "markdown",
   "metadata": {},
   "source": [
    "However the ideal of the attained results is:\n"
   ]
  },
  {
   "cell_type": "code",
   "execution_count": 29,
   "metadata": {},
   "outputs": [],
   "source": [
    "nimbus_ideal = np.max(nimbus_res_cluster, axis=0)\n",
    "nimbus_ideal"
   ]
  },
  {
   "cell_type": "markdown",
   "metadata": {},
   "source": [
    "And the nadir"
   ]
  },
  {
   "cell_type": "code",
   "execution_count": 30,
   "metadata": {},
   "outputs": [],
   "source": [
    "nimbus_nadir = np.min(nimbus_res_cluster, axis=0)\n",
    "nimbus_nadir"
   ]
  },
  {
   "cell_type": "markdown",
   "metadata": {},
   "source": [
    "However if we are using payoff-table for the same data, the results are different:"
   ]
  },
  {
   "cell_type": "code",
   "execution_count": 48,
   "metadata": {},
   "outputs": [],
   "source": [
    "data = kehys.centers\n",
    "solver = SolverFactory(solver_name)\n",
    "problems = []\n",
    "for i in range(np.shape(data)[-1]):\n",
    "    problems.append(BorealWeightedProblem(data[:, :, i], kehys.weights, nvar))\n",
    "\n",
    "for j in range(len(problems)):\n",
    "    solver.solve(problems[j].model)\n",
    "\n",
    "payoff = [[gradutil.cluster_to_value(kehys.x_stack[:,:,i], \n",
    "                                      gradutil.res_to_list(nimbus_problems[j].model), \n",
    "                                      kehys.weights)\n",
    "            for i in range(np.shape(data)[-1])]\n",
    "           for j in range(len(problems))]"
   ]
  },
  {
   "cell_type": "code",
   "execution_count": 49,
   "metadata": {},
   "outputs": [],
   "source": [
    "for p in payoff:\n",
    "    print(p)"
   ]
  },
  {
   "cell_type": "markdown",
   "metadata": {},
   "source": [
    "Lets see if here is something similar going on than with the nimbus ideals"
   ]
  },
  {
   "cell_type": "code",
   "execution_count": 50,
   "metadata": {
    "scrolled": true
   },
   "outputs": [],
   "source": [
    "for p in nimbus_problems:\n",
    "    print(gradutil.cluster_to_value(kehys.x_stack, gradutil.res_to_list(p.model), weights_norm))"
   ]
  },
  {
   "cell_type": "markdown",
   "metadata": {},
   "source": [
    "It almost looks like that we are minimizing the last objectives..."
   ]
  },
  {
   "cell_type": "code",
   "execution_count": 51,
   "metadata": {
    "scrolled": true
   },
   "outputs": [],
   "source": [
    "payoff_ideal = np.max(payoff, axis=0)\n",
    "payoff_ideal"
   ]
  },
  {
   "cell_type": "code",
   "execution_count": 52,
   "metadata": {
    "scrolled": true
   },
   "outputs": [],
   "source": [
    "payoff_nadir = np.min(payoff, axis=0)\n",
    "payoff_nadir"
   ]
  },
  {
   "cell_type": "markdown",
   "metadata": {},
   "source": [
    "Compare the differences also:\n"
   ]
  },
  {
   "cell_type": "code",
   "execution_count": 53,
   "metadata": {},
   "outputs": [],
   "source": [
    "payoff_ideal - nimbus_ideal"
   ]
  },
  {
   "cell_type": "code",
   "execution_count": 54,
   "metadata": {},
   "outputs": [],
   "source": [
    "payoff_nadir - nimbus_nadir"
   ]
  },
  {
   "cell_type": "markdown",
   "metadata": {},
   "source": [
    "Absolutely the values are quite big, but the directions of the differences are good.\n",
    "\n",
    "Relative differences:"
   ]
  },
  {
   "cell_type": "code",
   "execution_count": 16,
   "metadata": {},
   "outputs": [],
   "source": [
    "(payoff_ideal - nimbus_ideal)/payoff_ideal"
   ]
  },
  {
   "cell_type": "code",
   "execution_count": 17,
   "metadata": {},
   "outputs": [],
   "source": [
    "(payoff_nadir - nimbus_nadir)/payoff_nadir"
   ]
  },
  {
   "cell_type": "markdown",
   "metadata": {},
   "source": [
    "The differences are much bigger for the nadir, but it is no surprise because of the payoff table -method\n",
    "\n",
    "The ideals are much closer so probably there is no need to worry. There used to be greater differences, but setting the closest point as the centroid helped a lot and also the payoff table had to be fixed a bit."
   ]
  },
  {
   "cell_type": "markdown",
   "metadata": {},
   "source": [
    "We also have own method to calculate nadir and ideal using payoff table and just the cluster data:"
   ]
  },
  {
   "cell_type": "code",
   "execution_count": 18,
   "metadata": {},
   "outputs": [],
   "source": [
    "gradutil.calc_ideal_n_nadir(kehys.centers, kehys.xtoc, kehys.weights)"
   ]
  },
  {
   "cell_type": "markdown",
   "metadata": {},
   "source": [
    "As we can see, these are again different results because we are using just the data from the clusters and not mapping them back to the original values."
   ]
  }
 ],
 "metadata": {
  "git": {
   "suppress_outputs": true
  },
  "kernelspec": {
   "display_name": "Python 3",
   "language": "python",
   "name": "python3"
  },
  "language_info": {
   "codemirror_mode": {
    "name": "ipython",
    "version": 3
   },
   "file_extension": ".py",
   "mimetype": "text/x-python",
   "name": "python",
   "nbconvert_exporter": "python",
   "pygments_lexer": "ipython3",
   "version": "3.5.2"
  }
 },
 "nbformat": 4,
 "nbformat_minor": 2
}