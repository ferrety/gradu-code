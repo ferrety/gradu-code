{
 "cells": [
  {
   "cell_type": "markdown",
   "metadata": {},
   "source": [
    "# Nimbus ideal vs. payoff ideal"
   ]
  },
  {
   "cell_type": "markdown",
   "metadata": {},
   "source": [
    "There is some issues that cause the results attained by Nimbus method to be higher than the ideal values attained by calculating the payoff table for the clusters."
   ]
  },
  {
   "cell_type": "code",
   "execution_count": 1,
   "metadata": {},
   "outputs": [],
   "source": [
    "from interactiveBoreal import *\n",
    "import gradutil\n",
    "from BorealWeights import BorealWeightedProblem"
   ]
  },
  {
   "cell_type": "code",
   "execution_count": 2,
   "metadata": {},
   "outputs": [],
   "source": [
    "kehys = ReferenceFrame()\n",
    "nclust = 150\n",
    "kehys.cluster(nclust=nclust, seedn=2, outdata=kehys.x_stack)\n",
    "data = kehys.centers\n",
    "weights_norm = kehys.weights/len(kehys.x_norm)\n",
    "ideal = kehys.ideal\n",
    "nadir = kehys.nadir"
   ]
  },
  {
   "cell_type": "code",
   "execution_count": 3,
   "metadata": {},
   "outputs": [],
   "source": [
    "solver_name = 'cplex'"
   ]
  },
  {
   "cell_type": "markdown",
   "metadata": {},
   "source": [
    "Now we try to calculate ideal and possible nadir values for all the objectives using nimbus scalarization:"
   ]
  },
  {
   "cell_type": "code",
   "execution_count": 4,
   "metadata": {},
   "outputs": [],
   "source": [
    "nimbus_ref = np.array([[kehys.ideal[0], kehys.nadir[1], kehys.nadir[2], kehys.nadir[3]],\n",
    "                       [kehys.nadir[0], kehys.ideal[1], kehys.nadir[2], kehys.nadir[3]],\n",
    "                       [kehys.nadir[0], kehys.nadir[1], kehys.ideal[2], kehys.nadir[3]],\n",
    "                       [kehys.nadir[0], kehys.nadir[1], kehys.nadir[2], kehys.ideal[3]]])\n",
    "stay = np.array([], dtype=int)\n",
    "detoriate = np.array([], dtype=int)\n",
    "nimbus_res = []\n",
    "nimbus_problems = []\n",
    "for i in range(len(nimbus_ref)):\n",
    "    minmax = np.array([i], dtype=int)\n",
    "    nimbus_problems.append(NIMBUS(kehys.ideal, kehys.nadir, nimbus_ref[i], kehys.centers, minmax, stay, detoriate, np.array([0,0,0,0]), weights=kehys.weights))\n",
    "    nimbus_solver = Solver(nimbus_problems[i].model, solver=solver_name)\n",
    "    res = nimbus_solver.solve() \n",
    "    nimbus_res.append([gradutil.model_to_real_values(kehys.x_stack[:,:,j], nimbus_problems[i].model, kehys.xtoc) for j in range(len(nimbus_ref))])\n",
    "nimbus_res = np.array(nimbus_res)"
   ]
  },
  {
   "cell_type": "code",
   "execution_count": 5,
   "metadata": {},
   "outputs": [
    {
     "name": "stdout",
     "output_type": "stream",
     "text": [
      "[  2.37791598e+08   2.92580481e+06   1.02020408e+05   1.29577928e+04]\n",
      "[  1.56270534e+08   3.52674505e+06   1.70134894e+05   1.61041905e+04]\n",
      "[  1.73775294e+08   3.44637343e+06   1.60506959e+05   1.55639002e+04]\n",
      "[  1.72927424e+08   3.43287166e+06   1.55198829e+05   1.51836908e+04]\n"
     ]
    }
   ],
   "source": [
    "for k in range(len(nimbus_res)):\n",
    "    print(nimbus_res[k])"
   ]
  },
  {
   "cell_type": "markdown",
   "metadata": {},
   "source": [
    "As we can see, the greatest values column wise are not at the diagonal. This indicates there is something weird going on..."
   ]
  },
  {
   "cell_type": "code",
   "execution_count": 6,
   "metadata": {
    "scrolled": false
   },
   "outputs": [
    {
     "name": "stdout",
     "output_type": "stream",
     "text": [
      "[  3.13866023e+08   3.01196947e+06   9.97130032e+04   1.58995465e+04]\n",
      "[  2.26515486e+08   3.58976924e+06   1.44846447e+05   1.78207300e+04]\n",
      "[  2.60536118e+08   3.37229210e+06   1.50975670e+05   1.88416660e+04]\n",
      "[  2.45705661e+08   3.46626409e+06   1.47728286e+05   1.88031501e+04]\n"
     ]
    }
   ],
   "source": [
    "for i in range(len(nimbus_problems)):\n",
    "    print(gradutil.cluster_to_value(kehys.x_stack, gradutil.res_to_list(nimbus_problems[i].model), kehys.weights))"
   ]
  },
  {
   "cell_type": "markdown",
   "metadata": {},
   "source": [
    "Now when we print the values the nimbus is internally using, we see that the biggest values actually are at the diagonal. This means the clustering is biasing the results, because not all objectives are responding the same way to the clustering!"
   ]
  },
  {
   "cell_type": "markdown",
   "metadata": {},
   "source": [
    "However the ideal of the attained results is:\n"
   ]
  },
  {
   "cell_type": "code",
   "execution_count": 7,
   "metadata": {},
   "outputs": [
    {
     "data": {
      "text/plain": [
       "array([  2.37791598e+08,   3.52674505e+06,   1.70134894e+05,\n",
       "         1.61041905e+04])"
      ]
     },
     "execution_count": 7,
     "metadata": {},
     "output_type": "execute_result"
    }
   ],
   "source": [
    "nimbus_ideal = np.max(nimbus_res, axis=0)\n",
    "nimbus_ideal"
   ]
  },
  {
   "cell_type": "markdown",
   "metadata": {},
   "source": [
    "And the nadir"
   ]
  },
  {
   "cell_type": "code",
   "execution_count": 8,
   "metadata": {},
   "outputs": [
    {
     "data": {
      "text/plain": [
       "array([  1.56270534e+08,   2.92580481e+06,   1.02020408e+05,\n",
       "         1.29577928e+04])"
      ]
     },
     "execution_count": 8,
     "metadata": {},
     "output_type": "execute_result"
    }
   ],
   "source": [
    "nimbus_nadir = np.min(nimbus_res, axis=0)\n",
    "nimbus_nadir"
   ]
  },
  {
   "cell_type": "markdown",
   "metadata": {},
   "source": [
    "However if we are using payoff-table for the same data, the results are different:"
   ]
  },
  {
   "cell_type": "code",
   "execution_count": 9,
   "metadata": {},
   "outputs": [],
   "source": [
    "data = np.array([kehys.x_stack[np.argmin(kehys.dist[kehys.xtoc == i]), :, :] for i in range(nclust)])\n",
    "solver = SolverFactory(solver_name)\n",
    "problems = []\n",
    "for i in range(np.shape(data)[-1]):\n",
    "    problems.append(BorealWeightedProblem(data[:, :, i], kehys.weights))\n",
    "\n",
    "for j in range(len(problems)):\n",
    "    solver.solve(problems[j].model)\n",
    "\n",
    "payoff = [[gradutil.model_to_real_values(kehys.x_stack[:,:,i], problems[j].model, kehys.xtoc)\n",
    "           for i in range(np.shape(data)[-1])] \n",
    "          for j in range(len(problems))]"
   ]
  },
  {
   "cell_type": "code",
   "execution_count": 18,
   "metadata": {},
   "outputs": [
    {
     "ename": "IndexError",
     "evalue": "boolean index did not match indexed array along dimension 0; dimension is 150 but corresponding boolean dimension is 29666",
     "output_type": "error",
     "traceback": [
      "\u001b[0;31m---------------------------------------------------------------------------\u001b[0m",
      "\u001b[0;31mIndexError\u001b[0m                                Traceback (most recent call last)",
      "\u001b[0;32m<ipython-input-18-e3b3c40aa5b6>\u001b[0m in \u001b[0;36m<module>\u001b[0;34m()\u001b[0m\n\u001b[0;32m----> 1\u001b[0;31m \u001b[0mgradutil\u001b[0m\u001b[0;34m.\u001b[0m\u001b[0mcalc_ideal_n_nadir\u001b[0m\u001b[0;34m(\u001b[0m\u001b[0mkehys\u001b[0m\u001b[0;34m.\u001b[0m\u001b[0mcenters\u001b[0m\u001b[0;34m,\u001b[0m \u001b[0mkehys\u001b[0m\u001b[0;34m.\u001b[0m\u001b[0mxtoc\u001b[0m\u001b[0;34m,\u001b[0m \u001b[0mkehys\u001b[0m\u001b[0;34m.\u001b[0m\u001b[0mweights\u001b[0m\u001b[0;34m)\u001b[0m\u001b[0;34m\u001b[0m\u001b[0m\n\u001b[0m",
      "\u001b[0;32m~/Documents/gradujose/code/gradutil.py\u001b[0m in \u001b[0;36mcalc_ideal_n_nadir\u001b[0;34m(data, xtoc, weights)\u001b[0m\n\u001b[1;32m    166\u001b[0m                                         xtoc)\n\u001b[1;32m    167\u001b[0m                    for i in range(np.shape(data)[-1])]\n\u001b[0;32m--> 168\u001b[0;31m                   for j in range(len(problems))]\n\u001b[0m\u001b[1;32m    169\u001b[0m \u001b[0;34m\u001b[0m\u001b[0m\n\u001b[1;32m    170\u001b[0m     \u001b[0mideal\u001b[0m \u001b[0;34m=\u001b[0m \u001b[0mnp\u001b[0m\u001b[0;34m.\u001b[0m\u001b[0mmax\u001b[0m\u001b[0;34m(\u001b[0m\u001b[0mpayoff\u001b[0m\u001b[0;34m,\u001b[0m \u001b[0maxis\u001b[0m\u001b[0;34m=\u001b[0m\u001b[0;36m0\u001b[0m\u001b[0;34m)\u001b[0m\u001b[0;34m\u001b[0m\u001b[0m\n",
      "\u001b[0;32m~/Documents/gradujose/code/gradutil.py\u001b[0m in \u001b[0;36m<listcomp>\u001b[0;34m(.0)\u001b[0m\n\u001b[1;32m    166\u001b[0m                                         xtoc)\n\u001b[1;32m    167\u001b[0m                    for i in range(np.shape(data)[-1])]\n\u001b[0;32m--> 168\u001b[0;31m                   for j in range(len(problems))]\n\u001b[0m\u001b[1;32m    169\u001b[0m \u001b[0;34m\u001b[0m\u001b[0m\n\u001b[1;32m    170\u001b[0m     \u001b[0mideal\u001b[0m \u001b[0;34m=\u001b[0m \u001b[0mnp\u001b[0m\u001b[0;34m.\u001b[0m\u001b[0mmax\u001b[0m\u001b[0;34m(\u001b[0m\u001b[0mpayoff\u001b[0m\u001b[0;34m,\u001b[0m \u001b[0maxis\u001b[0m\u001b[0;34m=\u001b[0m\u001b[0;36m0\u001b[0m\u001b[0;34m)\u001b[0m\u001b[0;34m\u001b[0m\u001b[0m\n",
      "\u001b[0;32m~/Documents/gradujose/code/gradutil.py\u001b[0m in \u001b[0;36m<listcomp>\u001b[0;34m(.0)\u001b[0m\n\u001b[1;32m    165\u001b[0m                                         \u001b[0mproblems\u001b[0m\u001b[0;34m[\u001b[0m\u001b[0mj\u001b[0m\u001b[0;34m]\u001b[0m\u001b[0;34m.\u001b[0m\u001b[0mmodel\u001b[0m\u001b[0;34m,\u001b[0m\u001b[0;34m\u001b[0m\u001b[0m\n\u001b[1;32m    166\u001b[0m                                         xtoc)\n\u001b[0;32m--> 167\u001b[0;31m                    for i in range(np.shape(data)[-1])]\n\u001b[0m\u001b[1;32m    168\u001b[0m                   for j in range(len(problems))]\n\u001b[1;32m    169\u001b[0m \u001b[0;34m\u001b[0m\u001b[0m\n",
      "\u001b[0;32m~/Documents/gradujose/code/gradutil.py\u001b[0m in \u001b[0;36mmodel_to_real_values\u001b[0;34m(data, model, xtoc)\u001b[0m\n\u001b[1;32m    101\u001b[0m         \u001b[0;32mreturn\u001b[0m \u001b[0msum\u001b[0m\u001b[0;34m(\u001b[0m\u001b[0mvalues_to_list\u001b[0m\u001b[0;34m(\u001b[0m\u001b[0mmodel\u001b[0m\u001b[0;34m,\u001b[0m \u001b[0mdata\u001b[0m\u001b[0;34m)\u001b[0m\u001b[0;34m)\u001b[0m\u001b[0;34m\u001b[0m\u001b[0m\n\u001b[1;32m    102\u001b[0m     \u001b[0;32melse\u001b[0m\u001b[0;34m:\u001b[0m\u001b[0;34m\u001b[0m\u001b[0m\n\u001b[0;32m--> 103\u001b[0;31m         \u001b[0;32mreturn\u001b[0m \u001b[0mclusters_to_origin\u001b[0m\u001b[0;34m(\u001b[0m\u001b[0mdata\u001b[0m\u001b[0;34m,\u001b[0m \u001b[0mxtoc\u001b[0m\u001b[0;34m,\u001b[0m \u001b[0mres_to_list\u001b[0m\u001b[0;34m(\u001b[0m\u001b[0mmodel\u001b[0m\u001b[0;34m)\u001b[0m\u001b[0;34m)\u001b[0m\u001b[0;34m\u001b[0m\u001b[0m\n\u001b[0m\u001b[1;32m    104\u001b[0m \u001b[0;34m\u001b[0m\u001b[0m\n\u001b[1;32m    105\u001b[0m \u001b[0;34m\u001b[0m\u001b[0m\n",
      "\u001b[0;32m~/Documents/gradujose/code/gradutil.py\u001b[0m in \u001b[0;36mclusters_to_origin\u001b[0;34m(data, xtoc, cluster_list)\u001b[0m\n\u001b[1;32m     94\u001b[0m \u001b[0;32mdef\u001b[0m \u001b[0mclusters_to_origin\u001b[0m\u001b[0;34m(\u001b[0m\u001b[0mdata\u001b[0m\u001b[0;34m,\u001b[0m \u001b[0mxtoc\u001b[0m\u001b[0;34m,\u001b[0m \u001b[0mcluster_list\u001b[0m\u001b[0;34m)\u001b[0m\u001b[0;34m:\u001b[0m\u001b[0;34m\u001b[0m\u001b[0m\n\u001b[1;32m     95\u001b[0m     return sum([sum(data[xtoc == ind][:, int(cluster_list[ind])])\n\u001b[0;32m---> 96\u001b[0;31m                 for ind in range(len(cluster_list))])\n\u001b[0m\u001b[1;32m     97\u001b[0m \u001b[0;34m\u001b[0m\u001b[0m\n\u001b[1;32m     98\u001b[0m \u001b[0;34m\u001b[0m\u001b[0m\n",
      "\u001b[0;32m~/Documents/gradujose/code/gradutil.py\u001b[0m in \u001b[0;36m<listcomp>\u001b[0;34m(.0)\u001b[0m\n\u001b[1;32m     94\u001b[0m \u001b[0;32mdef\u001b[0m \u001b[0mclusters_to_origin\u001b[0m\u001b[0;34m(\u001b[0m\u001b[0mdata\u001b[0m\u001b[0;34m,\u001b[0m \u001b[0mxtoc\u001b[0m\u001b[0;34m,\u001b[0m \u001b[0mcluster_list\u001b[0m\u001b[0;34m)\u001b[0m\u001b[0;34m:\u001b[0m\u001b[0;34m\u001b[0m\u001b[0m\n\u001b[1;32m     95\u001b[0m     return sum([sum(data[xtoc == ind][:, int(cluster_list[ind])])\n\u001b[0;32m---> 96\u001b[0;31m                 for ind in range(len(cluster_list))])\n\u001b[0m\u001b[1;32m     97\u001b[0m \u001b[0;34m\u001b[0m\u001b[0m\n\u001b[1;32m     98\u001b[0m \u001b[0;34m\u001b[0m\u001b[0m\n",
      "\u001b[0;31mIndexError\u001b[0m: boolean index did not match indexed array along dimension 0; dimension is 150 but corresponding boolean dimension is 29666"
     ]
    }
   ],
   "source": [
    "gradutil.calc_ideal_n_nadir(kehys.centers, kehys.xtoc, kehys.weights)"
   ]
  },
  {
   "cell_type": "code",
   "execution_count": 10,
   "metadata": {},
   "outputs": [
    {
     "name": "stdout",
     "output_type": "stream",
     "text": [
      "[239721168.69964999, 2882099.780669, 89177.025272300045, 12428.763925952006]\n",
      "[81413759.163200006, 3990254.857198, 186947.93321125791, 17191.647986277214]\n",
      "[104287441.70060003, 3862780.9707499999, 174174.78411868005, 16271.656338333207]\n",
      "[101876583.31060001, 3868167.1460200017, 170279.00133698006, 16131.761410395002]\n"
     ]
    }
   ],
   "source": [
    "for k in range(len(payoff)):\n",
    "    print(payoff[k])"
   ]
  },
  {
   "cell_type": "markdown",
   "metadata": {},
   "source": [
    "Lets see if here is something similar going on than with the nimbus ideals"
   ]
  },
  {
   "cell_type": "code",
   "execution_count": 11,
   "metadata": {
    "scrolled": true
   },
   "outputs": [
    {
     "name": "stdout",
     "output_type": "stream",
     "text": [
      "[  1.07859746e+04   1.00283163e+02   3.82328958e+00   5.52468680e-01]\n",
      "[  4.75830003e+03   1.37730525e+02   5.28686423e+00   6.10833469e-01]\n",
      "[  4.68713528e+03   1.40296738e+02   6.02469544e+00   7.21618201e-01]\n",
      "[  4.69414726e+03   1.39508802e+02   5.97691701e+00   7.33569853e-01]\n"
     ]
    }
   ],
   "source": [
    "for i in range(len(nimbus_problems)):\n",
    "    print(gradutil.cluster_to_value(kehys.x_stack, gradutil.res_to_list(problems[i].model), weights_norm))"
   ]
  },
  {
   "cell_type": "markdown",
   "metadata": {},
   "source": [
    "It almost looks like that we are minimizing the last objectives..."
   ]
  },
  {
   "cell_type": "code",
   "execution_count": 12,
   "metadata": {
    "scrolled": true
   },
   "outputs": [
    {
     "data": {
      "text/plain": [
       "array([  2.39721169e+08,   3.99025486e+06,   1.86947933e+05,\n",
       "         1.71916480e+04])"
      ]
     },
     "execution_count": 12,
     "metadata": {},
     "output_type": "execute_result"
    }
   ],
   "source": [
    "payoff_ideal = np.max(payoff, axis=0)\n",
    "payoff_ideal"
   ]
  },
  {
   "cell_type": "code",
   "execution_count": 13,
   "metadata": {
    "scrolled": true
   },
   "outputs": [
    {
     "data": {
      "text/plain": [
       "array([  8.14137592e+07,   2.88209978e+06,   8.91770253e+04,\n",
       "         1.24287639e+04])"
      ]
     },
     "execution_count": 13,
     "metadata": {},
     "output_type": "execute_result"
    }
   ],
   "source": [
    "payoff_nadir = np.min(payoff, axis=0)\n",
    "payoff_nadir"
   ]
  },
  {
   "cell_type": "markdown",
   "metadata": {},
   "source": [
    "Compare the differences also:\n"
   ]
  },
  {
   "cell_type": "code",
   "execution_count": 14,
   "metadata": {},
   "outputs": [
    {
     "data": {
      "text/plain": [
       "array([  1.92957050e+06,   4.63509805e+05,   1.68130394e+04,\n",
       "         1.08745747e+03])"
      ]
     },
     "execution_count": 14,
     "metadata": {},
     "output_type": "execute_result"
    }
   ],
   "source": [
    "payoff_ideal - nimbus_ideal"
   ]
  },
  {
   "cell_type": "code",
   "execution_count": 15,
   "metadata": {},
   "outputs": [
    {
     "data": {
      "text/plain": [
       "array([ -7.48567752e+07,  -4.37050328e+04,  -1.28433830e+04,\n",
       "        -5.29028855e+02])"
      ]
     },
     "execution_count": 15,
     "metadata": {},
     "output_type": "execute_result"
    }
   ],
   "source": [
    "payoff_nadir - nimbus_nadir"
   ]
  },
  {
   "cell_type": "markdown",
   "metadata": {},
   "source": [
    "Absolutely the values are quite big, but the directions of the differences are good.\n",
    "\n",
    "Relative differences:"
   ]
  },
  {
   "cell_type": "code",
   "execution_count": 16,
   "metadata": {},
   "outputs": [
    {
     "data": {
      "text/plain": [
       "array([ 0.00804923,  0.11616045,  0.08993434,  0.06325499])"
      ]
     },
     "execution_count": 16,
     "metadata": {},
     "output_type": "execute_result"
    }
   ],
   "source": [
    "(payoff_ideal - nimbus_ideal)/payoff_ideal"
   ]
  },
  {
   "cell_type": "code",
   "execution_count": 17,
   "metadata": {},
   "outputs": [
    {
     "data": {
      "text/plain": [
       "array([-0.91946098, -0.0151643 , -0.14402121, -0.04256488])"
      ]
     },
     "execution_count": 17,
     "metadata": {},
     "output_type": "execute_result"
    }
   ],
   "source": [
    "(payoff_nadir - nimbus_nadir)/payoff_nadir"
   ]
  },
  {
   "cell_type": "markdown",
   "metadata": {},
   "source": [
    "The differences are much bigger for the nadir, but it is no surprise because of the payoff table -method\n",
    "\n",
    "The ideals are much closer so probably there is no need to worry. There used to be greater differences, but setting the closest point as the centroid helped a lot and also the payoff table had to be fixed a bit."
   ]
  }
 ],
 "metadata": {
  "kernelspec": {
   "display_name": "Python 3",
   "language": "python",
   "name": "python3"
  },
  "language_info": {
   "codemirror_mode": {
    "name": "ipython",
    "version": 3
   },
   "file_extension": ".py",
   "mimetype": "text/x-python",
   "name": "python",
   "nbconvert_exporter": "python",
   "pygments_lexer": "ipython3",
   "version": "3.5.2"
  }
 },
 "nbformat": 4,
 "nbformat_minor": 2
}
