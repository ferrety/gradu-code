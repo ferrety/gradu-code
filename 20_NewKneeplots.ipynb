{
 "cells": [
  {
   "cell_type": "markdown",
   "metadata": {},
   "source": [
    "### New knee plots"
   ]
  },
  {
   "cell_type": "markdown",
   "metadata": {},
   "source": [
    "Lets draw some new knee plots using already formed clusterings that are saved to files"
   ]
  },
  {
   "cell_type": "code",
   "execution_count": 41,
   "metadata": {},
   "outputs": [
    {
     "name": "stdout",
     "output_type": "stream",
     "text": [
      "Populating the interactive namespace from numpy and matplotlib\n"
     ]
    }
   ],
   "source": [
    "%pylab inline \n",
    "pylab.rcParams['figure.figsize'] = (15,12)\n",
    "import numpy as np\n",
    "import simplejson as json\n",
    "import os\n",
    "from gradutil import *"
   ]
  },
  {
   "cell_type": "code",
   "execution_count": 2,
   "metadata": {},
   "outputs": [],
   "source": [
    "dire = os.path.join(os.getcwd(), 'clusterings')\n",
    "with open(os.path.join(dire, 'dump8500all.json'), 'r') as file:\n",
    "    clustering8500 = json.loads(file.read())"
   ]
  },
  {
   "cell_type": "markdown",
   "metadata": {},
   "source": [
    "(This takes quite a lot of time. The file is about 1.5 Gb...)"
   ]
  },
  {
   "cell_type": "markdown",
   "metadata": {},
   "source": [
    "The json format in the middle loses the integer types from the keys of the dictionary, so they need to be reassigned"
   ]
  },
  {
   "cell_type": "code",
   "execution_count": 8,
   "metadata": {},
   "outputs": [],
   "source": [
    "new_clustering8500 = dict()\n",
    "for nclust in clustering8500.keys():\n",
    "    new_clustering8500[eval(nclust)] = dict()\n",
    "    for seedn in clustering8500[nclust].keys():\n",
    "        new_clustering8500[eval(nclust)][eval(seedn)] = dict()\n",
    "        for key in clustering8500[nclust][seedn].keys():\n",
    "            new_clustering8500[eval(nclust)][eval(seedn)][key] = np.array(clustering8500[nclust][seedn][key])"
   ]
  },
  {
   "cell_type": "markdown",
   "metadata": {},
   "source": [
    "We want to extract the intracluster distance values from the dictionary."
   ]
  },
  {
   "cell_type": "code",
   "execution_count": 22,
   "metadata": {},
   "outputs": [],
   "source": [
    "nclusts8500 = []\n",
    "dists8500 = []\n",
    "for nclust in sorted(new_clustering8500.keys()):\n",
    "    nclusts8500.append(nclust)\n",
    "    dists = []\n",
    "    for seedn in new_clustering8500[nclust].keys():\n",
    "        dists.append(np.nansum(new_clustering8500[nclust][seedn]['dist']))\n",
    "    dists8500.append(dists)"
   ]
  },
  {
   "cell_type": "markdown",
   "metadata": {},
   "source": [
    "Then let's draw the actual picture"
   ]
  },
  {
   "cell_type": "code",
   "execution_count": 36,
   "metadata": {},
   "outputs": [
    {
     "data": {
      "text/plain": [
       "Text(0,0.5,'Sum of intra cluster distances')"
      ]
     },
     "execution_count": 36,
     "metadata": {},
     "output_type": "execute_result"
    },
    {
     "data": {
      "image/png": "[encoded data removed]",
      "text/plain": [
       "<matplotlib.figure.Figure at 0x7f44fb1a8128>"
      ]
     },
     "metadata": {},
     "output_type": "display_data"
    }
   ],
   "source": [
    "pylab.rcParams['figure.figsize'] = (10,8)\n",
    "plt.suptitle('Number of clusters and average sum of intra cluster distances.\\nValues from 10 independent runs')\n",
    "plt.plot(nclusts8500, np.mean(dists8500, axis=1))\n",
    "plt.xlabel('Number of clusters')\n",
    "plt.ylabel('Sum of intra cluster distances')"
   ]
  },
  {
   "cell_type": "markdown",
   "metadata": {},
   "source": [
    "## Plots for smaller number of clusters"
   ]
  },
  {
   "cell_type": "code",
   "execution_count": 39,
   "metadata": {},
   "outputs": [],
   "source": [
    "def clustering_to_optims(x_orig, x_opt, clustering, opt):\n",
    "    nclusts = []\n",
    "    optims = []\n",
    "    for nclust in sorted(clustering.keys()):\n",
    "        nclusts.append(nclust)\n",
    "        optim = []\n",
    "        for seedn in clustering[nclust].keys():\n",
    "            xtoc = clustering[nclust][seedn]['xtoc']\n",
    "            dist = clustering[nclust][seedn]['dist']\n",
    "            w = np.array([sum(xtoc == i) \n",
    "                          for i in range(nclust) \n",
    "                          if sum(xtoc==i) > 0])\n",
    "            c_close = np.array([x_opt[np.argmin(dist[xtoc == i])] \n",
    "                                for i in range(nclust) \n",
    "                                if len(dist[xtoc == i]) > 0])\n",
    "            prob = BorealWeightedProblem(c_close, weights=w)\n",
    "            res = opt.solve(prob.model)\n",
    "            optim.append(model_to_real_values(x_orig, prob.model, xtoc))\n",
    "        optims.append(optim)\n",
    "    return nclusts, optims"
   ]
  },
  {
   "cell_type": "code",
   "execution_count": 42,
   "metadata": {},
   "outputs": [],
   "source": [
    "revenue, carbon, deadwood, ha = init_boreal()\n",
    "n_revenue = nan_to_bau(revenue)\n",
    "n_carbon= nan_to_bau(carbon)\n",
    "n_deadwood = nan_to_bau(deadwood)\n",
    "n_ha = nan_to_bau(ha)\n",
    "ide = ideal(False)\n",
    "nad = nadir(False)\n",
    "opt = SolverFactory('cplex')"
   ]
  },
  {
   "cell_type": "code",
   "execution_count": 55,
   "metadata": {},
   "outputs": [],
   "source": [
    "revenue_norm = normalize(n_revenue.values)\n",
    "carbon_norm = normalize(n_carbon.values)\n",
    "deadwood_norm = normalize(n_deadwood.values)\n",
    "ha_norm = normalize(n_ha.values)"
   ]
  },
  {
   "cell_type": "code",
   "execution_count": 72,
   "metadata": {},
   "outputs": [
    {
     "name": "stdout",
     "output_type": "stream",
     "text": [
      "Optimized 100 clusters. Seed 8\n",
      "Since start 0.30295896530151367s.\n",
      "Optimized 100 clusters. Seed 10\n",
      "Since start 0.6036851406097412s.\n",
      "Optimized 100 clusters. Seed 11\n",
      "Since start 0.9252433776855469s.\n",
      "Optimized 100 clusters. Seed 4\n",
      "Since start 1.2423443794250488s.\n",
      "Optimized 100 clusters. Seed 7\n",
      "Since start 1.5384995937347412s.\n",
      "Optimized 100 clusters. Seed 5\n",
      "Since start 1.8512680530548096s.\n",
      "Optimized 100 clusters. Seed 9\n",
      "Since start 2.192352056503296s.\n",
      "Optimized 100 clusters. Seed 2\n",
      "Since start 2.4964847564697266s.\n",
      "Optimized 100 clusters. Seed 3\n",
      "Since start 2.789161443710327s.\n",
      "Optimized 100 clusters. Seed 6\n",
      "Since start 3.115241289138794s.\n",
      "Optimized 100 clusters\n",
      "Since start 3.115320920944214s.\n"
     ]
    },
    {
     "ename": "NameError",
     "evalue": "name 'name' is not defined",
     "output_type": "error",
     "traceback": [
      "\u001b[0;31m---------------------------------------------------------------------------\u001b[0m",
      "\u001b[0;31mNameError\u001b[0m                                 Traceback (most recent call last)",
      "\u001b[0;32m<ipython-input-72-c8dc32ceed4b>\u001b[0m in \u001b[0;36m<module>\u001b[0;34m()\u001b[0m\n\u001b[1;32m     26\u001b[0m     \u001b[0mprint\u001b[0m\u001b[0;34m(\u001b[0m\u001b[0;34m'Optimized {} clusters'\u001b[0m\u001b[0;34m.\u001b[0m\u001b[0mformat\u001b[0m\u001b[0;34m(\u001b[0m\u001b[0mnclust\u001b[0m\u001b[0;34m)\u001b[0m\u001b[0;34m)\u001b[0m\u001b[0;34m\u001b[0m\u001b[0m\n\u001b[1;32m     27\u001b[0m     \u001b[0mprint\u001b[0m\u001b[0;34m(\u001b[0m\u001b[0;34m'Since start {}s.'\u001b[0m\u001b[0;34m.\u001b[0m\u001b[0mformat\u001b[0m\u001b[0;34m(\u001b[0m\u001b[0mtime\u001b[0m\u001b[0;34m(\u001b[0m\u001b[0;34m)\u001b[0m\u001b[0;34m-\u001b[0m\u001b[0mstarttime\u001b[0m\u001b[0;34m)\u001b[0m\u001b[0;34m)\u001b[0m\u001b[0;34m\u001b[0m\u001b[0m\n\u001b[0;32m---> 28\u001b[0;31m     \u001b[0;32mwith\u001b[0m \u001b[0mopen\u001b[0m\u001b[0;34m(\u001b[0m\u001b[0;34m'optimizations/dump{}{}.json'\u001b[0m\u001b[0;34m.\u001b[0m\u001b[0mformat\u001b[0m\u001b[0;34m(\u001b[0m\u001b[0mname\u001b[0m\u001b[0;34m,\u001b[0m\u001b[0mnclust\u001b[0m\u001b[0;34m)\u001b[0m\u001b[0;34m,\u001b[0m \u001b[0;34m'w'\u001b[0m\u001b[0;34m)\u001b[0m \u001b[0;32mas\u001b[0m \u001b[0mfile\u001b[0m\u001b[0;34m:\u001b[0m\u001b[0;34m\u001b[0m\u001b[0m\n\u001b[0m\u001b[1;32m     29\u001b[0m         \u001b[0mjson\u001b[0m\u001b[0;34m.\u001b[0m\u001b[0mdump\u001b[0m\u001b[0;34m(\u001b[0m\u001b[0mn_optims\u001b[0m\u001b[0;34m,\u001b[0m \u001b[0mfile\u001b[0m\u001b[0;34m)\u001b[0m\u001b[0;34m\u001b[0m\u001b[0m\n",
      "\u001b[0;31mNameError\u001b[0m: name 'name' is not defined"
     ]
    }
   ],
   "source": [
    "    x_orig = n_revenue.values\n",
    "    x_opt = revenue_norm\n",
    "    optims = dict()\n",
    "    for nclust in sorted(clustering.keys()):\n",
    "        n_optims = dict()\n",
    "        for seedn in clustering[nclust].keys():\n",
    "            xtoc = np.array(clustering[nclust][seedn]['xtoc']\n",
    "            dist = np.array/clustering[nclust][seedn]['dist']\n",
    "            w = np.array([sum(xtoc == i)\n",
    "                          for i in range(eval(nclust))\n",
    "                          if sum(xtoc == i) > 0])\n",
    "            c_close = np.array([x_opt[np.argmin(dist[xtoc == i])]\n",
    "                                for i in range(eval(nclust))\n",
    "                                if len(dist[xtoc == i]) > 0])\n",
    "            prob = BorealWeightedProblem(c_close, weights=w)\n",
    "            res = opt.solve(prob.model)\n",
    "            n_optims[seedn] = gu.model_to_real_values(x_orig,\n",
    "                                                            prob.model,\n",
    "                                                            xtoc)\n",
    "            if logger:\n",
    "                logger.info('Optimized {} clusters. Seed {}'.format(nclust,\n",
    "                                                                    seedn))\n",
    "            if starttime:\n",
    "                logger.info('Since start {}s.'.format(time()-starttime))\n",
    "        optims[nclust] = n_optims\n",
    "        if logger:\n",
    "            logger.info('Optimized {} clusters'.format(nclust))\n",
    "        if starttime:\n",
    "            logger.info('Since start {}s.'.format(time()-starttime))\n",
    "        with open('optimizations/dump{}{}.json'.format(name,\n",
    "                                                       nclust), 'w') as file:\n",
    "            json.dump(n_optims, file)\n"
   ]
  },
  {
   "cell_type": "code",
   "execution_count": 67,
   "metadata": {},
   "outputs": [
    {
     "ename": "IndentationError",
     "evalue": "expected an indented block (<ipython-input-67-49bdfc693009>, line 3)",
     "output_type": "error",
     "traceback": [
      "\u001b[0;36m  File \u001b[0;32m\"<ipython-input-67-49bdfc693009>\"\u001b[0;36m, line \u001b[0;32m3\u001b[0m\n\u001b[0;31m    n_datas = np.array([[n_revenue.values, n_carbon.values], [n_deadwood.values, n_ha.values]])\u001b[0m\n\u001b[0m          ^\u001b[0m\n\u001b[0;31mIndentationError\u001b[0m\u001b[0;31m:\u001b[0m expected an indented block\n"
     ]
    }
   ],
   "source": [
    "n_datas = np.array([[n_revenue.values, n_carbon.values], [n_deadwood.values, n_ha.values]])\n",
    "datas_norm = np.array([[revenue_norm, carbon_norm], [deadwood_norm, ha_norm]])\n",
    "optims  = np.ones((2,2))\n",
    "for i in range(np.shape(n_datas)[0]):\n",
    "    for j in range(np.shape(n_datas)[1]):\n",
    "        optims[i,j] = clustering_to_optims(n_datas[i,j], datas_norm[i,j], new_clustering8500, opt)"
   ]
  }
 ],
 "metadata": {
  "kernelspec": {
   "display_name": "Python 3",
   "language": "python",
   "name": "python3"
  },
  "language_info": {
   "codemirror_mode": {
    "name": "ipython",
    "version": 3
   },
   "file_extension": ".py",
   "mimetype": "text/x-python",
   "name": "python",
   "nbconvert_exporter": "python",
   "pygments_lexer": "ipython3",
   "version": "3.5.2"
  }
 },
 "nbformat": 4,
 "nbformat_minor": 2
}
