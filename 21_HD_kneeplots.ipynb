{
 "cells": [
  {
   "cell_type": "markdown",
   "metadata": {},
   "source": [
    "## Knee plots for up to 2000 clusters"
   ]
  },
  {
   "cell_type": "code",
   "execution_count": 1,
   "metadata": {},
   "outputs": [],
   "source": [
    "%pylab inline \n",
    "pylab.rcParams['figure.figsize'] = (15,12)\n",
    "import numpy as np\n",
    "import simplejson as json\n",
    "import os\n",
    "from gradutil import *"
   ]
  },
  {
   "cell_type": "code",
   "execution_count": 2,
   "metadata": {},
   "outputs": [],
   "source": [
    "revenue, carbon, deadwood, ha = init_boreal()\n",
    "n_revenue = nan_to_bau(revenue)\n",
    "n_carbon = nan_to_bau(carbon)\n",
    "n_deadwood = nan_to_bau(deadwood)\n",
    "n_ha = nan_to_bau(ha)\n",
    "revenue_norm = normalize(n_revenue.values)\n",
    "carbon_norm = normalize(n_carbon.values)\n",
    "deadwood_norm = normalize(n_deadwood.values)\n",
    "ha_norm = normalize(n_ha.values)\n",
    "ide = ideal(False)\n",
    "nad = nadir(False)\n",
    "opt = SolverFactory('cplex')\n",
    "x = pd.concat((n_revenue, n_carbon, n_deadwood, n_ha), axis=1)\n",
    "x_stack = np.dstack((n_revenue, n_carbon, n_deadwood, n_ha))\n",
    "x_norm = normalize(x.values)\n",
    "x_norm_stack = normalize(x_stack)"
   ]
  },
  {
   "cell_type": "markdown",
   "metadata": {},
   "source": [
    "This again takes quite some time, because we have a lot of files with a lot of contents."
   ]
  },
  {
   "cell_type": "code",
   "execution_count": 3,
   "metadata": {},
   "outputs": [],
   "source": [
    "with open('optimizations/opt50_2001_50.json','r') as file:\n",
    "    optimizations = json.loads(file.read())"
   ]
  },
  {
   "cell_type": "code",
   "execution_count": 4,
   "metadata": {},
   "outputs": [],
   "source": [
    "new_optims = dict()\n",
    "for nclust in optimizations.keys():\n",
    "    new_optims[eval(nclust)] = dict()\n",
    "    for seedn in optimizations[nclust].keys():\n",
    "        new_optims[eval(nclust)][eval(seedn)] = dict()\n",
    "        for name in optimizations[nclust][seedn].keys():\n",
    "            new_optims[eval(nclust)][eval(seedn)][name] = dict()\n",
    "            for key in optimizations[nclust][seedn][name].keys():\n",
    "                new_optims[eval(nclust)][eval(seedn)][name][key] = float(optimizations[nclust][seedn][name][key])"
   ]
  },
  {
   "cell_type": "code",
   "execution_count": 5,
   "metadata": {},
   "outputs": [],
   "source": [
    "new_optims[2000][2]"
   ]
  },
  {
   "cell_type": "code",
   "execution_count": 6,
   "metadata": {},
   "outputs": [],
   "source": [
    "indices = []\n",
    "real_revenue = []\n",
    "real_carbon = []\n",
    "real_deadwood = []\n",
    "real_ha = []\n",
    "surr_revenue = []\n",
    "surr_carbon = []\n",
    "surr_deadwood = []\n",
    "surr_ha = []\n",
    "for nclust in sorted(new_optims.keys()):\n",
    "    r_rev = []\n",
    "    r_car = []\n",
    "    r_dea = []\n",
    "    r_ha = []\n",
    "    s_rev = []\n",
    "    s_car = []\n",
    "    s_dea = []\n",
    "    s_ha = []\n",
    "    for seedn in new_optims[nclust].keys():\n",
    "        r_rev.append(new_optims[nclust][seedn]['revenue']['real'])\n",
    "        r_car.append(new_optims[nclust][seedn]['carbon']['real'])\n",
    "        r_dea.append(new_optims[nclust][seedn]['deadwood']['real'])\n",
    "        r_ha.append(new_optims[nclust][seedn]['ha']['real'])\n",
    "        s_rev.append(new_optims[nclust][seedn]['revenue']['surrogate'])\n",
    "        s_car.append(new_optims[nclust][seedn]['carbon']['surrogate'])\n",
    "        s_dea.append(new_optims[nclust][seedn]['deadwood']['surrogate'])\n",
    "        s_ha.append(new_optims[nclust][seedn]['ha']['surrogate'])\n",
    "    real_revenue.append(r_rev)\n",
    "    real_carbon.append(r_car)\n",
    "    real_deadwood.append(r_dea)\n",
    "    real_ha.append(r_ha)\n",
    "    surr_revenue.append(s_rev)\n",
    "    surr_carbon.append(s_car)\n",
    "    surr_deadwood.append(s_dea)\n",
    "    surr_ha.append(s_ha)\n",
    "    indices.append(nclust)\n",
    "indices = np.array(indices)\n",
    "real_revenue = np.array(real_revenue)\n",
    "real_carbon = np.array(real_carbon)\n",
    "real_deadwood = np.array(real_deadwood)\n",
    "real_ha = np.array(real_ha)\n",
    "surr_revenue = np.array(surr_revenue)\n",
    "surr_carbon = np.array(surr_carbon)\n",
    "surr_deadwood = np.array(surr_deadwood)\n",
    "surr_ha = np.array(surr_ha)"
   ]
  },
  {
   "cell_type": "code",
   "execution_count": 280,
   "metadata": {},
   "outputs": [],
   "source": [
    "pylab.rcParams['figure.figsize'] = (15,12)\n",
    "\n",
    "fig, ax = plt.subplots(2,2)\n",
    "fig.suptitle('Optimization results using values from previously formed clustering surrogate.\\nValues from 10 independent runs',\n",
    "            fontsize=20)\n",
    "\n",
    "maximum = 1000\n",
    "data = np.array([[surr_revenue, surr_carbon], [surr_deadwood, surr_ha]])\n",
    "names = np.array([['Revenue', 'Carbon'],['Deadwood', 'Habitat']])\n",
    "optims = np.array([ideal(False)[:2], ideal(False)[2:]])\n",
    "ymaxs = np.array([[2.6e+8,4.6e+6],[2.4e+5, 2.2e+4]])\n",
    "for i in range(np.shape(ax)[0]):\n",
    "    for j in range(np.shape(ax)[1]):\n",
    "        ax[i,j].plot(indices[:maximum], np.max(data[i,j], axis=1)[:maximum], color='g')\n",
    "        ax[i,j].plot(indices[:maximum], np.mean(data[i,j], axis=1)[:maximum], color='y')\n",
    "        ax[i,j].plot(indices[:maximum], np.min(data[i,j], axis=1)[:maximum], color='r')\n",
    "        ax[i,j].plot((min(indices[:maximum]), max(indices[:maximum])),(optims[i,j], optims[i,j]), color='b')\n",
    "        ax[i,j].set_title(names[i,j], fontsize=15)\n",
    "        ax[i,j].set_ylim(ymin=0, ymax=ymaxs[i,j])\n",
    "        ax[i,j].set_xlabel('Number of clusters', fontsize=12)\n",
    "        ax[i,j].set_ylabel('Optimization results', fontsize=12)"
   ]
  },
  {
   "cell_type": "code",
   "execution_count": 78,
   "metadata": {},
   "outputs": [],
   "source": [
    "surr_all_stack = np.dstack((surr_revenue, surr_carbon, surr_deadwood, surr_ha))"
   ]
  },
  {
   "cell_type": "code",
   "execution_count": 268,
   "metadata": {},
   "outputs": [],
   "source": [
    "np.min(np.min(abs((surr_all_stack-ide)/ide), axis=1), axis=0)"
   ]
  },
  {
   "cell_type": "markdown",
   "metadata": {},
   "source": [
    "These are then the smallest relative differences we can attain for Timber revenue, Carbon storage, Deadwood volume and Habitat suitability: 9.2%, 8.1%, 28.1% and 4.4%"
   ]
  },
  {
   "cell_type": "code",
   "execution_count": 299,
   "metadata": {},
   "outputs": [],
   "source": [
    "pylab.rcParams['figure.figsize'] = (15,12)\n",
    "\n",
    "fig, ax = plt.subplots(2,2)\n",
    "fig.suptitle('Optimization results using original variable values\\nwhen clustering based surrogate mapped to original variables.\\nValues from 10 independent runs',\n",
    "            fontsize=20)\n",
    "\n",
    "data = np.array([[real_revenue, real_carbon], [real_deadwood, real_ha]])\n",
    "for i in range(np.shape(ax)[0]):\n",
    "    for j in range(np.shape(ax)[1]):\n",
    "        ax[i,j].plot(indices[:maximum], np.max(data[i,j], axis=1)[:maximum], color='g')\n",
    "        ax[i,j].plot(indices[:maximum], np.mean(data[i,j], axis=1)[:maximum], color='y')\n",
    "        ax[i,j].plot(indices[:maximum], np.min(data[i,j], axis=1)[:maximum], color='r')\n",
    "        ax[i,j].plot((min(indices[:maximum]), max(indices[:maximum])),(optims[i,j], optims[i,j]), color='b')\n",
    "        ax[i,j].set_title(names[i,j], fontsize=15)\n",
    "        ax[i,j].set_ylim(ymin=0, ymax=ymaxs[i,j])\n",
    "        ax[i,j].set_xlabel('Number of clusters', fontsize=12)\n",
    "        ax[i,j].set_ylabel('Optimization results', fontsize=12)\n",
    "        ax[i,j].axvline(x=600, ymin=0, ymax=250)"
   ]
  },
  {
   "cell_type": "markdown",
   "metadata": {},
   "source": [
    "## Finding the best compromise in proxy based results\n"
   ]
  },
  {
   "cell_type": "markdown",
   "metadata": {},
   "source": [
    "Calculate the best values for all the objectives, for every number of clusters"
   ]
  },
  {
   "cell_type": "code",
   "execution_count": 45,
   "metadata": {},
   "outputs": [],
   "source": [
    "ide_reshape = (np.ones((4,40))*ide.reshape(4,1))\n",
    "max_all = (np.array((np.max(surr_revenue, axis=1), np.max(surr_carbon, axis=1), np.max(surr_deadwood, axis=1), np.max(surr_ha, axis=1)))-ide_reshape)/ide_reshape"
   ]
  },
  {
   "cell_type": "markdown",
   "metadata": {},
   "source": [
    "Lets inspect then what are the relative differences for all the best possible values for all the objectives.\n",
    "Also the \"absolute\" sum of differences plotted (violet)"
   ]
  },
  {
   "cell_type": "code",
   "execution_count": 206,
   "metadata": {},
   "outputs": [],
   "source": [
    "pylab.rcParams['figure.figsize'] = (10,8)\n",
    "plt.suptitle('Relative differences in objectives', fontsize=15)\n",
    "plt.plot(indices, max_all.transpose())\n",
    "plt.plot(indices, sum([np.abs(num) for num in max_all.transpose()],axis=1))\n",
    "plt.xlabel('Number of clusters', fontsize=12)\n",
    "plt.ylabel('Relative differences', fontsize=12)\n",
    "# plt.axvline(x=1500, ymin=0, ymax=250)"
   ]
  },
  {
   "cell_type": "markdown",
   "metadata": {},
   "source": [
    "It looks like the smallest sum of differences is attained with 600 clusters. Lets find that."
   ]
  },
  {
   "cell_type": "code",
   "execution_count": 68,
   "metadata": {},
   "outputs": [],
   "source": [
    "indices[11], np.argmax(surr_revenue[11]), np.argmax(surr_carbon[11]), np.argmax(surr_deadwood[11]), np.argmax(surr_ha[11])"
   ]
  },
  {
   "cell_type": "code",
   "execution_count": 118,
   "metadata": {},
   "outputs": [],
   "source": [
    "sum([np.abs(num) for num in max_all.transpose()],axis=1)[11]"
   ]
  },
  {
   "cell_type": "markdown",
   "metadata": {},
   "source": [
    "Now different clusterings for same number of clusters (different random initializations) are not considered.\n",
    "Now plot all the sums of relative differences for different initializations."
   ]
  },
  {
   "cell_type": "code",
   "execution_count": 294,
   "metadata": {},
   "outputs": [],
   "source": [
    "np.shape(np.ones((40,10))*indices.reshape(40,1)), np.shape(sum(abs((surr_all_stack-ide)/ide), axis=2))"
   ]
  },
  {
   "cell_type": "code",
   "execution_count": 296,
   "metadata": {
    "scrolled": true
   },
   "outputs": [],
   "source": [
    "pylab.rcParams['figure.figsize'] = (10,8)\n",
    "plt.suptitle('Sums of relative errors for all the clusterings', fontsize=15)\n",
    "plt.scatter(np.ones((40,10))*indices.reshape(40,1), sum(abs((surr_all_stack-ide)/ide), axis=2), color='r')\n",
    "plt.xlabel('Number of clusters', fontsize=12)\n",
    "plt.ylabel('Sums of relative differences', fontsize=12)\n",
    "# plt.axvline(x=1500, ymin=0, ymax=250)"
   ]
  },
  {
   "cell_type": "code",
   "execution_count": 199,
   "metadata": {},
   "outputs": [],
   "source": [
    "sums_all = sum(abs((surr_all_stack-ide)/ide), axis=2)"
   ]
  },
  {
   "cell_type": "code",
   "execution_count": 196,
   "metadata": {},
   "outputs": [],
   "source": [
    "np.argmin([sums_all[i,n] for i,n in enumerate(np.argmin(sums_all, axis=1))])"
   ]
  },
  {
   "cell_type": "code",
   "execution_count": 197,
   "metadata": {},
   "outputs": [],
   "source": [
    "np.argmin(sums_all[11])"
   ]
  },
  {
   "cell_type": "code",
   "execution_count": 198,
   "metadata": {},
   "outputs": [],
   "source": [
    "sums_all[11,8]"
   ]
  },
  {
   "cell_type": "code",
   "execution_count": 200,
   "metadata": {},
   "outputs": [],
   "source": [
    "np.min(sums_all)"
   ]
  },
  {
   "cell_type": "code",
   "execution_count": 214,
   "metadata": {},
   "outputs": [],
   "source": [
    "indices[11], sorted(new_optims[600].keys())[8]"
   ]
  },
  {
   "cell_type": "markdown",
   "metadata": {},
   "source": [
    "It is still 600 clusters. So we want to inspect that more thoroughly."
   ]
  },
  {
   "cell_type": "code",
   "execution_count": 205,
   "metadata": {
    "scrolled": true
   },
   "outputs": [],
   "source": [
    "pylab.rcParams['figure.figsize'] = (10,8)\n",
    "plt.suptitle('Relative differences in objectives, 600 clusters', fontsize=15)\n",
    "plt.plot(range(2,12), (surr_all_stack[11,]-ide)/ide)\n",
    "plt.plot(range(2,12), sum([abs(n) for n in (surr_all_stack[11]-ide)/ide], axis=1))\n",
    "plt.xlabel('Clustering initialization seed', fontsize=12)\n",
    "plt.ylabel('Relative differences', fontsize=12)"
   ]
  },
  {
   "cell_type": "markdown",
   "metadata": {},
   "source": [
    "The best possible results are then attained with 600 clusters and initialization seed as 10"
   ]
  },
  {
   "cell_type": "code",
   "execution_count": 297,
   "metadata": {},
   "outputs": [],
   "source": [
    "surr_revenue[11,8], surr_carbon[11,8], surr_deadwood[11,8], surr_ha[11,8]"
   ]
  },
  {
   "cell_type": "code",
   "execution_count": 217,
   "metadata": {},
   "outputs": [],
   "source": [
    "(np.array((surr_revenue[11,8], surr_carbon[11,8], surr_deadwood[11,8], surr_ha[11,8])) - ide)/ide"
   ]
  },
  {
   "cell_type": "markdown",
   "metadata": {},
   "source": [
    "Now when inspecting the relative differences in this best clustering the relative differences for Timber revenue, Carbon storage, Deadwood volume and Habitat suitability are -11.7%, -10.5%, -39.7% and -5.4%"
   ]
  },
  {
   "cell_type": "code",
   "execution_count": null,
   "metadata": {},
   "outputs": [],
   "source": [
    "real"
   ]
  },
  {
   "cell_type": "code",
   "execution_count": 277,
   "metadata": {},
   "outputs": [],
   "source": [
    "np.min(abs((real_all_stack[11]-ide)/ide), axis=0)"
   ]
  },
  {
   "cell_type": "code",
   "execution_count": 220,
   "metadata": {},
   "outputs": [],
   "source": [
    "(np.array((real_revenue[11,8], real_carbon[11,8], real_deadwood[11,8], real_ha[11,8])) - ide)/ide"
   ]
  },
  {
   "cell_type": "code",
   "execution_count": 221,
   "metadata": {},
   "outputs": [],
   "source": [
    "(np.array((real_revenue[3,8], real_carbon[3,8], real_deadwood[3,8], real_ha[3,8])) - ide)/ide"
   ]
  }
 ],
 "metadata": {
  "git": {
   "suppress_outputs": true
  },
  "kernelspec": {
   "display_name": "Python 3",
   "language": "python",
   "name": "python3"
  },
  "language_info": {
   "codemirror_mode": {
    "name": "ipython",
    "version": 3
   },
   "file_extension": ".py",
   "mimetype": "text/x-python",
   "name": "python",
   "nbconvert_exporter": "python",
   "pygments_lexer": "ipython3",
   "version": "3.5.2"
  }
 },
 "nbformat": 4,
 "nbformat_minor": 2
}