{
 "cells": [
  {
   "cell_type": "markdown",
   "metadata": {},
   "source": [
    "## Knee plots for up to 2000 clusters"
   ]
  },
  {
   "cell_type": "code",
   "execution_count": 9,
   "metadata": {},
   "outputs": [],
   "source": [
    "%pylab inline \n",
    "pylab.rcParams['figure.figsize'] = (15,12)\n",
    "import numpy as np\n",
    "import simplejson as json\n",
    "import os\n",
    "from gradutil import *"
   ]
  },
  {
   "cell_type": "code",
   "execution_count": 10,
   "metadata": {},
   "outputs": [],
   "source": [
    "revenue, carbon, deadwood, ha = init_boreal()\n",
    "n_revenue = nan_to_bau(revenue)\n",
    "n_carbon = nan_to_bau(carbon)\n",
    "n_deadwood = nan_to_bau(deadwood)\n",
    "n_ha = nan_to_bau(ha)\n",
    "revenue_norm = normalize(n_revenue.values)\n",
    "carbon_norm = normalize(n_carbon.values)\n",
    "deadwood_norm = normalize(n_deadwood.values)\n",
    "ha_norm = normalize(n_ha.values)\n",
    "ide = ideal(False)\n",
    "nad = nadir(False)\n",
    "opt = SolverFactory('cplex')\n",
    "x = pd.concat((n_revenue, n_carbon, n_deadwood, n_ha), axis=1)\n",
    "x_stack = np.dstack((n_revenue, n_carbon, n_deadwood, n_ha))\n",
    "x_norm = normalize(x.values)\n",
    "x_norm_stack = normalize(x_stack)"
   ]
  },
  {
   "cell_type": "markdown",
   "metadata": {},
   "source": [
    "This again takes quite some time, because we have a lot of files with a lot of contents."
   ]
  },
  {
   "cell_type": "code",
   "execution_count": 11,
   "metadata": {},
   "outputs": [],
   "source": [
    "with open('optimizations/opt50_2001_50.json','r') as file:\n",
    "    optimizations = json.loads(file.read())"
   ]
  },
  {
   "cell_type": "code",
   "execution_count": 12,
   "metadata": {},
   "outputs": [],
   "source": [
    "new_optims = dict()\n",
    "for nclust in optimizations.keys():\n",
    "    new_optims[eval(nclust)] = dict()\n",
    "    for seedn in optimizations[nclust].keys():\n",
    "        new_optims[eval(nclust)][eval(seedn)] = dict()\n",
    "        for name in optimizations[nclust][seedn].keys():\n",
    "            new_optims[eval(nclust)][eval(seedn)][name] = dict()\n",
    "            for key in optimizations[nclust][seedn][name].keys():\n",
    "                new_optims[eval(nclust)][eval(seedn)][name][key] = float(optimizations[nclust][seedn][name][key])"
   ]
  },
  {
   "cell_type": "code",
   "execution_count": 13,
   "metadata": {},
   "outputs": [],
   "source": [
    "new_optims[2000][2]"
   ]
  },
  {
   "cell_type": "code",
   "execution_count": 14,
   "metadata": {},
   "outputs": [],
   "source": [
    "indices = []\n",
    "real_revenue = []\n",
    "real_carbon = []\n",
    "real_deadwood = []\n",
    "real_ha = []\n",
    "surr_revenue = []\n",
    "surr_carbon = []\n",
    "surr_deadwood = []\n",
    "surr_ha = []\n",
    "for nclust in sorted(new_optims.keys()):\n",
    "    r_rev = []\n",
    "    r_car = []\n",
    "    r_dea = []\n",
    "    r_ha = []\n",
    "    s_rev = []\n",
    "    s_car = []\n",
    "    s_dea = []\n",
    "    s_ha = []\n",
    "    for seedn in new_optims[nclust].keys():\n",
    "        r_rev.append(new_optims[nclust][seedn]['revenue']['real'])\n",
    "        r_car.append(new_optims[nclust][seedn]['carbon']['real'])\n",
    "        r_dea.append(new_optims[nclust][seedn]['deadwood']['real'])\n",
    "        r_ha.append(new_optims[nclust][seedn]['ha']['real'])\n",
    "        s_rev.append(new_optims[nclust][seedn]['revenue']['surrogate'])\n",
    "        s_car.append(new_optims[nclust][seedn]['carbon']['surrogate'])\n",
    "        s_dea.append(new_optims[nclust][seedn]['deadwood']['surrogate'])\n",
    "        s_ha.append(new_optims[nclust][seedn]['ha']['surrogate'])\n",
    "    real_revenue.append(r_rev)\n",
    "    real_carbon.append(r_car)\n",
    "    real_deadwood.append(r_dea)\n",
    "    real_ha.append(r_ha)\n",
    "    surr_revenue.append(s_rev)\n",
    "    surr_carbon.append(s_car)\n",
    "    surr_deadwood.append(s_dea)\n",
    "    surr_ha.append(s_ha)\n",
    "    indices.append(nclust)\n",
    "indices = np.array(indices)\n",
    "real_revenue = np.array(real_revenue)\n",
    "real_carbon = np.array(real_carbon)\n",
    "real_deadwood = np.array(real_deadwood)\n",
    "real_ha = np.array(real_ha)\n",
    "surr_revenue = np.array(surr_revenue)\n",
    "surr_carbon = np.array(surr_carbon)\n",
    "surr_deadwood = np.array(surr_deadwood)\n",
    "surr_ha = np.array(surr_ha)"
   ]
  },
  {
   "cell_type": "code",
   "execution_count": 15,
   "metadata": {},
   "outputs": [],
   "source": [
    "pylab.rcParams['figure.figsize'] = (15,12)\n",
    "\n",
    "fig, ax = plt.subplots(2,2)\n",
    "fig.suptitle('Optimization results using values from previously formed clustering surrogate.\\nValues from 10 independent runs',\n",
    "            fontsize=20)\n",
    "\n",
    "maximum = 1000\n",
    "data = np.array([[surr_revenue, surr_carbon], [surr_deadwood, surr_ha]])\n",
    "names = np.array([['Revenue', 'Carbon'],['Deadwood', 'Habitat']])\n",
    "optims = np.array([ideal(False)[:2], ideal(False)[2:]])\n",
    "ymaxs = np.array([[2.6e+8,4.6e+6],[2.4e+5, 2.2e+4]])\n",
    "for i in range(np.shape(ax)[0]):\n",
    "    for j in range(np.shape(ax)[1]):\n",
    "        ax[i,j].plot(indices[:maximum], np.max(data[i,j], axis=1)[:maximum], color='g')\n",
    "        ax[i,j].plot(indices[:maximum], np.mean(data[i,j], axis=1)[:maximum], color='y')\n",
    "        ax[i,j].plot(indices[:maximum], np.min(data[i,j], axis=1)[:maximum], color='r')\n",
    "        ax[i,j].plot((min(indices[:maximum]), max(indices[:maximum])),(optims[i,j], optims[i,j]), color='b')\n",
    "        ax[i,j].set_title(names[i,j], fontsize=15)\n",
    "        ax[i,j].set_ylim(ymin=0, ymax=ymaxs[i,j])\n",
    "        ax[i,j].set_xlabel('Number of clusters', fontsize=12)\n",
    "        ax[i,j].set_ylabel('Optimization results', fontsize=12)"
   ]
  },
  {
   "cell_type": "code",
   "execution_count": 16,
   "metadata": {},
   "outputs": [],
   "source": [
    "pylab.rcParams['figure.figsize'] = (15,12)\n",
    "\n",
    "fig, ax = plt.subplots(2,2)\n",
    "fig.suptitle('Optimization results using original variable values\\nwhen clustering based surrogate mapped to original variables.\\nValues from 10 independent runs',\n",
    "            fontsize=20)\n",
    "\n",
    "data = np.array([[real_revenue, real_carbon], [real_deadwood, real_ha]])\n",
    "for i in range(np.shape(ax)[0]):\n",
    "    for j in range(np.shape(ax)[1]):\n",
    "        ax[i,j].plot(indices[:maximum], np.max(data[i,j], axis=1)[:maximum], color='g')\n",
    "        ax[i,j].plot(indices[:maximum], np.mean(data[i,j], axis=1)[:maximum], color='y')\n",
    "        ax[i,j].plot(indices[:maximum], np.min(data[i,j], axis=1)[:maximum], color='r')\n",
    "        ax[i,j].plot((min(indices[:maximum]), max(indices[:maximum])),(optims[i,j], optims[i,j]), color='b')\n",
    "        ax[i,j].set_title(names[i,j], fontsize=15)\n",
    "        ax[i,j].set_ylim(ymin=0, ymax=ymaxs[i,j])\n",
    "        ax[i,j].set_xlabel('Number of clusters', fontsize=12)\n",
    "        ax[i,j].set_ylabel('Optimization results', fontsize=12)"
   ]
  }
 ],
 "metadata": {
  "git": {
   "suppress_outputs": true
  },
  "kernelspec": {
   "display_name": "Python 3",
   "language": "python",
   "name": "python3"
  },
  "language_info": {
   "codemirror_mode": {
    "name": "ipython",
    "version": 3
   },
   "file_extension": ".py",
   "mimetype": "text/x-python",
   "name": "python",
   "nbconvert_exporter": "python",
   "pygments_lexer": "ipython3",
   "version": "3.5.2"
  }
 },
 "nbformat": 4,
 "nbformat_minor": 2
}