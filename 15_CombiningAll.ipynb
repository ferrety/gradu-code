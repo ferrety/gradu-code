{
 "cells": [
  {
   "cell_type": "markdown",
   "metadata": {},
   "source": [
    "# Combining all together"
   ]
  },
  {
   "cell_type": "markdown",
   "metadata": {},
   "source": [
    "Now we have all the pieces necessary to make implement the interactive optimization process using clustering as surrogates and different scalarization functions. Yeah."
   ]
  },
  {
   "cell_type": "code",
   "execution_count": 1,
   "metadata": {},
   "outputs": [],
   "source": [
    " %matplotlib inline\n",
    "import seaborn\n",
    "import pandas as pd\n",
    "import numpy as np\n",
    "import matplotlib.pyplot as plt\n",
    "import os\n",
    "from ASF import ASF\n",
    "from gradutil import *\n",
    "from pyomo.opt import SolverFactory\n",
    "seedn = 1"
   ]
  },
  {
   "cell_type": "markdown",
   "metadata": {},
   "source": [
    "First lets take all the data in"
   ]
  },
  {
   "cell_type": "code",
   "execution_count": 2,
   "metadata": {},
   "outputs": [
    {
     "name": "stdout",
     "output_type": "stream",
     "text": [
      "CPU times: user 53.9 s, sys: 336 ms, total: 54.3 s\n",
      "Wall time: 54.6 s\n"
     ]
    }
   ],
   "source": [
    "%%time\n",
    "revenue, carbon, deadwood, ha = init_boreal()\n",
    "n_revenue = nan_to_bau(revenue)\n",
    "n_carbon= nan_to_bau(carbon)\n",
    "n_deadwood = nan_to_bau(deadwood)\n",
    "n_ha = nan_to_bau(ha)\n",
    "ide = ideal(False)\n",
    "nad = nadir(False)\n",
    "opt = SolverFactory('glpk')"
   ]
  },
  {
   "cell_type": "code",
   "execution_count": 3,
   "metadata": {},
   "outputs": [],
   "source": [
    "x = pd.concat((n_revenue, n_carbon, n_deadwood, n_ha), axis=1)\n",
    "x_stack = np.dstack((n_revenue, n_carbon, n_deadwood, n_ha))"
   ]
  },
  {
   "cell_type": "markdown",
   "metadata": {},
   "source": [
    "Normalize all the columns in 0-1 scale"
   ]
  },
  {
   "cell_type": "code",
   "execution_count": 4,
   "metadata": {},
   "outputs": [
    {
     "name": "stdout",
     "output_type": "stream",
     "text": [
      "CPU times: user 68 ms, sys: 8 ms, total: 76 ms\n",
      "Wall time: 75 ms\n"
     ]
    },
    {
     "name": "stderr",
     "output_type": "stream",
     "text": [
      "/home/jousi/Documents/gradujose/code/gradutil.py:59: RuntimeWarning: invalid value encountered in true_divide\n",
      "  norm_data = np.where(normax != 0., norm_data / normax, 0)\n"
     ]
    }
   ],
   "source": [
    "%%time\n",
    "x_norm = normalize(x.values)\n",
    "x_norm_stack = normalize(x_stack)"
   ]
  },
  {
   "cell_type": "markdown",
   "metadata": {},
   "source": [
    "Cluster the data to some clusters and calculate correponding weights"
   ]
  },
  {
   "cell_type": "code",
   "execution_count": 5,
   "metadata": {},
   "outputs": [
    {
     "name": "stdout",
     "output_type": "stream",
     "text": [
      "kmeans: X (29666, 28)  centres (50, 28)  delta=0.0001  maxiter=100  metric=cosine\n",
      "kmeans: 20 iterations  cluster sizes: array([ 815,  671,  790,  501,  509,  312,  640,  848,  426, 1122,  358,\n",
      "        896,  307,  357,  884,  317,  392, 1051,  780,  791,  766,  216,\n",
      "        453,  683,   86,  512,  917, 1081,  687,   74,  323,  409,  829,\n",
      "        259,  378, 1033,  577,  635,  635,  828,  386,  454,  566,  478,\n",
      "        664,  259,  760,  120,  918,  913])\n",
      "CPU times: user 9.54 s, sys: 16 ms, total: 9.56 s\n",
      "Wall time: 9.56 s\n"
     ]
    }
   ],
   "source": [
    "%%time \n",
    "nclust1 = 50\n",
    "c, xtoc, dist = cluster(x_norm, nclust1, seedn, verbose=1)\n",
    "w = np.array([sum(xtoc == i) for i in range(len(c))])"
   ]
  },
  {
   "cell_type": "markdown",
   "metadata": {},
   "source": [
    "Calculate new cluster centers using average from normalized data"
   ]
  },
  {
   "cell_type": "code",
   "execution_count": 6,
   "metadata": {},
   "outputs": [],
   "source": [
    "c_new = np.array([x_norm_stack[xtoc == i].mean(axis=0) for i in range(nclust1)])"
   ]
  },
  {
   "cell_type": "code",
   "execution_count": 7,
   "metadata": {},
   "outputs": [
    {
     "name": "stdout",
     "output_type": "stream",
     "text": [
      "CPU times: user 300 ms, sys: 8 ms, total: 308 ms\n",
      "Wall time: 323 ms\n"
     ]
    }
   ],
   "source": [
    "%%time\n",
    "ref = np.array((ide[0], 0, 0, 0))\n",
    "asf = ASF(ide, nad, ref, c_new, weights=w)\n",
    "opt.solve(asf.model)"
   ]
  },
  {
   "cell_type": "code",
   "execution_count": 47,
   "metadata": {},
   "outputs": [
    {
     "data": {
      "text/plain": [
       "array([  1.26427443e+08,   3.89994420e+06,   1.80326542e+05,\n",
       "         1.85847006e+04])"
      ]
     },
     "execution_count": 47,
     "metadata": {},
     "output_type": "execute_result"
    }
   ],
   "source": [
    "model_to_real_values(x_stack, xtoc, asf.model)"
   ]
  },
  {
   "cell_type": "markdown",
   "metadata": {},
   "source": [
    "## Trying to calculate ideal and nadir using clustering"
   ]
  },
  {
   "cell_type": "code",
   "execution_count": 48,
   "metadata": {},
   "outputs": [],
   "source": [
    "c_new_unscale = np.array([x_stack[xtoc == i].mean(axis=0) for i in range(nclust1)])"
   ]
  },
  {
   "cell_type": "code",
   "execution_count": 49,
   "metadata": {},
   "outputs": [],
   "source": [
    "data = c_new\n",
    "weights = w\n",
    "solver = SolverFactory('glpk')\n",
    "problems = []\n",
    "for i in range(np.shape(data)[-1]):\n",
    "    problems.append(BorealWeightedProblem(data[:, :, i], weights))\n",
    "for j in range(len(problems)):\n",
    "    solver.solve(problems[j].model)"
   ]
  },
  {
   "cell_type": "code",
   "execution_count": 57,
   "metadata": {},
   "outputs": [],
   "source": [
    "payoff = [[np.sum(cluster_to_value(c_new_unscale[:, :, i], res_to_list(problems[j].model), weights))\n",
    "                   for i in range(np.shape(data)[-1])]\n",
    "                  for j in range(len(problems))]\n",
    "ideal = np.max(payoff, axis=0)\n",
    "nadir = np.min(payoff, axis=0)"
   ]
  },
  {
   "cell_type": "code",
   "execution_count": 59,
   "metadata": {},
   "outputs": [
    {
     "data": {
      "text/plain": [
       "(array([  1.85745518e+08,   4.22843891e+06,   1.95555464e+05,\n",
       "          1.85860769e+04]),\n",
       " array([  9.41298716e+07,   3.75198024e+06,   8.17197798e+04,\n",
       "          1.27816665e+04]))"
      ]
     },
     "execution_count": 59,
     "metadata": {},
     "output_type": "execute_result"
    }
   ],
   "source": [
    "ideal, nadir"
   ]
  },
  {
   "cell_type": "code",
   "execution_count": 60,
   "metadata": {},
   "outputs": [
    {
     "data": {
      "text/plain": [
       "(array([  2.49966739e+08,   4.44900147e+06,   2.18153215e+05,\n",
       "          2.02252577e+04]),\n",
       " array([  3.09084573e+07,   2.83139915e+06,   8.02116726e+04,\n",
       "          1.19880519e+04]))"
      ]
     },
     "execution_count": 60,
     "metadata": {},
     "output_type": "execute_result"
    }
   ],
   "source": [
    "ide, nad"
   ]
  },
  {
   "cell_type": "markdown",
   "metadata": {},
   "source": [
    "## Verifying\n"
   ]
  },
  {
   "cell_type": "code",
   "execution_count": 63,
   "metadata": {},
   "outputs": [],
   "source": [
    "data = x_stack\n",
    "weights = np.ones(len(x_stack))\n",
    "solver = SolverFactory('glpk')\n",
    "problems = []\n",
    "for i in range(np.shape(data)[-1]):\n",
    "    problems.append(BorealWeightedProblem(data[:, :, i], weights))\n",
    "for j in range(len(problems)):\n",
    "    solver.solve(problems[j].model)"
   ]
  },
  {
   "cell_type": "code",
   "execution_count": 65,
   "metadata": {},
   "outputs": [],
   "source": [
    "payoff = [[np.sum(cluster_to_value(x_stack[:, :, i], res_to_list(problems[j].model), weights))\n",
    "                   for i in range(np.shape(data)[-1])]\n",
    "                  for j in range(len(problems))]\n",
    "ideal = np.max(payoff, axis=0)\n",
    "nadir = np.min(payoff, axis=0)"
   ]
  },
  {
   "cell_type": "code",
   "execution_count": 67,
   "metadata": {},
   "outputs": [
    {
     "data": {
      "text/plain": [
       "(array([ 0.,  0.,  0.,  0.]),\n",
       " array([  1.40000209e-02,  -4.99996822e-04,  -1.08652166e-05,\n",
       "          4.10918292e-05]))"
      ]
     },
     "execution_count": 67,
     "metadata": {},
     "output_type": "execute_result"
    }
   ],
   "source": [
    "ideal-ide, nadir-nad"
   ]
  },
  {
   "cell_type": "markdown",
   "metadata": {},
   "source": [
    "So it looks like that the calculating of ideal and nadir is possible using this method"
   ]
  }
 ],
 "metadata": {
  "kernelspec": {
   "display_name": "Python 3",
   "language": "python",
   "name": "python3"
  },
  "language_info": {
   "codemirror_mode": {
    "name": "ipython",
    "version": 3
   },
   "file_extension": ".py",
   "mimetype": "text/x-python",
   "name": "python",
   "nbconvert_exporter": "python",
   "pygments_lexer": "ipython3",
   "version": "3.5.2"
  }
 },
 "nbformat": 4,
 "nbformat_minor": 2
}
