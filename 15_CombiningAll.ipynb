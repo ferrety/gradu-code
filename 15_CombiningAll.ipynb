{
 "cells": [
  {
   "cell_type": "markdown",
   "metadata": {},
   "source": [
    "# Combining all together"
   ]
  },
  {
   "cell_type": "markdown",
   "metadata": {},
   "source": [
    "Now we have all the pieces necessary to make implement the interactive optimization process using clustering as surrogates and different scalarization functions. Yeah."
   ]
  },
  {
   "cell_type": "code",
   "execution_count": 1,
   "metadata": {},
   "outputs": [],
   "source": [
    " %matplotlib inline\n",
    "import seaborn\n",
    "import pandas as pd\n",
    "import numpy as np\n",
    "import matplotlib.pyplot as plt\n",
    "import os\n",
    "from ASF import ASF\n",
    "from gradutil import *\n",
    "from pyomo.opt import SolverFactory\n",
    "seedn = 1"
   ]
  },
  {
   "cell_type": "markdown",
   "metadata": {},
   "source": [
    "First lets take all the data in"
   ]
  },
  {
   "cell_type": "code",
   "execution_count": 2,
   "metadata": {},
   "outputs": [],
   "source": [
    "%%time\n",
    "revenue, carbon, deadwood, ha = init_boreal()\n",
    "n_revenue = nan_to_bau(revenue)\n",
    "n_carbon= nan_to_bau(carbon)\n",
    "n_deadwood = nan_to_bau(deadwood)\n",
    "n_ha = nan_to_bau(ha)\n",
    "ide = ideal(False)\n",
    "nad = nadir(False)\n",
    "opt = SolverFactory('glpk')"
   ]
  },
  {
   "cell_type": "code",
   "execution_count": 3,
   "metadata": {},
   "outputs": [],
   "source": [
    "x = pd.concat((n_revenue, n_carbon, n_deadwood, n_ha), axis=1)\n",
    "x_stack = np.dstack((n_revenue, n_carbon, n_deadwood, n_ha))"
   ]
  },
  {
   "cell_type": "markdown",
   "metadata": {},
   "source": [
    "Normalize all the columns in 0-1 scale"
   ]
  },
  {
   "cell_type": "code",
   "execution_count": 4,
   "metadata": {},
   "outputs": [],
   "source": [
    "%%time\n",
    "x_norm = normalize(x.values)\n",
    "x_norm_stack = normalize(x_stack)"
   ]
  },
  {
   "cell_type": "markdown",
   "metadata": {},
   "source": [
    "Cluster the data to some clusters and calculate correponding weights"
   ]
  },
  {
   "cell_type": "code",
   "execution_count": 5,
   "metadata": {},
   "outputs": [],
   "source": [
    "%%time \n",
    "nclust1 = 50\n",
    "c, xtoc, dist = cluster(x_norm, nclust1, seedn, verbose=1)\n",
    "w = np.array([sum(xtoc == i) for i in range(len(c))])"
   ]
  },
  {
   "cell_type": "markdown",
   "metadata": {},
   "source": [
    "Calculate new cluster centers using average from normalized data"
   ]
  },
  {
   "cell_type": "code",
   "execution_count": 6,
   "metadata": {},
   "outputs": [],
   "source": [
    "c_new = np.array([x_norm_stack[xtoc == i].mean(axis=0) for i in range(nclust1)])"
   ]
  },
  {
   "cell_type": "code",
   "execution_count": 7,
   "metadata": {},
   "outputs": [],
   "source": [
    "%%time\n",
    "ref = np.array((ide[0], 0, 0, 0))\n",
    "asf = ASF(ide, nad, ref, c_new, weights=w)\n",
    "opt.solve(asf.model)"
   ]
  },
  {
   "cell_type": "code",
   "execution_count": null,
   "metadata": {},
   "outputs": [],
   "source": [
    "model_to_real_values(x_stack, xtoc, asf.model)"
   ]
  },
  {
   "cell_type": "markdown",
   "metadata": {},
   "source": [
    "## Trying to calculate ideal and nadir using clustering"
   ]
  },
  {
   "cell_type": "code",
   "execution_count": null,
   "metadata": {},
   "outputs": [],
   "source": [
    "%%time \n",
    "nclust2 = 1000\n",
    "c2, xtoc2, dist2 = cluster(x_norm, nclust2, seedn, verbose=0)\n",
    "w2 = np.array([sum(xtoc2 == i) for i in range(len(c2))])\n",
    "c2_new = np.array([x_norm_stack[xtoc2 == i].mean(axis=0) for i in range(nclust2)])\n",
    "c2_new_unscale = np.array([x_stack[xtoc2 == i].mean(axis=0) for i in range(nclust2)])"
   ]
  },
  {
   "cell_type": "code",
   "execution_count": null,
   "metadata": {},
   "outputs": [],
   "source": [
    "%%time\n",
    "data = c2_new\n",
    "weights = w2\n",
    "solver = SolverFactory('glpk')\n",
    "problems = []\n",
    "for i in range(np.shape(data)[-1]):\n",
    "    problems.append(BorealWeightedProblem(data[:, :, i], weights))\n",
    "for j in range(len(problems)):\n",
    "    solver.solve(problems[j].model)\n",
    "payoff = [[np.sum(cluster_to_value(c2_new_unscale[:, :, i], res_to_list(problems[j].model), weights))\n",
    "                   for i in range(np.shape(data)[-1])]\n",
    "                  for j in range(len(problems))]\n",
    "ide_clust = np.max(payoff, axis=0)\n",
    "nad_clust = np.min(payoff, axis=0)"
   ]
  },
  {
   "cell_type": "code",
   "execution_count": null,
   "metadata": {},
   "outputs": [],
   "source": [
    "\n",
    "ide_clust, nad_clust"
   ]
  },
  {
   "cell_type": "code",
   "execution_count": null,
   "metadata": {},
   "outputs": [],
   "source": [
    "ide, nad"
   ]
  },
  {
   "cell_type": "markdown",
   "metadata": {},
   "source": [
    "There clearly are differences in the vectors. The surrogate itself is not updatable so there clearly is no ways to improve the attained results."
   ]
  },
  {
   "cell_type": "code",
   "execution_count": null,
   "metadata": {},
   "outputs": [],
   "source": [
    "ide-ide_clust"
   ]
  },
  {
   "cell_type": "code",
   "execution_count": null,
   "metadata": {},
   "outputs": [],
   "source": [
    "nad-nad_clust"
   ]
  },
  {
   "cell_type": "markdown",
   "metadata": {},
   "source": [
    "Now the interesting part is if the different vectors really have any effects on the results. Even though the surrogate ideal and nadir both more averaged than the real ones, we are still dealing with the same more averaged clusters in the optimization."
   ]
  },
  {
   "cell_type": "markdown",
   "metadata": {},
   "source": [
    "## Effect of ideal and nadir"
   ]
  },
  {
   "cell_type": "markdown",
   "metadata": {},
   "source": [
    "We could now test that by doing the same optimization (same reference) by using different ideal and nadir values. Especially the \"edges\" of Pareto front are interesting."
   ]
  },
  {
   "cell_type": "markdown",
   "metadata": {},
   "source": [
    "#### Reference to 0 0 0 0 "
   ]
  },
  {
   "cell_type": "code",
   "execution_count": null,
   "metadata": {},
   "outputs": [],
   "source": [
    "ref_test = np.array((0,0,0,0))"
   ]
  },
  {
   "cell_type": "code",
   "execution_count": null,
   "metadata": {},
   "outputs": [],
   "source": [
    "asf = ASF(ide, nad, ref_test, c_new, weights=w)\n",
    "opt.solve(asf.model)\n",
    "real_0 = model_to_real_values(x_stack, xtoc, asf.model)"
   ]
  },
  {
   "cell_type": "code",
   "execution_count": null,
   "metadata": {},
   "outputs": [],
   "source": [
    "asf = ASF(ide_clust, nad_clust, ref_test, c_new, weights=w)\n",
    "opt.solve(asf.model)\n",
    "cluster_0 = model_to_real_values(x_stack, xtoc, asf.model)"
   ]
  },
  {
   "cell_type": "code",
   "execution_count": null,
   "metadata": {},
   "outputs": [],
   "source": [
    "real_0-cluster_0"
   ]
  },
  {
   "cell_type": "markdown",
   "metadata": {},
   "source": [
    "Well, there is difference. As we can see, real ideal and nadir give smaller value for the revenue value and greater for all the rest."
   ]
  },
  {
   "cell_type": "markdown",
   "metadata": {},
   "source": [
    "#### Reference to ideal"
   ]
  },
  {
   "cell_type": "markdown",
   "metadata": {},
   "source": [
    "In this test it is important to note difference if we are referencing to the real ideal or the ideal of clusters. Results are of course different in these cases."
   ]
  },
  {
   "cell_type": "code",
   "execution_count": null,
   "metadata": {},
   "outputs": [],
   "source": [
    "asf = ASF(ide, nad, ide, c_new, weights=w)\n",
    "opt.solve(asf.model)\n",
    "real_ide = model_to_real_values(x_stack, xtoc, asf.model)"
   ]
  },
  {
   "cell_type": "code",
   "execution_count": null,
   "metadata": {},
   "outputs": [],
   "source": [
    "asf = ASF(ide_clust, nad_clust, ide_clust, c_new, weights=w)\n",
    "opt.solve(asf.model)\n",
    "cluster_ide = model_to_real_values(x_stack, xtoc, asf.model)"
   ]
  },
  {
   "cell_type": "code",
   "execution_count": null,
   "metadata": {},
   "outputs": [],
   "source": [
    "real_ide-cluster_ide"
   ]
  },
  {
   "cell_type": "markdown",
   "metadata": {},
   "source": [
    "The differences are still big, but differently than previously. I still don't know what to say about that."
   ]
  },
  {
   "cell_type": "markdown",
   "metadata": {},
   "source": [
    "The essence of this could better be desribed if we try to optimize just one objective. So let's refer to the ideal of the carbon objective."
   ]
  },
  {
   "cell_type": "code",
   "execution_count": null,
   "metadata": {},
   "outputs": [],
   "source": [
    "asf = ASF(ide, nad, np.array((0,ide[1],0,0)), c_new, weights=w)\n",
    "opt.solve(asf.model)\n",
    "real_carbon = model_to_real_values(x_stack, xtoc, asf.model)"
   ]
  },
  {
   "cell_type": "code",
   "execution_count": null,
   "metadata": {},
   "outputs": [],
   "source": [
    "asf = ASF(ide_clust, nad_clust, np.array((0,ide_clust[1],0,0)), c_new, weights=w)\n",
    "opt.solve(asf.model)\n",
    "cluster_carbon = model_to_real_values(x_stack, xtoc, asf.model)"
   ]
  },
  {
   "cell_type": "code",
   "execution_count": null,
   "metadata": {},
   "outputs": [],
   "source": [
    "real_carbon-cluster_carbon"
   ]
  },
  {
   "cell_type": "markdown",
   "metadata": {},
   "source": [
    "This is exactly the same than when using the ideal!?"
   ]
  },
  {
   "cell_type": "code",
   "execution_count": null,
   "metadata": {},
   "outputs": [],
   "source": [
    "real_ide - real_carbon"
   ]
  },
  {
   "cell_type": "markdown",
   "metadata": {},
   "source": [
    "We even get the same point..."
   ]
  },
  {
   "cell_type": "markdown",
   "metadata": {},
   "source": [
    "How about the deadwood?"
   ]
  },
  {
   "cell_type": "code",
   "execution_count": null,
   "metadata": {},
   "outputs": [],
   "source": [
    "asf = ASF(ide, nad, np.array((0,0,ide[2],0)), c_new, weights=w)\n",
    "opt.solve(asf.model)\n",
    "real_deadwood = model_to_real_values(x_stack, xtoc, asf.model)"
   ]
  },
  {
   "cell_type": "code",
   "execution_count": null,
   "metadata": {},
   "outputs": [],
   "source": [
    "asf = ASF(ide_clust, nad_clust, np.array((0,0,ide_clust[2],0)), c_new, weights=w)\n",
    "opt.solve(asf.model)\n",
    "cluster_deadwood = model_to_real_values(x_stack, xtoc, asf.model)"
   ]
  },
  {
   "cell_type": "code",
   "execution_count": null,
   "metadata": {},
   "outputs": [],
   "source": [
    "real_deadwood-cluster_deadwood"
   ]
  },
  {
   "cell_type": "markdown",
   "metadata": {},
   "source": [
    "And Habitat index?"
   ]
  },
  {
   "cell_type": "code",
   "execution_count": null,
   "metadata": {},
   "outputs": [],
   "source": [
    "asf = ASF(ide, nad, np.array((0,0,0,ide[3])), c_new, weights=w)\n",
    "opt.solve(asf.model)\n",
    "real_ha = model_to_real_values(x_stack, xtoc, asf.model)"
   ]
  },
  {
   "cell_type": "code",
   "execution_count": null,
   "metadata": {},
   "outputs": [],
   "source": [
    "asf = ASF(ide_clust, nad_clust, np.array((0,0,0,ide_clust[3])), c_new, weights=w)\n",
    "opt.solve(asf.model)\n",
    "cluster_ha = model_to_real_values(x_stack, xtoc, asf.model)"
   ]
  },
  {
   "cell_type": "code",
   "execution_count": null,
   "metadata": {},
   "outputs": [],
   "source": [
    "real_ha-cluster_ha"
   ]
  },
  {
   "cell_type": "markdown",
   "metadata": {},
   "source": [
    "So it looks like that there are some interesting relationships between ideals:\n",
    "- In the revenue and the carbon there are greater differences in the ideal and nadir vectors compared to the real values. Probably because of this also the results attained by reference points are also more different when using real ideal or clustered ideal\n",
    "- In the deadwood and the habitat the differences are smaller and so also results of references are more accurate."
   ]
  }
 ],
 "metadata": {
  "git": {
   "suppress_outputs": true
  },
  "kernelspec": {
   "display_name": "Python 3",
   "language": "python",
   "name": "python3"
  },
  "language_info": {
   "codemirror_mode": {
    "name": "ipython",
    "version": 3
   },
   "file_extension": ".py",
   "mimetype": "text/x-python",
   "name": "python",
   "nbconvert_exporter": "python",
   "pygments_lexer": "ipython3",
   "version": "3.5.2"
  }
 },
 "nbformat": 4,
 "nbformat_minor": 2
}