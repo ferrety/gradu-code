{
 "cells": [
  {
   "cell_type": "markdown",
   "metadata": {},
   "source": [
    "# Domain knowledge steps in\n"
   ]
  },
  {
   "cell_type": "markdown",
   "metadata": {},
   "source": [
    "After the talks with Dmitry I decided that every nan-value should be replaced with corresponding BAU value. Let's then do that and try same clusterings as before:"
   ]
  },
  {
   "cell_type": "code",
   "execution_count": 2,
   "metadata": {},
   "outputs": [],
   "source": [
    "from gradutil import *\n",
    "import pandas as pd\n",
    "from pyomo.opt import SolverFactory"
   ]
  },
  {
   "cell_type": "code",
   "execution_count": 3,
   "metadata": {},
   "outputs": [],
   "source": [
    "revenue, carbon, deadwood, ha = init_boreal()\n",
    "x_revenue = nan_to_bau(revenue)\n",
    "x_carbon = nan_to_bau(carbon)\n",
    "x_deadwood = nan_to_bau(deadwood)\n",
    "x_ha = nan_to_bau(ha)"
   ]
  },
  {
   "cell_type": "code",
   "execution_count": 4,
   "metadata": {},
   "outputs": [
    {
     "name": "stderr",
     "output_type": "stream",
     "text": [
      "/home/jousi/Documents/gradujose/code/gradutil.py:40: RuntimeWarning: invalid value encountered in true_divide\n",
      "  norm_data = np.where(normax != 0., norm_data / normax, 0)\n"
     ]
    }
   ],
   "source": [
    "x = np.concatenate((x_revenue.values, x_carbon.values, x_deadwood.values, x_ha.values), axis=1)\n",
    "x_norm = normalize(x)"
   ]
  },
  {
   "cell_type": "code",
   "execution_count": 5,
   "metadata": {},
   "outputs": [],
   "source": [
    "opt = SolverFactory('glpk')\n",
    "value_revenue, value_carbon, value_deadwood, value_ha = cNopt(x, x_norm, x, opt, nclust=10, seed=2)"
   ]
  },
  {
   "cell_type": "code",
   "execution_count": 6,
   "metadata": {},
   "outputs": [
    {
     "data": {
      "text/plain": [
       "(246209415.44215032,\n",
       " 4430113.0166199952,\n",
       " 214391.98103030928,\n",
       " 19623.885137465888)"
      ]
     },
     "execution_count": 6,
     "metadata": {},
     "output_type": "execute_result"
    }
   ],
   "source": [
    "value_revenue, value_carbon, value_deadwood, value_ha"
   ]
  },
  {
   "cell_type": "code",
   "execution_count": 7,
   "metadata": {},
   "outputs": [],
   "source": [
    "tmp_x = np.concatenate((x_ha.values,x_ha.values,x_ha.values,x_ha.values), axis=1)\n",
    "tmp = cNopt(tmp_x, normalize(tmp_x), tmp_x, opt, nclust=100, seed=4)"
   ]
  },
  {
   "cell_type": "code",
   "execution_count": 8,
   "metadata": {},
   "outputs": [
    {
     "name": "stdout",
     "output_type": "stream",
     "text": [
      "kmeans: X (29666, 7)  centres (50, 7)  delta=0.0001  maxiter=100  metric=cosine\n",
      "kmeans: 100 iterations  cluster sizes: array([ 376,  677,  537,  220,  836,  397,  549,  252,  765,  876,   98,\n",
      "       1451,  264,  722, 1278,  319,  345,  319,  624,  322,  292, 1089,\n",
      "        875,  338,  822,  618,  562,  713,  393,  379, 1205,  442,  556,\n",
      "        459,  383,  401, 1009,  727,  836,  605,  184,  479,  668,  748,\n",
      "        455,  121, 1061,  103,  621, 1295])\n"
     ]
    }
   ],
   "source": [
    "centers, xtoc, dist = cluster(x_ha.values, 50, seed=3)"
   ]
  },
  {
   "cell_type": "code",
   "execution_count": 9,
   "metadata": {},
   "outputs": [
    {
     "name": "stdout",
     "output_type": "stream",
     "text": [
      "CPU times: user 5.1 s, sys: 8 ms, total: 5.11 s\n",
      "Wall time: 5.12 s\n"
     ]
    }
   ],
   "source": [
    "%%time\n",
    "weights = np.array([sum(xtoc==i) for i in range(len(centers))])\n",
    "clustProblemHA = BorealWeightedProblem(centers,weights)\n",
    "opt = SolverFactory('glpk')\n",
    "resClustHA = opt.solve(clustProblemHA.model, False)"
   ]
  },
  {
   "cell_type": "code",
   "execution_count": 10,
   "metadata": {},
   "outputs": [
    {
     "data": {
      "text/plain": [
       "0.94938747060443573"
      ]
     },
     "execution_count": 10,
     "metadata": {},
     "output_type": "execute_result"
    }
   ],
   "source": [
    "val_ha = model_to_real_values(x_ha.values, xtoc, clustProblemHA.model)\n",
    "real_ha = real_solutions()['ha']\n",
    "(val_ha-real_ha)/real_ha"
   ]
  },
  {
   "cell_type": "markdown",
   "metadata": {},
   "source": [
    "So well, the Nan to BAU by itself didn't really help..."
   ]
  }
 ],
 "metadata": {
  "kernelspec": {
   "display_name": "Python 3",
   "language": "python",
   "name": "python3"
  },
  "language_info": {
   "codemirror_mode": {
    "name": "ipython",
    "version": 3
   },
   "file_extension": ".py",
   "mimetype": "text/x-python",
   "name": "python",
   "nbconvert_exporter": "python",
   "pygments_lexer": "ipython3",
   "version": "3.5.2"
  }
 },
 "nbformat": 4,
 "nbformat_minor": 2
}
