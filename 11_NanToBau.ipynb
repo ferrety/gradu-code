{
 "cells": [
  {
   "cell_type": "markdown",
   "metadata": {},
   "source": [
    "# Domain knowledge steps in\n"
   ]
  },
  {
   "cell_type": "markdown",
   "metadata": {},
   "source": [
    "After the talks with Dmitry I decided that every nan-value should be replaced with corresponding BAU value. Let's then do that and try same clusterings as before:"
   ]
  },
  {
   "cell_type": "code",
   "execution_count": 1,
   "metadata": {},
   "outputs": [],
   "source": [
    "from gradutil import *\n",
    "import pandas as pd\n",
    "from pyomo.opt import SolverFactory"
   ]
  },
  {
   "cell_type": "code",
   "execution_count": 2,
   "metadata": {},
   "outputs": [],
   "source": [
    "revenue, carbon, deadwood, ha = init_boreal()\n",
    "x_revenue = nan_to_bau(revenue)\n",
    "x_carbon = nan_to_bau(carbon)\n",
    "x_deadwood = nan_to_bau(deadwood)\n",
    "x_ha = nan_to_bau(ha)\n",
    "x = np.concatenate((x_revenue.values, x_carbon.values, x_deadwood.values, x_ha.values), axis=1)"
   ]
  },
  {
   "cell_type": "code",
   "execution_count": 3,
   "metadata": {},
   "outputs": [],
   "source": [
    "n_revenue = new_normalize(x_revenue.values)\n",
    "n_carbon = new_normalize(x_carbon.values)\n",
    "n_deadwood = new_normalize(x_deadwood.values)\n",
    "n_ha = new_normalize(x_ha.values)\n",
    "x_norm = np.concatenate((n_revenue, n_carbon, n_deadwood, n_ha), axis=1)"
   ]
  },
  {
   "cell_type": "code",
   "execution_count": 4,
   "metadata": {},
   "outputs": [],
   "source": [
    "opt = SolverFactory('glpk')\n",
    "value_revenue, value_carbon, value_deadwood, value_ha = cNopt(x, x_norm, x, opt, nclust=10, seed=2)"
   ]
  },
  {
   "cell_type": "code",
   "execution_count": 5,
   "metadata": {},
   "outputs": [],
   "source": [
    "value_revenue, value_carbon, value_deadwood, value_ha"
   ]
  },
  {
   "cell_type": "code",
   "execution_count": 6,
   "metadata": {},
   "outputs": [],
   "source": [
    "tmp_x = np.concatenate((x_ha.values,x_ha.values,x_ha.values,x_ha.values), axis=1)\n",
    "tmp = cNopt(tmp_x, normalize(tmp_x), tmp_x, opt, nclust=100, seed=4)"
   ]
  },
  {
   "cell_type": "code",
   "execution_count": 7,
   "metadata": {},
   "outputs": [],
   "source": [
    "centers, xtoc, dist = cluster(x_ha.values, 50, seed=3)"
   ]
  },
  {
   "cell_type": "code",
   "execution_count": 8,
   "metadata": {},
   "outputs": [],
   "source": [
    "%%time\n",
    "weights = np.array([sum(xtoc==i) for i in range(len(centers))])\n",
    "clustProblemHA = BorealWeightedProblem(centers,weights)\n",
    "opt = SolverFactory('glpk')\n",
    "resClustHA = opt.solve(clustProblemHA.model, False)"
   ]
  },
  {
   "cell_type": "code",
   "execution_count": 10,
   "metadata": {},
   "outputs": [],
   "source": [
    "val_ha = model_to_real_values(x_ha.values, clustProblemHA.model, xtoc)\n",
    "real_ha = ideal()['ha']\n",
    "(val_ha-real_ha)/real_ha"
   ]
  },
  {
   "cell_type": "markdown",
   "metadata": {},
   "source": [
    "So the difference is quite small now!"
   ]
  }
 ],
 "metadata": {
  "git": {
   "suppress_outputs": true
  },
  "kernelspec": {
   "display_name": "Python 3",
   "language": "python",
   "name": "python3"
  },
  "language_info": {
   "codemirror_mode": {
    "name": "ipython",
    "version": 3
   },
   "file_extension": ".py",
   "mimetype": "text/x-python",
   "name": "python",
   "nbconvert_exporter": "python",
   "pygments_lexer": "ipython3",
   "version": "3.5.2"
  }
 },
 "nbformat": 4,
 "nbformat_minor": 2
}