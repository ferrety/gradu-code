{
 "cells": [
  {
   "cell_type": "code",
   "execution_count": 1,
   "metadata": {},
   "outputs": [],
   "source": [
    " %matplotlib inline\n",
    "import seaborn\n",
    "import pandas as pd\n",
    "import numpy as np\n",
    "import matplotlib.pyplot as plt\n",
    "import os"
   ]
  },
  {
   "cell_type": "code",
   "execution_count": 2,
   "metadata": {},
   "outputs": [],
   "source": [
    "data_dir = os.path.join(os.getcwd(), '../boreal_data')\n",
    "\n",
    "carbon = pd.read_csv(os.path.join(data_dir, 'Carbon_storage.csv'))\n",
    "HA = pd.read_csv(os.path.join(data_dir, 'Combined_HA.csv'))\n",
    "deadwood = pd.read_csv(os.path.join(data_dir, 'Deadwood_volume.csv'))\n",
    "revenue = pd.read_csv(os.path.join(data_dir, 'Timber_revenues.csv'))"
   ]
  },
  {
   "cell_type": "code",
   "execution_count": 3,
   "metadata": {},
   "outputs": [],
   "source": [
    "carbon_clean = carbon.dropna(axis=0, how='any')\n",
    "HA_clean = HA.dropna(axis=0, how='any')\n",
    "deadwood_clean = deadwood.dropna(axis=0, how='any')\n",
    "revenue_clean = revenue.dropna(axis=0, how='any')"
   ]
  },
  {
   "cell_type": "markdown",
   "metadata": {},
   "source": [
    "# Optimization"
   ]
  },
  {
   "cell_type": "markdown",
   "metadata": {},
   "source": [
    "### Carbon without Nans"
   ]
  },
  {
   "cell_type": "markdown",
   "metadata": {},
   "source": [
    "Lets solve the problem with just one objective and using data without Nan-values"
   ]
  },
  {
   "cell_type": "code",
   "execution_count": 4,
   "metadata": {
    "scrolled": true
   },
   "outputs": [
    {
     "name": "stdout",
     "output_type": "stream",
     "text": [
      "CPU times: user 15.3 s, sys: 248 ms, total: 15.6 s\n",
      "Wall time: 1min 11s\n"
     ]
    }
   ],
   "source": [
    "%%time\n",
    "from Boreal import BorealSolver\n",
    "\n",
    "bsolver = BorealSolver('glpk', False)\n",
    "bsolver.solveBoreal(carbon_clean)"
   ]
  },
  {
   "cell_type": "code",
   "execution_count": 5,
   "metadata": {},
   "outputs": [
    {
     "name": "stdout",
     "output_type": "stream",
     "text": [
      "Handling, # of stands\n",
      "BAU      19\n",
      "SA       12775\n",
      "EXT10    140\n",
      "EXT30    164\n",
      "GTR30    67\n",
      "NTSR     19\n",
      "NTLR     3609\n"
     ]
    }
   ],
   "source": [
    "res_dict = dict()\n",
    "for i in bsolver.model.I:\n",
    "    for j in bsolver.model.J:\n",
    "        res_dict[j] = res_dict.get(j,0) + int(bsolver.model.x[i,j].value)\n",
    "print('Handling, # of stands')        \n",
    "for key in res_dict:\n",
    "    print(\"{:8} {}\".format(list(carbon_clean)[key], res_dict[key]))"
   ]
  },
  {
   "cell_type": "markdown",
   "metadata": {},
   "source": [
    "So it looks like we really are able to solve this problem using the original data! (Without Nans)"
   ]
  },
  {
   "cell_type": "markdown",
   "metadata": {},
   "source": [
    "### Carbon where Nan:s as Zeros"
   ]
  },
  {
   "cell_type": "markdown",
   "metadata": {},
   "source": [
    "Lets replace Nan:s with 0:s and lets try to solve the problem. All the single optimization tasks are maximizing, so in the final solution there should be no zeros anyway. (We can check that later)"
   ]
  },
  {
   "cell_type": "code",
   "execution_count": 6,
   "metadata": {},
   "outputs": [],
   "source": [
    "carbon_zeros = carbon.copy()\n",
    "carbon_zeros[carbon_zeros.isnull()] = 0"
   ]
  },
  {
   "cell_type": "code",
   "execution_count": 7,
   "metadata": {
    "scrolled": true
   },
   "outputs": [
    {
     "name": "stdout",
     "output_type": "stream",
     "text": [
      "CPU times: user 27.2 s, sys: 284 ms, total: 27.5 s\n",
      "Wall time: 3min 50s\n"
     ]
    }
   ],
   "source": [
    "%%time\n",
    "from Boreal import BorealSolver\n",
    "\n",
    "zero_bsolver = BorealSolver('glpk', False)\n",
    "zero_bsolver.solveBoreal(carbon_zeros)"
   ]
  },
  {
   "cell_type": "code",
   "execution_count": 8,
   "metadata": {
    "scrolled": true
   },
   "outputs": [
    {
     "name": "stdout",
     "output_type": "stream",
     "text": [
      "Handling, # of stands\n",
      "BAU      2681\n",
      "SA       22905\n",
      "EXT10    174\n",
      "EXT30    168\n",
      "GTR30    79\n",
      "NTSR     48\n",
      "NTLR     3611\n"
     ]
    }
   ],
   "source": [
    "res_dict = dict()\n",
    "for i in zero_bsolver.model.I:\n",
    "    for j in zero_bsolver.model.J:\n",
    "        res_dict[j] = res_dict.get(j,0) + int(zero_bsolver.model.x[i,j].value)\n",
    "print('Handling, # of stands')        \n",
    "for key in res_dict:\n",
    "    print(\"{:8} {}\".format(list(carbon_clean)[key], res_dict[key]))"
   ]
  },
  {
   "cell_type": "code",
   "execution_count": 9,
   "metadata": {},
   "outputs": [],
   "source": [
    "lst = []\n",
    "for i in zero_bsolver.model.I:\n",
    "    for j in zero_bsolver.model.J:\n",
    "        if zero_bsolver.model.x[i,j].value == 1:\n",
    "            lst.append(carbon.iloc[i,j])"
   ]
  },
  {
   "cell_type": "code",
   "execution_count": 10,
   "metadata": {},
   "outputs": [
    {
     "data": {
      "text/plain": [
       "0.70306000000000002"
      ]
     },
     "execution_count": 10,
     "metadata": {},
     "output_type": "execute_result"
    }
   ],
   "source": [
    "min(lst)"
   ]
  },
  {
   "cell_type": "code",
   "execution_count": 11,
   "metadata": {},
   "outputs": [
    {
     "data": {
      "text/plain": [
       "2059.9899999999998"
      ]
     },
     "execution_count": 11,
     "metadata": {},
     "output_type": "execute_result"
    }
   ],
   "source": [
    "max(lst)"
   ]
  },
  {
   "cell_type": "code",
   "execution_count": 12,
   "metadata": {},
   "outputs": [
    {
     "data": {
      "text/plain": [
       "0.52839099999999994"
      ]
     },
     "execution_count": 12,
     "metadata": {},
     "output_type": "execute_result"
    }
   ],
   "source": [
    "np.min(carbon.dropna(axis=0, how='any').values)"
   ]
  },
  {
   "cell_type": "code",
   "execution_count": 13,
   "metadata": {},
   "outputs": [
    {
     "data": {
      "text/plain": [
       "2059.9899999999998"
      ]
     },
     "execution_count": 13,
     "metadata": {},
     "output_type": "execute_result"
    }
   ],
   "source": [
    "np.max(carbon.dropna(axis=0, how='any').values)"
   ]
  },
  {
   "cell_type": "markdown",
   "metadata": {},
   "source": [
    "# Clustering"
   ]
  },
  {
   "cell_type": "markdown",
   "metadata": {},
   "source": [
    "### Feature selection"
   ]
  },
  {
   "cell_type": "code",
   "execution_count": 14,
   "metadata": {},
   "outputs": [
    {
     "data": {
      "text/html": [
       "<div>\n",
       "<style scoped>\n",
       "    .dataframe tbody tr th:only-of-type {\n",
       "        vertical-align: middle;\n",
       "    }\n",
       "\n",
       "    .dataframe tbody tr th {\n",
       "        vertical-align: top;\n",
       "    }\n",
       "\n",
       "    .dataframe thead th {\n",
       "        text-align: right;\n",
       "    }\n",
       "</style>\n",
       "<table border=\"1\" class=\"dataframe\">\n",
       "  <thead>\n",
       "    <tr style=\"text-align: right;\">\n",
       "      <th></th>\n",
       "      <th>BAU</th>\n",
       "      <th>SA</th>\n",
       "      <th>EXT10</th>\n",
       "      <th>EXT30</th>\n",
       "      <th>GTR30</th>\n",
       "      <th>NTSR</th>\n",
       "      <th>NTLR</th>\n",
       "    </tr>\n",
       "  </thead>\n",
       "  <tbody>\n",
       "    <tr>\n",
       "      <th>BAU</th>\n",
       "      <td>1.000000</td>\n",
       "      <td>0.893154</td>\n",
       "      <td>0.986115</td>\n",
       "      <td>0.936001</td>\n",
       "      <td>0.996940</td>\n",
       "      <td>0.970110</td>\n",
       "      <td>0.945243</td>\n",
       "    </tr>\n",
       "    <tr>\n",
       "      <th>SA</th>\n",
       "      <td>0.893154</td>\n",
       "      <td>1.000000</td>\n",
       "      <td>0.911547</td>\n",
       "      <td>0.984990</td>\n",
       "      <td>0.933510</td>\n",
       "      <td>0.849338</td>\n",
       "      <td>0.852711</td>\n",
       "    </tr>\n",
       "    <tr>\n",
       "      <th>EXT10</th>\n",
       "      <td>0.986115</td>\n",
       "      <td>0.911547</td>\n",
       "      <td>1.000000</td>\n",
       "      <td>0.949011</td>\n",
       "      <td>0.984064</td>\n",
       "      <td>0.942080</td>\n",
       "      <td>0.946669</td>\n",
       "    </tr>\n",
       "    <tr>\n",
       "      <th>EXT30</th>\n",
       "      <td>0.936001</td>\n",
       "      <td>0.984990</td>\n",
       "      <td>0.949011</td>\n",
       "      <td>1.000000</td>\n",
       "      <td>0.951313</td>\n",
       "      <td>0.873825</td>\n",
       "      <td>0.874188</td>\n",
       "    </tr>\n",
       "    <tr>\n",
       "      <th>GTR30</th>\n",
       "      <td>0.996940</td>\n",
       "      <td>0.933510</td>\n",
       "      <td>0.984064</td>\n",
       "      <td>0.951313</td>\n",
       "      <td>1.000000</td>\n",
       "      <td>0.960060</td>\n",
       "      <td>0.934638</td>\n",
       "    </tr>\n",
       "    <tr>\n",
       "      <th>NTSR</th>\n",
       "      <td>0.970110</td>\n",
       "      <td>0.849338</td>\n",
       "      <td>0.942080</td>\n",
       "      <td>0.873825</td>\n",
       "      <td>0.960060</td>\n",
       "      <td>1.000000</td>\n",
       "      <td>0.947336</td>\n",
       "    </tr>\n",
       "    <tr>\n",
       "      <th>NTLR</th>\n",
       "      <td>0.945243</td>\n",
       "      <td>0.852711</td>\n",
       "      <td>0.946669</td>\n",
       "      <td>0.874188</td>\n",
       "      <td>0.934638</td>\n",
       "      <td>0.947336</td>\n",
       "      <td>1.000000</td>\n",
       "    </tr>\n",
       "  </tbody>\n",
       "</table>\n",
       "</div>"
      ],
      "text/plain": [
       "            BAU        SA     EXT10     EXT30     GTR30      NTSR      NTLR\n",
       "BAU    1.000000  0.893154  0.986115  0.936001  0.996940  0.970110  0.945243\n",
       "SA     0.893154  1.000000  0.911547  0.984990  0.933510  0.849338  0.852711\n",
       "EXT10  0.986115  0.911547  1.000000  0.949011  0.984064  0.942080  0.946669\n",
       "EXT30  0.936001  0.984990  0.949011  1.000000  0.951313  0.873825  0.874188\n",
       "GTR30  0.996940  0.933510  0.984064  0.951313  1.000000  0.960060  0.934638\n",
       "NTSR   0.970110  0.849338  0.942080  0.873825  0.960060  1.000000  0.947336\n",
       "NTLR   0.945243  0.852711  0.946669  0.874188  0.934638  0.947336  1.000000"
      ]
     },
     "execution_count": 14,
     "metadata": {},
     "output_type": "execute_result"
    }
   ],
   "source": [
    "carbon.corr()"
   ]
  },
  {
   "cell_type": "markdown",
   "metadata": {},
   "source": [
    "### Clustering according to the features"
   ]
  }
 ],
 "metadata": {
  "kernelspec": {
   "display_name": "Python 3",
   "language": "python",
   "name": "python3"
  },
  "language_info": {
   "codemirror_mode": {
    "name": "ipython",
    "version": 3
   },
   "file_extension": ".py",
   "mimetype": "text/x-python",
   "name": "python",
   "nbconvert_exporter": "python",
   "pygments_lexer": "ipython3",
   "version": "3.5.2"
  }
 },
 "nbformat": 4,
 "nbformat_minor": 2
}
